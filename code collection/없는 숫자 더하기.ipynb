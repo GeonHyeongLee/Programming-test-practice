{
 "cells": [
  {
   "cell_type": "code",
   "execution_count": 11,
   "id": "ff1c0540",
   "metadata": {},
   "outputs": [],
   "source": [
    "# 0~9까지의 숫자 중 numbers에서 빠진 것들끼리 더해준다\n",
    "def solution(numbers):\n",
    "    all_num = [0,1,2,3,4,5,6,7,8,9]\n",
    "    for i in numbers:\n",
    "        if i in all_num:\n",
    "            all_num.remove(i)\n",
    "    return sum(all_num)"
   ]
  },
  {
   "cell_type": "code",
   "execution_count": 12,
   "id": "7c730a78",
   "metadata": {},
   "outputs": [
    {
     "data": {
      "text/plain": [
       "14"
      ]
     },
     "execution_count": 12,
     "metadata": {},
     "output_type": "execute_result"
    }
   ],
   "source": [
    "solution([1,2,3,4,6,7,8,0])"
   ]
  },
  {
   "cell_type": "code",
   "execution_count": null,
   "id": "fa6dcd2a",
   "metadata": {},
   "outputs": [],
   "source": []
  }
 ],
 "metadata": {
  "kernelspec": {
   "display_name": "Python 3 (ipykernel)",
   "language": "python",
   "name": "python3"
  },
  "language_info": {
   "codemirror_mode": {
    "name": "ipython",
    "version": 3
   },
   "file_extension": ".py",
   "mimetype": "text/x-python",
   "name": "python",
   "nbconvert_exporter": "python",
   "pygments_lexer": "ipython3",
   "version": "3.11.4"
  }
 },
 "nbformat": 4,
 "nbformat_minor": 5
}
