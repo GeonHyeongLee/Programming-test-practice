{
 "cells": [
  {
   "cell_type": "code",
   "execution_count": 58,
   "id": "88e0da2e",
   "metadata": {},
   "outputs": [],
   "source": [
    "def solution(k, m, score):\n",
    "    answer = 0\n",
    "    box_num = len(score) // m\n",
    "    box = []\n",
    "    score.sort(reverse=True)\n",
    "    for i in range(m*box_num):\n",
    "        box.append(score[i])\n",
    "        score.remove(score[i])\n",
    "    \n",
    "    for i in range(len(box)//m):\n",
    "        answer += m*min(box[m*i:m*(i+1)]) # 0,1,2 3,4,5 6,7,8\n",
    "    return answer\n"
   ]
  },
  {
   "cell_type": "code",
   "execution_count": null,
   "id": "4aa76961",
   "metadata": {},
   "outputs": [],
   "source": [
    "def solution(k,m,score):\n",
    "    answer = 0\n",
    "    score.sort(reverse=True)\n",
    "    for i in range(0, len(score), m):\n",
    "        if len(score[i:i+m]) == m:\n",
    "            answer += min(score[i:i+m]) * m\n",
    "    return answer"
   ]
  },
  {
   "cell_type": "code",
   "execution_count": 59,
   "id": "04f38eb3",
   "metadata": {},
   "outputs": [
    {
     "data": {
      "text/plain": [
       "4"
      ]
     },
     "execution_count": 59,
     "metadata": {},
     "output_type": "execute_result"
    }
   ],
   "source": [
    "solution(3,4,[1,2,3,1,2,3,1])"
   ]
  },
  {
   "cell_type": "code",
   "execution_count": 60,
   "id": "68688537",
   "metadata": {},
   "outputs": [
    {
     "ename": "IndexError",
     "evalue": "list index out of range",
     "output_type": "error",
     "traceback": [
      "\u001b[1;31m---------------------------------------------------------------------------\u001b[0m",
      "\u001b[1;31mIndexError\u001b[0m                                Traceback (most recent call last)",
      "Cell \u001b[1;32mIn[60], line 1\u001b[0m\n\u001b[1;32m----> 1\u001b[0m solution(\u001b[38;5;241m4\u001b[39m,\u001b[38;5;241m3\u001b[39m,[\u001b[38;5;241m4\u001b[39m,\u001b[38;5;241m1\u001b[39m,\u001b[38;5;241m2\u001b[39m,\u001b[38;5;241m2\u001b[39m,\u001b[38;5;241m4\u001b[39m,\u001b[38;5;241m4\u001b[39m,\u001b[38;5;241m4\u001b[39m,\u001b[38;5;241m4\u001b[39m,\u001b[38;5;241m1\u001b[39m,\u001b[38;5;241m2\u001b[39m,\u001b[38;5;241m4\u001b[39m,\u001b[38;5;241m2\u001b[39m])\n",
      "Cell \u001b[1;32mIn[58], line 7\u001b[0m, in \u001b[0;36msolution\u001b[1;34m(k, m, score)\u001b[0m\n\u001b[0;32m      5\u001b[0m score\u001b[38;5;241m.\u001b[39msort(reverse\u001b[38;5;241m=\u001b[39m\u001b[38;5;28;01mTrue\u001b[39;00m)\n\u001b[0;32m      6\u001b[0m \u001b[38;5;28;01mfor\u001b[39;00m i \u001b[38;5;129;01min\u001b[39;00m \u001b[38;5;28mrange\u001b[39m(m\u001b[38;5;241m*\u001b[39mbox_num):\n\u001b[1;32m----> 7\u001b[0m     box\u001b[38;5;241m.\u001b[39mappend(score[i])\n\u001b[0;32m      8\u001b[0m     score\u001b[38;5;241m.\u001b[39mremove(score[i])\n\u001b[0;32m     10\u001b[0m \u001b[38;5;28;01mfor\u001b[39;00m i \u001b[38;5;129;01min\u001b[39;00m \u001b[38;5;28mrange\u001b[39m(\u001b[38;5;28mlen\u001b[39m(box)\u001b[38;5;241m/\u001b[39m\u001b[38;5;241m/\u001b[39mm):\n",
      "\u001b[1;31mIndexError\u001b[0m: list index out of range"
     ]
    }
   ],
   "source": [
    "solution(4,3,[4,1,2,2,4,4,4,4,1,2,4,2])"
   ]
  },
  {
   "cell_type": "code",
   "execution_count": 1,
   "id": "cb813297",
   "metadata": {},
   "outputs": [
    {
     "name": "stdout",
     "output_type": "stream",
     "text": [
      "4\n"
     ]
    }
   ],
   "source": [
    "li = [1,1,2]\n",
    "print(sum(li))"
   ]
  },
  {
   "cell_type": "markdown",
   "id": "23a99c5e",
   "metadata": {},
   "source": [
    "모든 점수는 k이하이다\n",
    "한 박스에 사과가 m개 들어간다\n",
    "\n",
    "박스의 개수 len(score) // m\n",
    "\n",
    "박스를 만들 때는 큰 수부터 빼내야한다\n",
    "box = []\n",
    "box.append(max(score))을몇 번? m번\n",
    "for i in m:\n",
    "    box.append(max(score))\n",
    "    score."
   ]
  },
  {
   "cell_type": "code",
   "execution_count": 9,
   "id": "383cc98d",
   "metadata": {},
   "outputs": [
    {
     "name": "stdout",
     "output_type": "stream",
     "text": [
      "3\n",
      "[1, 2, 1, 2, 3, 1]\n"
     ]
    }
   ],
   "source": [
    "le = [1,2,3,1,2,3,1]\n",
    "print(max(le))\n",
    "le.remove(max(le))\n",
    "print(le)"
   ]
  },
  {
   "cell_type": "code",
   "execution_count": 61,
   "id": "6efa9452",
   "metadata": {},
   "outputs": [],
   "source": [
    "def solution(k,m,score):\n",
    "    answer = 0\n",
    "    score.sort(reverse=True)\n",
    "    for i in range(0,len(score),m):\n",
    "        if len(score[i:i+m]) == m:\n",
    "            answer += min(score[i:i+m]) * m\n",
    "    return answer"
   ]
  },
  {
   "cell_type": "code",
   "execution_count": 62,
   "id": "8336be3e",
   "metadata": {},
   "outputs": [
    {
     "data": {
      "text/plain": [
       "8"
      ]
     },
     "execution_count": 62,
     "metadata": {},
     "output_type": "execute_result"
    }
   ],
   "source": [
    "solution(3,4,[1,2,3,1,2,3,1])"
   ]
  },
  {
   "cell_type": "code",
   "execution_count": 63,
   "id": "de0a8949",
   "metadata": {},
   "outputs": [
    {
     "data": {
      "text/plain": [
       "33"
      ]
     },
     "execution_count": 63,
     "metadata": {},
     "output_type": "execute_result"
    }
   ],
   "source": [
    "solution(4,3,[4,1,2,2,4,4,4,4,1,2,4,2])"
   ]
  },
  {
   "cell_type": "code",
   "execution_count": null,
   "id": "26fde8ea",
   "metadata": {},
   "outputs": [],
   "source": []
  }
 ],
 "metadata": {
  "kernelspec": {
   "display_name": "Python 3 (ipykernel)",
   "language": "python",
   "name": "python3"
  },
  "language_info": {
   "codemirror_mode": {
    "name": "ipython",
    "version": 3
   },
   "file_extension": ".py",
   "mimetype": "text/x-python",
   "name": "python",
   "nbconvert_exporter": "python",
   "pygments_lexer": "ipython3",
   "version": "3.11.4"
  }
 },
 "nbformat": 4,
 "nbformat_minor": 5
}
