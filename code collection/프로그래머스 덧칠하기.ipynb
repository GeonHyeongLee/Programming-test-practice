{
 "cells": [
  {
   "cell_type": "code",
   "execution_count": 35,
   "id": "124bd258",
   "metadata": {},
   "outputs": [],
   "source": [
    "def solution(n,m,section):\n",
    "    answer = 1\n",
    "    start_point = min(section)\n",
    "    \n",
    "    for i in range(1, len(section)):\n",
    "        if section[i] - start_point >= m:\n",
    "            answer += 1\n",
    "            start_point = section[i]\n",
    "    return answer"
   ]
  },
  {
   "cell_type": "code",
   "execution_count": 36,
   "id": "645dc362",
   "metadata": {},
   "outputs": [
    {
     "data": {
      "text/plain": [
       "2"
      ]
     },
     "execution_count": 36,
     "metadata": {},
     "output_type": "execute_result"
    }
   ],
   "source": [
    "solution(8,4,[2,3,6])"
   ]
  },
  {
   "cell_type": "code",
   "execution_count": 37,
   "id": "dc6d5b24",
   "metadata": {},
   "outputs": [
    {
     "data": {
      "text/plain": [
       "1"
      ]
     },
     "execution_count": 37,
     "metadata": {},
     "output_type": "execute_result"
    }
   ],
   "source": [
    "solution(5,4,[1,3])"
   ]
  },
  {
   "cell_type": "code",
   "execution_count": 38,
   "id": "68d6d9a4",
   "metadata": {},
   "outputs": [
    {
     "data": {
      "text/plain": [
       "4"
      ]
     },
     "execution_count": 38,
     "metadata": {},
     "output_type": "execute_result"
    }
   ],
   "source": [
    "solution(4,1,[1,2,3,4])"
   ]
  },
  {
   "cell_type": "code",
   "execution_count": null,
   "id": "53afc68b",
   "metadata": {},
   "outputs": [],
   "source": []
  }
 ],
 "metadata": {
  "kernelspec": {
   "display_name": "Python 3 (ipykernel)",
   "language": "python",
   "name": "python3"
  },
  "language_info": {
   "codemirror_mode": {
    "name": "ipython",
    "version": 3
   },
   "file_extension": ".py",
   "mimetype": "text/x-python",
   "name": "python",
   "nbconvert_exporter": "python",
   "pygments_lexer": "ipython3",
   "version": "3.11.4"
  }
 },
 "nbformat": 4,
 "nbformat_minor": 5
}
