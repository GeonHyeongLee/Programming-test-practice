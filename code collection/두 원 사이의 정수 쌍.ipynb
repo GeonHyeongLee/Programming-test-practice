{
 "cells": [
  {
   "cell_type": "code",
   "execution_count": 1,
   "id": "078d4959",
   "metadata": {},
   "outputs": [],
   "source": [
    "# 내가 한 것\n",
    "def solution(r1, r2):\n",
    "    answer = 0\n",
    "    lis = []\n",
    "    for i in range(r2+1):\n",
    "        for j in range(r2+1):\n",
    "            if r1**2 <= (i**2 + j**2) <= r2**2:\n",
    "                answer += 1\n",
    "                \n",
    "                \n",
    "    return (answer - (r2-r1+1)) * 4"
   ]
  },
  {
   "cell_type": "code",
   "execution_count": 4,
   "id": "f2a5a970",
   "metadata": {},
   "outputs": [],
   "source": [
    "# 다른 사람이 한 것\n",
    "from math import sqrt\n",
    "\n",
    "def solution(r1,r2):\n",
    "    answer = 0\n",
    "    \n",
    "    for i in range(r1):\n",
    "        answer += int(sqrt(r2**2 - i**2)) - int(sqrt(r1**2 - i **2  -1 ))\n",
    "    \n",
    "    for i in range(r1,r2):\n",
    "        answer += int(sqrt(r2**2- i**2))\n",
    "    \n",
    "    return answer * 4"
   ]
  },
  {
   "cell_type": "code",
   "execution_count": 5,
   "id": "f254dff7",
   "metadata": {},
   "outputs": [
    {
     "data": {
      "text/plain": [
       "20"
      ]
     },
     "execution_count": 5,
     "metadata": {},
     "output_type": "execute_result"
    }
   ],
   "source": [
    "solution(2,3)"
   ]
  },
  {
   "cell_type": "code",
   "execution_count": null,
   "id": "8180e3ea",
   "metadata": {},
   "outputs": [],
   "source": []
  }
 ],
 "metadata": {
  "kernelspec": {
   "display_name": "Python 3 (ipykernel)",
   "language": "python",
   "name": "python3"
  },
  "language_info": {
   "codemirror_mode": {
    "name": "ipython",
    "version": 3
   },
   "file_extension": ".py",
   "mimetype": "text/x-python",
   "name": "python",
   "nbconvert_exporter": "python",
   "pygments_lexer": "ipython3",
   "version": "3.11.4"
  }
 },
 "nbformat": 4,
 "nbformat_minor": 5
}
