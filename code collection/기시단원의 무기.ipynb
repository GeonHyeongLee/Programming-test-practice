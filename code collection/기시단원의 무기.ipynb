{
 "cells": [
  {
   "cell_type": "code",
   "execution_count": 34,
   "id": "80010b5b",
   "metadata": {},
   "outputs": [],
   "source": [
    "# 1 ~ number : 1 2 3 4 5 6 7 8 9 10 11 12 13 14        64 -> 1 2 4 8 16 32 64\n",
    "            #  1 2 2 3 2 4 2 4 3 4   2  6  2  4\n",
    "# 약수의 개수 구하는 법 :\n",
    "# num % 2 == 0 -> +=1 -> num / 2 -> (num/2) % 2 == 0 -> +=1 \n",
    "def solution(number, limit, power):\n",
    "    count_list = []\n",
    "    count = 0\n",
    "    result = 0\n",
    "    for i in range(1,number+1):\n",
    "        for j in range(1,i+1):\n",
    "            if i % j == 0:\n",
    "                count += 1\n",
    "        count_list.append(count)\n",
    "        count = 0\n",
    "    \n",
    "    for count in count_list:\n",
    "        if count > limit:\n",
    "            result += power\n",
    "        else:\n",
    "            result += count\n",
    "    return result"
   ]
  },
  {
   "cell_type": "code",
   "execution_count": 35,
   "id": "ad3e8f95",
   "metadata": {},
   "outputs": [
    {
     "data": {
      "text/plain": [
       "21"
      ]
     },
     "execution_count": 35,
     "metadata": {},
     "output_type": "execute_result"
    }
   ],
   "source": [
    "solution(10,3,2)"
   ]
  },
  {
   "cell_type": "code",
   "execution_count": 22,
   "id": "74c0f431",
   "metadata": {},
   "outputs": [
    {
     "name": "stdout",
     "output_type": "stream",
     "text": [
      "[0, 1, 2, 2, 3, 2, 4, 2, 4, 3, 4, 2, 6, 2, 4, 4, 5, 2, 6, 2, 6, 4, 4, 2, 8, 3, 4, 4, 6, 2, 8, 2, 6, 4, 4, 4, 9, 2, 4, 4, 8, 2, 8, 2, 6, 6, 4, 2, 10, 3, 6, 4, 6, 2, 8, 4, 8, 4, 4, 2, 12, 2, 4, 6, 7]\n"
     ]
    }
   ],
   "source": [
    "n = 64\n",
    "count = 0\n",
    "count_list = []\n",
    "for i in range(n+1):\n",
    "    for j in range(1,i+1):\n",
    "        if i % j == 0:\n",
    "            count += 1\n",
    "    count_list.append(count)\n",
    "    count = 0\n",
    "print(count_list)"
   ]
  },
  {
   "cell_type": "code",
   "execution_count": null,
   "id": "126afee2",
   "metadata": {},
   "outputs": [],
   "source": [
    "def solution(number, limit, power):\n",
    "    count_list = []\n",
    "    result = 0\n",
    "    for i in range(1,number+1):\n",
    "        count = 0\n",
    "        for j in range(1,int(i**(1/2))+1): # 1부터 i의 제곱근까지 for문\n",
    "            if i % j == 0:\n",
    "                count += 1\n",
    "                if j ** 2 != i:\n",
    "                    count += 1\n",
    "            if count > limit:\n",
    "                count = power\n",
    "                break\n",
    "        count_list.append(count)\n",
    "    \n",
    "    return sum(count_list)"
   ]
  },
  {
   "cell_type": "code",
   "execution_count": null,
   "id": "a5f11f94",
   "metadata": {},
   "outputs": [],
   "source": []
  }
 ],
 "metadata": {
  "kernelspec": {
   "display_name": "Python 3 (ipykernel)",
   "language": "python",
   "name": "python3"
  },
  "language_info": {
   "codemirror_mode": {
    "name": "ipython",
    "version": 3
   },
   "file_extension": ".py",
   "mimetype": "text/x-python",
   "name": "python",
   "nbconvert_exporter": "python",
   "pygments_lexer": "ipython3",
   "version": "3.11.4"
  }
 },
 "nbformat": 4,
 "nbformat_minor": 5
}
