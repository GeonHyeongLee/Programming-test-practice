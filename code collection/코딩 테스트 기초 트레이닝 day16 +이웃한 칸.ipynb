{
 "cells": [
  {
   "cell_type": "code",
   "execution_count": 8,
   "id": "98f80436",
   "metadata": {},
   "outputs": [],
   "source": [
    "# 소문자로 바꾸기\n",
    "def solution(myString):\n",
    "    return myString.lower()"
   ]
  },
  {
   "cell_type": "code",
   "execution_count": 9,
   "id": "bfbe96cb",
   "metadata": {},
   "outputs": [
    {
     "data": {
      "text/plain": [
       "'ADFDAAE'"
      ]
     },
     "execution_count": 9,
     "metadata": {},
     "output_type": "execute_result"
    }
   ],
   "source": [
    "solution(\"AdfdAAe\")"
   ]
  },
  {
   "cell_type": "code",
   "execution_count": 10,
   "id": "f3d1f9cf",
   "metadata": {},
   "outputs": [],
   "source": [
    "# 배열에서 문자열 대소문자 변환하기\n",
    "def solution(strArr):\n",
    "    answer = []\n",
    "    for i,v in enumerate(strArr):\n",
    "        if i % 2 == 1:\n",
    "            answer.append(v.upper())\n",
    "        else:\n",
    "            answer.append(v.lower())\n",
    "    return answer"
   ]
  },
  {
   "cell_type": "code",
   "execution_count": 12,
   "id": "246ed94c",
   "metadata": {},
   "outputs": [],
   "source": [
    "# A 강조하기\n",
    "def solution(myString):\n",
    "    answer = []\n",
    "    myString = list(myString)\n",
    "    for v in myString:\n",
    "        if v == 'a':\n",
    "            answer.append('A')\n",
    "        elif v == 'A':\n",
    "            answer.append('A')\n",
    "        else:\n",
    "            answer.append(v.lower())\n",
    "    return ''.join(answer)"
   ]
  },
  {
   "cell_type": "code",
   "execution_count": 13,
   "id": "52b604c9",
   "metadata": {},
   "outputs": [],
   "source": [
    "# 특정한 문자를 대문자로 바꾸기\n",
    "def solution(my_string, alp):\n",
    "    answer = []\n",
    "    for i, v in enumerate(list(my_string)):\n",
    "        if v == alp:\n",
    "            answer.append(alp.upper())\n",
    "        else:\n",
    "            answer.append(my_string[i])\n",
    "    return ''.join(answer)\n",
    "            "
   ]
  },
  {
   "cell_type": "code",
   "execution_count": 16,
   "id": "6f9ea0dd",
   "metadata": {},
   "outputs": [],
   "source": [
    "# PCCE 기출문제 9번 / 이웃한 칸\n",
    "# 해야될 일\n",
    "# 1. board[h][w]의 색깔 구하기\n",
    "# 2. board[h+1][w], board[h-1][w], board[h][w-1], board[h][w+1]의 색깔 구하기\n",
    "# 3. 각각 동일한지 확인 후 동일하면 count값 +1 시키기\n",
    "def solution(board, h, w):\n",
    "    count = 0\n",
    "    dh = [0,1,-1,0]\n",
    "    dw = [1,0,0,-1]\n",
    "    color = board[h][w]\n",
    "    for i in range(len(dh)):\n",
    "        h_check = h + dh[i]\n",
    "        w_check = w + dw[i]\n",
    "        \n",
    "        if 0 <= h_check < len(board) and 0<= w_check < len(board):\n",
    "            if board[h_check][w_check] == color:\n",
    "                count += 1\n",
    "    return count"
   ]
  },
  {
   "cell_type": "code",
   "execution_count": 17,
   "id": "3c6d0b7e",
   "metadata": {},
   "outputs": [
    {
     "data": {
      "text/plain": [
       "2"
      ]
     },
     "execution_count": 17,
     "metadata": {},
     "output_type": "execute_result"
    }
   ],
   "source": [
    "solution([[\"blue\", \"red\", \"orange\", \"red\"], [\"red\", \"red\", \"blue\", \"orange\"], [\"blue\", \"orange\", \"red\", \"red\"], [\"orange\", \"orange\", \"red\", \"blue\"]],1,1)"
   ]
  },
  {
   "cell_type": "code",
   "execution_count": null,
   "id": "9d519a42",
   "metadata": {},
   "outputs": [],
   "source": []
  }
 ],
 "metadata": {
  "kernelspec": {
   "display_name": "Python 3 (ipykernel)",
   "language": "python",
   "name": "python3"
  },
  "language_info": {
   "codemirror_mode": {
    "name": "ipython",
    "version": 3
   },
   "file_extension": ".py",
   "mimetype": "text/x-python",
   "name": "python",
   "nbconvert_exporter": "python",
   "pygments_lexer": "ipython3",
   "version": "3.11.4"
  }
 },
 "nbformat": 4,
 "nbformat_minor": 5
}
