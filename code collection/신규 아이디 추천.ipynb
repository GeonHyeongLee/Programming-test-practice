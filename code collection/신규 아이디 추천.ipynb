{
 "cells": [
  {
   "cell_type": "code",
   "execution_count": 9,
   "id": "672e46b1",
   "metadata": {},
   "outputs": [],
   "source": [
    "def solution(new_id):\n",
    "    # new_id의 모든 대문자를 소문자로 치환\n",
    "    new_id = new_id.lower()\n",
    "    # 알파벳 소문자, 숫자, 빼기(-), 밑줄(_), 마침표(.)을 제외한 모든 문자 제거\n",
    "    new_id2 = ''\n",
    "    for id in new_id:\n",
    "        if id.isalpha() or id.isdigit() or id == '-' or id == '_' or id == '.':\n",
    "            new_id2 += id\n",
    "            \n",
    "    # 마침표(.)가 2번 이상 연속된 부분을 하나의 마침표(.)로 치환\n",
    "    while '..' in new_id2:\n",
    "        new_id2 = new_id2.replace('..','.')\n",
    "    \n",
    "    # new_id에서 마침표(.)가 처음이나 끝에 위치한다면 제거합니다.\n",
    "    if len(new_id2) > 0:\n",
    "        if new_id2[0] == '.':\n",
    "            new_id2 = new_id2[1:]\n",
    "    if len(new_id2) > 0:\n",
    "        if new_id2[-1] == '.':\n",
    "            new_id2 = new_id2[:-1]\n",
    "    \n",
    "    # new_id가 빈 문자열이라면, new_id에 \"a\"를 대입합니다.\n",
    "    if new_id2 == '':\n",
    "        new_id2 = 'a'\n",
    "    \n",
    "    # new_id의 길이가 16자 이상이면, 첫 15개의 문자 제외한 나머지 문자 제거, 만약 제거 후 \n",
    "    # 마침표(.)가 new_id의 끝에 위치한다면 끝에 위치한 마침표(.)문자 제거\n",
    "    if len(new_id2) >= 16:\n",
    "        new_id2 = new_id2[0:15]\n",
    "        if new_id2[-1] == '.':\n",
    "            new_id2 = new_id2[:-1]\n",
    "    # new_id의 길이가 2자 이하라면, new_id의 마지막 문자를 new_id의 길이가 3이 될때까지 반복\n",
    "    if len(new_id2) <= 3:\n",
    "        while True:\n",
    "            if len(new_id2) == 3:\n",
    "                break\n",
    "            else:\n",
    "                new_id2 = new_id2 + new_id2[-1]\n",
    "    \n",
    "    return new_id2"
   ]
  },
  {
   "cell_type": "code",
   "execution_count": 10,
   "id": "c22372f1",
   "metadata": {},
   "outputs": [
    {
     "data": {
      "text/plain": [
       "'abcdef.'"
      ]
     },
     "execution_count": 10,
     "metadata": {},
     "output_type": "execute_result"
    }
   ],
   "source": [
    "solution('..abcdef..')"
   ]
  },
  {
   "cell_type": "code",
   "execution_count": 11,
   "id": "9708f008",
   "metadata": {},
   "outputs": [
    {
     "data": {
      "text/plain": [
       "'bat.y.abcdefghi'"
      ]
     },
     "execution_count": 11,
     "metadata": {},
     "output_type": "execute_result"
    }
   ],
   "source": [
    "solution(\"...!@BaT#*..y.abcdefghijklm\")"
   ]
  },
  {
   "cell_type": "code",
   "execution_count": null,
   "id": "b29be0ff",
   "metadata": {},
   "outputs": [],
   "source": [
    "a = 'LOW'\n",
    "print(a.lower())"
   ]
  },
  {
   "cell_type": "code",
   "execution_count": null,
   "id": "e0de6748",
   "metadata": {},
   "outputs": [],
   "source": [
    "b = '..'\n",
    "a = '.....'\n",
    "c = '.'\n",
    "for i in range(len(a)):\n",
    "    if a[i:i+2] ==  '..':\n",
    "        a += c\n",
    "        a.strip('..')\n",
    "print(a)"
   ]
  },
  {
   "cell_type": "code",
   "execution_count": null,
   "id": "c18aabb0",
   "metadata": {},
   "outputs": [],
   "source": [
    "a = 'ab'\n",
    "a += 'c'\n",
    "print(a)"
   ]
  },
  {
   "cell_type": "code",
   "execution_count": null,
   "id": "ea4fb334",
   "metadata": {},
   "outputs": [],
   "source": []
  }
 ],
 "metadata": {
  "kernelspec": {
   "display_name": "Python 3 (ipykernel)",
   "language": "python",
   "name": "python3"
  },
  "language_info": {
   "codemirror_mode": {
    "name": "ipython",
    "version": 3
   },
   "file_extension": ".py",
   "mimetype": "text/x-python",
   "name": "python",
   "nbconvert_exporter": "python",
   "pygments_lexer": "ipython3",
   "version": "3.11.4"
  }
 },
 "nbformat": 4,
 "nbformat_minor": 5
}
