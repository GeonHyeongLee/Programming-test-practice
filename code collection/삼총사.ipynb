{
 "cells": [
  {
   "cell_type": "code",
   "execution_count": 5,
   "id": "eb3bcf67",
   "metadata": {},
   "outputs": [],
   "source": [
    "# number len == 5 -> 0,1,2 0,1,3 0,1,4 0,2,3 0,2,4 0,3,4, 1,2,3 1,2,4 1,3,4 2,3,4 -> 6+3+1 = 10\n",
    "# len == 4 -> 012 013 023 123 -> 3+ 1 = 4\n",
    "# len == 3 -> 012 -> 1 \n",
    "# len == 6 -> 012 013 014 015 023 024 025 034 035 045 -> 10 + 6 + 3 + 1 = 20\n",
    "# 1->4->10->20->35->56\n",
    "def solution(number):\n",
    "    answer = 0\n",
    "    for i in range(len(number)):\n",
    "        for j in range(i+1,len(number)):\n",
    "            for k in range(j+1,len(number)):\n",
    "                if number[i] + number[j] + number[k] == 0:\n",
    "                    answer += 1\n",
    "    return answer"
   ]
  },
  {
   "cell_type": "code",
   "execution_count": 6,
   "id": "3699ada2",
   "metadata": {},
   "outputs": [
    {
     "data": {
      "text/plain": [
       "2"
      ]
     },
     "execution_count": 6,
     "metadata": {},
     "output_type": "execute_result"
    }
   ],
   "source": [
    "solution([-2,3,0,2,-5])"
   ]
  },
  {
   "cell_type": "code",
   "execution_count": null,
   "id": "7073aa13",
   "metadata": {},
   "outputs": [],
   "source": []
  }
 ],
 "metadata": {
  "kernelspec": {
   "display_name": "Python 3 (ipykernel)",
   "language": "python",
   "name": "python3"
  },
  "language_info": {
   "codemirror_mode": {
    "name": "ipython",
    "version": 3
   },
   "file_extension": ".py",
   "mimetype": "text/x-python",
   "name": "python",
   "nbconvert_exporter": "python",
   "pygments_lexer": "ipython3",
   "version": "3.11.4"
  }
 },
 "nbformat": 4,
 "nbformat_minor": 5
}
