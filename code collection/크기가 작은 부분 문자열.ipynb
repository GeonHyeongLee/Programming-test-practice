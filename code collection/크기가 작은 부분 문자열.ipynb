{
 "cells": [
  {
   "cell_type": "code",
   "execution_count": 35,
   "id": "554a9d1c",
   "metadata": {},
   "outputs": [],
   "source": [
    "# 부분 문자열 len(p)는 p의 길이\n",
    "# p=3 t[0]t[1]t[2], t[3]t[4]t[5], t[6]t[7]t[8], 언제까지? t[-1]까지 \n",
    "# 그럼 list에 저것들을 넣어놓고 if문으로 int(p)가 > int(t)라면 count += 1하면 되려나\n",
    "# 012 123 234 345 456 ->  0123456\n",
    "#[[012][123][234][345][456]]\n",
    "def solution(t, p):\n",
    "    count = 0\n",
    "    num_list = []\n",
    "    for i in range(len(t)-len(p)+1):\n",
    "        if int(t[i:i+len(p)]) < int(p):\n",
    "            count += 1\n",
    "    return count"
   ]
  },
  {
   "cell_type": "code",
   "execution_count": 37,
   "id": "66f3fac4",
   "metadata": {},
   "outputs": [
    {
     "data": {
      "text/plain": [
       "7"
      ]
     },
     "execution_count": 37,
     "metadata": {},
     "output_type": "execute_result"
    }
   ],
   "source": [
    "solution(\"500220839878\", \"7\")"
   ]
  },
  {
   "cell_type": "code",
   "execution_count": null,
   "id": "2c6659dd",
   "metadata": {},
   "outputs": [],
   "source": []
  }
 ],
 "metadata": {
  "kernelspec": {
   "display_name": "Python 3 (ipykernel)",
   "language": "python",
   "name": "python3"
  },
  "language_info": {
   "codemirror_mode": {
    "name": "ipython",
    "version": 3
   },
   "file_extension": ".py",
   "mimetype": "text/x-python",
   "name": "python",
   "nbconvert_exporter": "python",
   "pygments_lexer": "ipython3",
   "version": "3.11.4"
  }
 },
 "nbformat": 4,
 "nbformat_minor": 5
}
