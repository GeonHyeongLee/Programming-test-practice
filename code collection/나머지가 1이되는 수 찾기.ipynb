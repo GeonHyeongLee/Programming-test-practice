{
 "cells": [
  {
   "cell_type": "code",
   "execution_count": null,
   "id": "d12c0411",
   "metadata": {},
   "outputs": [],
   "source": [
    "# 숫자 n에서 뭔가를 나눠줬을 때 나머지가 1이 되어야 한다 이때 그 뭔가를 출력하라\n",
    "# n / x == a ... 1 -> n = a*x + 1 -> n-1 = a*x -> (n-1)/ a = x\n",
    "def solution(n):\n",
    "    \n",
    "    for i in range(2,n):\n",
    "        if n % i == 1:\n",
    "            answer = i\n",
    "            break\n",
    "    return answer\n",
    "            "
   ]
  },
  {
   "cell_type": "code",
   "execution_count": null,
   "id": "cd80f48d",
   "metadata": {},
   "outputs": [],
   "source": [
    "def solution(n):\n",
    "    for i in range(2,n):\n",
    "        if n % i == 1:\n",
    "            answer = i\n",
    "            break\n",
    "    return answer"
   ]
  }
 ],
 "metadata": {
  "kernelspec": {
   "display_name": "Python 3 (ipykernel)",
   "language": "python",
   "name": "python3"
  },
  "language_info": {
   "codemirror_mode": {
    "name": "ipython",
    "version": 3
   },
   "file_extension": ".py",
   "mimetype": "text/x-python",
   "name": "python",
   "nbconvert_exporter": "python",
   "pygments_lexer": "ipython3",
   "version": "3.11.4"
  }
 },
 "nbformat": 4,
 "nbformat_minor": 5
}
