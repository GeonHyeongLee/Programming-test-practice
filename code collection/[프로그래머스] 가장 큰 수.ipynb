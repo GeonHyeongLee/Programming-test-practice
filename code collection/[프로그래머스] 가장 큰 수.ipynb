{
 "cells": [
  {
   "cell_type": "markdown",
   "id": "db2fd6d1",
   "metadata": {},
   "source": [
    "### 가장 어려웠던 점\n",
    "리스트의 숫자를 str로 변환하여 내림차순으로 정렬하여 [9,5,34,30,3]으로 정렬하는\n",
    "것은 성공했지만 이렇게 되면 9534303으로 원하는 숫자가 나오지 않았다.\n",
    "\n",
    "그렇기에 내림차순을 진행할 때 34,30,3이 있다면 343434, 303030, 333에서 앞 세자리씩을\n",
    "비교하게 함으로써 문제를 해결할 수 있을 것이다.\n",
    "\n",
    "그렇기에 기존 numbers.sort(reverse= True)에서\n",
    "numbers.sort(lambda x : x * 3, reverse = True)로 코드르 바꿔주었다."
   ]
  },
  {
   "cell_type": "code",
   "execution_count": 16,
   "id": "f94c3d9e",
   "metadata": {},
   "outputs": [],
   "source": [
    "def solution(numbers):\n",
    "    answer = ''\n",
    "    numbers = list(map(str, numbers))\n",
    "    numbers.sort(key = lambda x : x*3, reverse = True)\n",
    "    return ''.join(numbers)"
   ]
  },
  {
   "cell_type": "code",
   "execution_count": 17,
   "id": "983d4a97",
   "metadata": {},
   "outputs": [
    {
     "data": {
      "text/plain": [
       "'6210'"
      ]
     },
     "execution_count": 17,
     "metadata": {},
     "output_type": "execute_result"
    }
   ],
   "source": [
    "solution([6,10,2])"
   ]
  },
  {
   "cell_type": "code",
   "execution_count": 18,
   "id": "db0415bf",
   "metadata": {},
   "outputs": [
    {
     "data": {
      "text/plain": [
       "'9534330'"
      ]
     },
     "execution_count": 18,
     "metadata": {},
     "output_type": "execute_result"
    }
   ],
   "source": [
    "solution([3,30,34,5,9])"
   ]
  },
  {
   "cell_type": "code",
   "execution_count": null,
   "id": "ae2025f7",
   "metadata": {},
   "outputs": [],
   "source": []
  }
 ],
 "metadata": {
  "kernelspec": {
   "display_name": "Python 3 (ipykernel)",
   "language": "python",
   "name": "python3"
  },
  "language_info": {
   "codemirror_mode": {
    "name": "ipython",
    "version": 3
   },
   "file_extension": ".py",
   "mimetype": "text/x-python",
   "name": "python",
   "nbconvert_exporter": "python",
   "pygments_lexer": "ipython3",
   "version": "3.11.4"
  }
 },
 "nbformat": 4,
 "nbformat_minor": 5
}
