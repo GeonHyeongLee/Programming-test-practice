{
 "cells": [
  {
   "cell_type": "code",
   "execution_count": 27,
   "id": "1929aed5",
   "metadata": {},
   "outputs": [],
   "source": [
    "# t분 동안 산책\n",
    "# 직원 마다 출발 위치, 속도 같거나 다름\n",
    "# 다른 사람 추월 불가 -> 더 빠른 사람이 뒤에 있어도 앞에 사람 속도로 산책\n",
    "\n",
    "input = ['5 3','0 1','1 2','2 3','3 2','6 1']\n",
    "\n",
    "def solution(input):\n",
    "    \n",
    "    input = in\n",
    "    N = input[0].split(' ')[0]\n",
    "    T = input[0].split(' ')[1]\n",
    "    \n",
    "    P = []\n",
    "    S = []\n",
    "    for i in range(1,len(input)):\n",
    "        P.append(input[i].split(' ')[0])\n",
    "        S.append(input[i].split(' ')[1])\n",
    "        \n",
    "    will_place = []\n",
    "    real_place = []\n",
    "    \n",
    "    for i in range(len(input)-1):\n",
    "        will_place.append(int(P[i]) + int(T) * int(S[i]))\n",
    "    \n",
    "        if P[i]\n",
    "    \n",
    "    return will_place"
   ]
  },
  {
   "cell_type": "code",
   "execution_count": 28,
   "id": "2811643c",
   "metadata": {},
   "outputs": [
    {
     "data": {
      "text/plain": [
       "[3, 7, 11, 9, 9]"
      ]
     },
     "execution_count": 28,
     "metadata": {},
     "output_type": "execute_result"
    }
   ],
   "source": [
    "solution(input)"
   ]
  },
  {
   "cell_type": "code",
   "execution_count": null,
   "id": "b3f0aa41",
   "metadata": {},
   "outputs": [],
   "source": []
  },
  {
   "cell_type": "code",
   "execution_count": null,
   "id": "1a4f341d",
   "metadata": {},
   "outputs": [],
   "source": []
  },
  {
   "cell_type": "code",
   "execution_count": 41,
   "id": "a8b68ab1",
   "metadata": {},
   "outputs": [],
   "source": [
    "# 마리오 게임\n",
    "# 버섯의 개수 N\n",
    "# 버섯은 일렬로 늘어져 있으며 0번부터 N-1번까지 있다\n",
    "# 버섯에 써있는 숫자 P\n",
    "\n",
    "# 버섯은 0번부터 순서대로 먹을지 먹지 않을지 결정한다\n",
    "# 홀수 번째 먹은 버섯의 숫자만큼 커지고 짝수 번째 먹은 버섯 숫자만큼 작아진다\n",
    "\n",
    "# 그럼 홀수 번째 먹을 때는 최대한 큰 숫자를 먹고, 짝수 번째 먹을 때는 최대한 작은 숫자를 먹어야 함\n",
    "\n",
    "# 첫번째 줄 입력 버섯 수 N\n",
    "# 두번째 줄 입력 N개의 버섯의 값 P가 공백으로 구분되어 입력\n",
    "\n",
    "\n",
    "# 해결책 1. 버섯을 순서대로 정렬한다\n",
    "# 2. 정렬댄 버섯을 앞에서부터 더한다\n",
    "# 3. 더한 숫자만큼 뒤에서부터 더한다\n",
    "# 4. 앞에서부터 더한 것과 뒤에서부터 더한 것을 뺸다\n",
    "# 5. 총 n/2개가 가능할텐데 이 중에서 max를 통해 최대일 때를 구한다\n",
    "\n",
    "\n",
    "def solution(N,M):\n",
    "    M == M.sort()\n",
    "    return M"
   ]
  },
  {
   "cell_type": "code",
   "execution_count": 42,
   "id": "3b86ae6b",
   "metadata": {},
   "outputs": [
    {
     "data": {
      "text/plain": [
       "[1, 2, 3, 4, 5, 6, 7, 8]"
      ]
     },
     "execution_count": 42,
     "metadata": {},
     "output_type": "execute_result"
    }
   ],
   "source": [
    "N = 8\n",
    "M = [7,2,1,8,4,3,5,6]\n",
    "solution(N,M)"
   ]
  },
  {
   "cell_type": "code",
   "execution_count": null,
   "id": "2a65c553",
   "metadata": {},
   "outputs": [],
   "source": []
  }
 ],
 "metadata": {
  "kernelspec": {
   "display_name": "Python 3 (ipykernel)",
   "language": "python",
   "name": "python3"
  },
  "language_info": {
   "codemirror_mode": {
    "name": "ipython",
    "version": 3
   },
   "file_extension": ".py",
   "mimetype": "text/x-python",
   "name": "python",
   "nbconvert_exporter": "python",
   "pygments_lexer": "ipython3",
   "version": "3.11.4"
  }
 },
 "nbformat": 4,
 "nbformat_minor": 5
}
