{
 "cells": [
  {
   "cell_type": "code",
   "execution_count": null,
   "id": "9af2e283",
   "metadata": {},
   "outputs": [],
   "source": [
    "answer = 0\n",
    "\n",
    "def dfs(n, computers, idx, result):\n",
    "    global answer\n",
    "    answer = n\n",
    "\n",
    "    if idx == n:\n",
    "        return\n",
    "    \n",
    "    li = []\n",
    "    if computers[idx][]\n",
    "    \n",
    "    dfs(n, computers, idx+1)\n",
    "\n",
    "def solution(n, computers):\n",
    "    answer = 0\n",
    "    return answer"
   ]
  },
  {
   "cell_type": "code",
   "execution_count": null,
   "id": "b04b19ee",
   "metadata": {},
   "outputs": [],
   "source": [
    "def solution(n, computers):\n",
    "    \n",
    "    def dfs(i):\n",
    "        visited[i] = 1\n",
    "        for a in range(n):\n",
    "            if computers[i][a] == 1 and not visited[a]:\n",
    "                dfs(a)\n",
    "    \n",
    "    answer = 0\n",
    "    \n",
    "    visited = [0 for i in range(len(computers))]\n",
    "    for i in range(n):\n",
    "        if not visited[i]:\n",
    "            dfs(i)\n",
    "            answer += 1"
   ]
  },
  {
   "cell_type": "code",
   "execution_count": null,
   "id": "08dd717a",
   "metadata": {},
   "outputs": [],
   "source": []
  },
  {
   "cell_type": "code",
   "execution_count": 1,
   "id": "b5fe383d",
   "metadata": {},
   "outputs": [],
   "source": [
    "# 보고 쓴 것"
   ]
  },
  {
   "cell_type": "code",
   "execution_count": null,
   "id": "4bed8013",
   "metadata": {},
   "outputs": [],
   "source": [
    "def solution(n, computers):\n",
    "    \n",
    "    def dfs(i):\n",
    "        visited[i] = 1\n",
    "        for a in range(n):\n",
    "            if computers[i][a] and not visited[a]:\n",
    "                dfs(a)\n",
    "    \n",
    "    answer = 0\n",
    "    visited = [0 for i in range(len(computers))]\n",
    "    for i in range(n):\n",
    "        if not visited[i]:\n",
    "            dfs(i)\n",
    "            answer += 1\n",
    "    \n",
    "    return answer"
   ]
  },
  {
   "cell_type": "code",
   "execution_count": null,
   "id": "a05a41d4",
   "metadata": {},
   "outputs": [],
   "source": []
  },
  {
   "cell_type": "code",
   "execution_count": null,
   "id": "e4d21e2d",
   "metadata": {},
   "outputs": [],
   "source": []
  },
  {
   "cell_type": "code",
   "execution_count": 3,
   "id": "b5e0cc41",
   "metadata": {},
   "outputs": [],
   "source": [
    "# 내 식대로 바꾼 것"
   ]
  },
  {
   "cell_type": "code",
   "execution_count": null,
   "id": "05337d33",
   "metadata": {},
   "outputs": [],
   "source": [
    "def solution(n, computers):\n",
    "    \n",
    "    def dfs(i):\n",
    "        visited[i] = 1\n",
    "        for a in range(n):\n",
    "            if computers[i][a] == 1 and visited[a] == 0:\n",
    "                dfs(a)\n",
    "    \n",
    "    answer = 0\n",
    "    \n",
    "    visited = [0 for i in range(len(computers))]\n",
    "    for i in range(n):\n",
    "        if visited[i] == 0:\n",
    "            dfs(i)\n",
    "            answer += 1\n",
    "    \n",
    "    return answer"
   ]
  },
  {
   "cell_type": "code",
   "execution_count": null,
   "id": "83464dce",
   "metadata": {},
   "outputs": [],
   "source": [
    "def solution(n, computers):\n",
    "    \n",
    "    def dfs(i):\n",
    "        visited[i] = 1\n",
    "        for a in range(n):\n",
    "            if computers[i][a] == 1 and visited[a] == 0:\n",
    "                dfs(a)\n",
    "    answer = 0\n",
    "    \n",
    "    visited = [0 for i in range(len(computers))]\n",
    "    \n",
    "    for i in range(n):\n",
    "        if visited[i] == 0:\n",
    "            dfs(i)\n",
    "            answer += 1\n",
    "    return answer"
   ]
  }
 ],
 "metadata": {
  "kernelspec": {
   "display_name": "Python 3 (ipykernel)",
   "language": "python",
   "name": "python3"
  },
  "language_info": {
   "codemirror_mode": {
    "name": "ipython",
    "version": 3
   },
   "file_extension": ".py",
   "mimetype": "text/x-python",
   "name": "python",
   "nbconvert_exporter": "python",
   "pygments_lexer": "ipython3",
   "version": "3.11.4"
  }
 },
 "nbformat": 4,
 "nbformat_minor": 5
}
