{
 "cells": [
  {
   "cell_type": "code",
   "execution_count": 39,
   "id": "79d2b485",
   "metadata": {},
   "outputs": [],
   "source": [
    "# 정수를 나선형으로 배치하기\n",
    "# 0으로 이루어진 리스트 안의 리스트를 만들어서 초기화 시켜두기\n",
    "# 0,0 - 0,1 - 0,2 - 0,3 - 1,3 - 2,3 - 3,3 - 3,2 - 3,1 - 3,0 - 2,0 - 1,0 - 1,1 - 1,2 - 2,2 - 2,1\n",
    "\n",
    "def solution(n):\n",
    "    if n == 1:\n",
    "        return [[1]]\n",
    "    \n",
    "    answer = [[0 for j in range(n)] for i in range(n)]\n",
    "    \n",
    "    x = 0\n",
    "    y = 0\n",
    "    dir = 'right'\n",
    "    \n",
    "    for i in range(n*n):\n",
    "        answer[x][y] = i + 1\n",
    "        if dir == 'right':\n",
    "            y += 1\n",
    "            if y == n - 1 or answer[x][y+1] != 0:\n",
    "                dir = 'down'\n",
    "        elif dir == 'down':\n",
    "            x += 1\n",
    "            if x == n - 1 or answer[x+1][y] != 0:\n",
    "                dir = 'left'\n",
    "        elif dir == 'left':\n",
    "            y -= 1\n",
    "            if y == 0 or answer[x][y-1] != 0:\n",
    "                dir = 'up'\n",
    "        else:\n",
    "            x -= 1\n",
    "            if x == 0 or answer[x-1][y] != 0:\n",
    "                dir = 'right'\n",
    "    return answer"
   ]
  },
  {
   "cell_type": "code",
   "execution_count": 40,
   "id": "045d8c97",
   "metadata": {},
   "outputs": [
    {
     "data": {
      "text/plain": [
       "[[1, 2, 3, 4], [12, 13, 14, 5], [11, 16, 15, 6], [10, 9, 8, 7]]"
      ]
     },
     "execution_count": 40,
     "metadata": {},
     "output_type": "execute_result"
    }
   ],
   "source": [
    "solution(4)"
   ]
  },
  {
   "cell_type": "code",
   "execution_count": 44,
   "id": "913d92e8",
   "metadata": {},
   "outputs": [],
   "source": [
    "# 특별한 이차원 배열 2\n",
    "\n",
    "def solution(arr):\n",
    "    summary = 0\n",
    "    for x in range(len(arr)):\n",
    "        for y in range(len(arr)):\n",
    "            if arr[x][y] == arr[y][x]:\n",
    "                summary += 1\n",
    "            else:\n",
    "                summary += 0\n",
    "    if summary == len(arr) * len(arr):\n",
    "        return 1\n",
    "    else:\n",
    "        return 0"
   ]
  },
  {
   "cell_type": "code",
   "execution_count": 45,
   "id": "13709ad2",
   "metadata": {},
   "outputs": [
    {
     "data": {
      "text/plain": [
       "0"
      ]
     },
     "execution_count": 45,
     "metadata": {},
     "output_type": "execute_result"
    }
   ],
   "source": [
    "solution([[19, 498, 258, 587], [63, 93, 7, 754], [258, 7, 1000, 723], [587, 754, 723, 81]])"
   ]
  },
  {
   "cell_type": "code",
   "execution_count": 62,
   "id": "f414052a",
   "metadata": {},
   "outputs": [],
   "source": [
    "# 정사각형으로 만들기\n",
    "\n",
    "def solution(arr):\n",
    "    if len(arr) > len(arr[0]):\n",
    "        answer = [[0 for i in range(len(arr))] for j in range(len(arr))]\n",
    "        for x in range(len(arr)):\n",
    "            for y in range(len(arr[x])):\n",
    "                answer[x][y] = arr[x][y]\n",
    "        return answer\n",
    "    else:\n",
    "        answer = [[0 for i in range(len(arr[0]))] for j in range(len(arr[0]))]\n",
    "        for x in range(len(arr)):\n",
    "            for y in range(len(arr[x])):\n",
    "                answer[x][y] = arr[x][y]\n",
    "        return answer"
   ]
  },
  {
   "cell_type": "code",
   "execution_count": 64,
   "id": "88595945",
   "metadata": {},
   "outputs": [
    {
     "data": {
      "text/plain": [
       "[[1, 2], [3, 4]]"
      ]
     },
     "execution_count": 64,
     "metadata": {},
     "output_type": "execute_result"
    }
   ],
   "source": [
    "solution([[1, 2], [3, 4]])"
   ]
  },
  {
   "cell_type": "code",
   "execution_count": 86,
   "id": "4b7d54ea",
   "metadata": {},
   "outputs": [],
   "source": [
    "# 이차원 배열 대각선 순회하기\n",
    "\n",
    "def solution(board, k):\n",
    "    answer = []\n",
    "    for x in range(len(board)):\n",
    "        for y in range(len(board[x])):\n",
    "            if x + y <= k:\n",
    "                answer.append(board[x][y])\n",
    "    hab = 0\n",
    "    for i in range(len(answer)):\n",
    "        hab += answer[i]\n",
    "    \n",
    "    return hab"
   ]
  },
  {
   "cell_type": "code",
   "execution_count": 87,
   "id": "49143a46",
   "metadata": {},
   "outputs": [
    {
     "data": {
      "text/plain": [
       "8"
      ]
     },
     "execution_count": 87,
     "metadata": {},
     "output_type": "execute_result"
    }
   ],
   "source": [
    "solution([[0, 1, 2],[1, 2, 3],[2, 3, 4],[3, 4, 5]], 2)"
   ]
  },
  {
   "cell_type": "code",
   "execution_count": 121,
   "id": "96649ebe",
   "metadata": {},
   "outputs": [],
   "source": [
    "# 카드 뭉치\n",
    "# goal[0] ~~~ 할때 goal과 동일한게 있으면 지워나가는 식으로 하다가 goal[3]일때\n",
    "#cards[1]과 cards[2]의 맨 앞에 해당하는게 없으면 NO를 출력하게 하면 어떨까\n",
    "def solution(cards1, cards2, goal):\n",
    "    \n",
    "    for word in goal:\n",
    "        if len(cards1) >0 and word == cards1[0]:\n",
    "            cards1.pop(0)\n",
    "        elif len(cards2) > 0 and word == cards2[0]:\n",
    "            cards2.pop(0)\n",
    "        \n",
    "        else:\n",
    "            return \"No\"\n",
    "    return \"Yes\"\n",
    "            \n",
    "    \n",
    "    "
   ]
  },
  {
   "cell_type": "code",
   "execution_count": 122,
   "id": "97fcb9a8",
   "metadata": {},
   "outputs": [
    {
     "data": {
      "text/plain": [
       "'No'"
      ]
     },
     "execution_count": 122,
     "metadata": {},
     "output_type": "execute_result"
    }
   ],
   "source": [
    "solution([\"i\", \"drink\", \"water\"], [\"want\", \"to\"], [\"i\", \"want\", \"to\", \"water\", \"drink\"])"
   ]
  },
  {
   "cell_type": "code",
   "execution_count": 115,
   "id": "08e1c585",
   "metadata": {},
   "outputs": [],
   "source": [
    "def solution(cards1, cards2, goal):\n",
    "    answer = []\n",
    "    n = len(cards1)\n",
    "    m = len(cards2)\n",
    "    i = j = 0\n",
    "    for word in goal:\n",
    "        if i < n and word == cards1[i]:\n",
    "            answer.append(cards1[i])\n",
    "            i += 1\n",
    "            \n",
    "        if j < m and word == cards2[j]:\n",
    "            answer.append(cards2[j])\n",
    "            j += 1\n",
    "        \n",
    "    return 'Yes' if answer == goal else 'No'"
   ]
  },
  {
   "cell_type": "code",
   "execution_count": 116,
   "id": "a8adc9f1",
   "metadata": {},
   "outputs": [
    {
     "data": {
      "text/plain": [
       "'No'"
      ]
     },
     "execution_count": 116,
     "metadata": {},
     "output_type": "execute_result"
    }
   ],
   "source": [
    "solution([\"i\", \"drink\", \"water\"], [\"want\", \"to\"], [\"i\", \"want\", \"to\", \"water\", \"drink\"])"
   ]
  },
  {
   "cell_type": "code",
   "execution_count": 123,
   "id": "49781fa7",
   "metadata": {},
   "outputs": [],
   "source": [
    "def solutioN(cards1, cards2, goal):\n",
    "    \n",
    "    for word in goal:\n",
    "        if len(cards1) > 0 and word == cards1[0]:\n",
    "            cards1.pop(0)\n",
    "        elif len(cards2) > 0 and word == cards2[0]:\n",
    "            cards2.pop(0)\n",
    "        else:\n",
    "            return \"No\"\n",
    "    return \"Yes\""
   ]
  },
  {
   "cell_type": "code",
   "execution_count": 125,
   "id": "8e8fde62",
   "metadata": {},
   "outputs": [
    {
     "data": {
      "text/plain": [
       "'Yes'"
      ]
     },
     "execution_count": 125,
     "metadata": {},
     "output_type": "execute_result"
    }
   ],
   "source": [
    "solution([\"i\", \"drink\", \"water\"], [\"want\", \"to\"], [\"i\", \"want\", \"to\", \"drink\", \"water\"])"
   ]
  },
  {
   "cell_type": "code",
   "execution_count": null,
   "id": "b9a4ac65",
   "metadata": {},
   "outputs": [],
   "source": []
  }
 ],
 "metadata": {
  "kernelspec": {
   "display_name": "Python 3 (ipykernel)",
   "language": "python",
   "name": "python3"
  },
  "language_info": {
   "codemirror_mode": {
    "name": "ipython",
    "version": 3
   },
   "file_extension": ".py",
   "mimetype": "text/x-python",
   "name": "python",
   "nbconvert_exporter": "python",
   "pygments_lexer": "ipython3",
   "version": "3.11.4"
  }
 },
 "nbformat": 4,
 "nbformat_minor": 5
}
