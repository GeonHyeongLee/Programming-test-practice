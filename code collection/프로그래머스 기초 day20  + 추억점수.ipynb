{
 "cells": [
  {
   "cell_type": "code",
   "execution_count": 3,
   "id": "f9126415",
   "metadata": {},
   "outputs": [],
   "source": [
    "# 배열의 길이를 2의 거듭제곱으로 만들기\n",
    "def solution(arr):\n",
    "    count = 0 \n",
    "    length = len(arr)\n",
    "    while length > 1:\n",
    "        length = length / 2\n",
    "        count += 1\n",
    "    return arr + [0] * (2 ** count - len(arr))"
   ]
  },
  {
   "cell_type": "code",
   "execution_count": 34,
   "id": "b256b8c9",
   "metadata": {},
   "outputs": [],
   "source": [
    "# 배열 비교하기\n",
    "def solution(arr1, arr2):\n",
    "    if len(arr1) > len(arr2):\n",
    "        return 1\n",
    "    elif len(arr2) > len(arr1):\n",
    "        return -1\n",
    "    else:\n",
    "        if sum(arr1) > sum(arr2):\n",
    "            return 1\n",
    "        elif sum(arr2) > sum(arr1):\n",
    "            return -1\n",
    "        else:\n",
    "            return 0"
   ]
  },
  {
   "cell_type": "code",
   "execution_count": 35,
   "id": "b15eb619",
   "metadata": {},
   "outputs": [],
   "source": [
    "# 문자열 묶기\n",
    "def solution(strArr):\n",
    "    answer = [len(i) for i in strArr]\n",
    "    tmp = []\n",
    "    for i in set(answer):\n",
    "        tmp.append(answer.count(i))\n",
    "    return max(tmp)"
   ]
  },
  {
   "cell_type": "code",
   "execution_count": 36,
   "id": "fb97b09f",
   "metadata": {},
   "outputs": [
    {
     "data": {
      "text/plain": [
       "2"
      ]
     },
     "execution_count": 36,
     "metadata": {},
     "output_type": "execute_result"
    }
   ],
   "source": [
    "solution([\"a\",\"bc\",\"d\",\"efg\",\"hi\"])"
   ]
  },
  {
   "cell_type": "code",
   "execution_count": null,
   "id": "5c82ba9c",
   "metadata": {},
   "outputs": [],
   "source": [
    "# 배열의 길이에 따라 다른 연산하기\n",
    "def solution(arr, n):\n",
    "    for i,v in enumerate(arr):\n",
    "        if len(arr) % 2 == 0:\n",
    "            if i % 2 == 1:\n",
    "                arr[i] += n\n",
    "        else:\n",
    "            if i % 2 == 0:\n",
    "                arr[i] += n\n",
    "    return arr\n"
   ]
  },
  {
   "cell_type": "code",
   "execution_count": 54,
   "id": "c80284b4",
   "metadata": {},
   "outputs": [],
   "source": [
    "# 뒤에서 5등까지\n",
    "def solution(num_list):\n",
    "    result = []\n",
    "    sort_list = sorted(num_list)\n",
    "    for i, v in enumerate(sort_list):\n",
    "        if i < 5:\n",
    "            result.append(sort_list[i])\n",
    "    return result"
   ]
  },
  {
   "cell_type": "code",
   "execution_count": 55,
   "id": "abf30871",
   "metadata": {},
   "outputs": [
    {
     "data": {
      "text/plain": [
       "[1, 4, 12, 14, 15]"
      ]
     },
     "execution_count": 55,
     "metadata": {},
     "output_type": "execute_result"
    }
   ],
   "source": [
    "solution([12, 4, 15, 46, 38, 1, 14])"
   ]
  },
  {
   "cell_type": "code",
   "execution_count": 97,
   "id": "4ccf3ba7",
   "metadata": {},
   "outputs": [],
   "source": [
    "# 추억 점수\n",
    "# 그리운 사람 이름 = name\n",
    "# 그리움 점수 = yearning\n",
    "# 사진에 찍힌 인물 배열 = photo\n",
    "# 원하는 것 : 사진들의 추억 점수를 photo에 주어진 순서대로 배열에 담아 return\n",
    "def solution(name, yearning, photo):\n",
    "    score_dict = dict(zip(name,yearning))\n",
    "    result = []\n",
    "    for people in photo:\n",
    "        score = 0\n",
    "        for person in people:\n",
    "            # get을 사용하면 디폴트값으로 없을 때는 0을 반환하게 할 수 있다\n",
    "            score += score_dict.get(person,0)\n",
    "        result.append(score)\n",
    "    return result"
   ]
  },
  {
   "cell_type": "code",
   "execution_count": 98,
   "id": "14e52c01",
   "metadata": {},
   "outputs": [
    {
     "ename": "KeyError",
     "evalue": "'deny'",
     "output_type": "error",
     "traceback": [
      "\u001b[1;31m---------------------------------------------------------------------------\u001b[0m",
      "\u001b[1;31mKeyError\u001b[0m                                  Traceback (most recent call last)",
      "Cell \u001b[1;32mIn[98], line 1\u001b[0m\n\u001b[1;32m----> 1\u001b[0m solution([\u001b[38;5;124m\"\u001b[39m\u001b[38;5;124mmay\u001b[39m\u001b[38;5;124m\"\u001b[39m, \u001b[38;5;124m\"\u001b[39m\u001b[38;5;124mkein\u001b[39m\u001b[38;5;124m\"\u001b[39m, \u001b[38;5;124m\"\u001b[39m\u001b[38;5;124mkain\u001b[39m\u001b[38;5;124m\"\u001b[39m, \u001b[38;5;124m\"\u001b[39m\u001b[38;5;124mradi\u001b[39m\u001b[38;5;124m\"\u001b[39m],[\u001b[38;5;241m5\u001b[39m, \u001b[38;5;241m10\u001b[39m, \u001b[38;5;241m1\u001b[39m, \u001b[38;5;241m3\u001b[39m],[[\u001b[38;5;124m\"\u001b[39m\u001b[38;5;124mmay\u001b[39m\u001b[38;5;124m\"\u001b[39m, \u001b[38;5;124m\"\u001b[39m\u001b[38;5;124mkein\u001b[39m\u001b[38;5;124m\"\u001b[39m, \u001b[38;5;124m\"\u001b[39m\u001b[38;5;124mkain\u001b[39m\u001b[38;5;124m\"\u001b[39m, \u001b[38;5;124m\"\u001b[39m\u001b[38;5;124mradi\u001b[39m\u001b[38;5;124m\"\u001b[39m],[\u001b[38;5;124m\"\u001b[39m\u001b[38;5;124mmay\u001b[39m\u001b[38;5;124m\"\u001b[39m, \u001b[38;5;124m\"\u001b[39m\u001b[38;5;124mkein\u001b[39m\u001b[38;5;124m\"\u001b[39m, \u001b[38;5;124m\"\u001b[39m\u001b[38;5;124mbrin\u001b[39m\u001b[38;5;124m\"\u001b[39m, \u001b[38;5;124m\"\u001b[39m\u001b[38;5;124mdeny\u001b[39m\u001b[38;5;124m\"\u001b[39m], [\u001b[38;5;124m\"\u001b[39m\u001b[38;5;124mkon\u001b[39m\u001b[38;5;124m\"\u001b[39m, \u001b[38;5;124m\"\u001b[39m\u001b[38;5;124mkain\u001b[39m\u001b[38;5;124m\"\u001b[39m, \u001b[38;5;124m\"\u001b[39m\u001b[38;5;124mmay\u001b[39m\u001b[38;5;124m\"\u001b[39m, \u001b[38;5;124m\"\u001b[39m\u001b[38;5;124mconi\u001b[39m\u001b[38;5;124m\"\u001b[39m]])\n",
      "Cell \u001b[1;32mIn[97], line 15\u001b[0m, in \u001b[0;36msolution\u001b[1;34m(name, yearning, photo)\u001b[0m\n\u001b[0;32m     13\u001b[0m         \u001b[38;5;28;01mif\u001b[39;00m photo[i][j] \u001b[38;5;129;01mnot\u001b[39;00m \u001b[38;5;129;01min\u001b[39;00m name:\n\u001b[0;32m     14\u001b[0m             photo[i]\u001b[38;5;241m.\u001b[39mremove(photo[i][j])\n\u001b[1;32m---> 15\u001b[0m         photo_sum \u001b[38;5;241m+\u001b[39m\u001b[38;5;241m=\u001b[39m d_dict[photo[i][j]]\n\u001b[0;32m     16\u001b[0m \u001b[38;5;28;01mreturn\u001b[39;00m photo_sum\n",
      "\u001b[1;31mKeyError\u001b[0m: 'deny'"
     ]
    }
   ],
   "source": [
    "solution([\"may\", \"kein\", \"kain\", \"radi\"],[5, 10, 1, 3],[[\"may\", \"kein\", \"kain\", \"radi\"],[\"may\", \"kein\", \"brin\", \"deny\"], [\"kon\", \"kain\", \"may\", \"coni\"]])"
   ]
  },
  {
   "cell_type": "code",
   "execution_count": 101,
   "id": "aa69dc3b",
   "metadata": {},
   "outputs": [],
   "source": [
    "def solution(name,yearning,photo):\n",
    "    score_dict = dict(zip(name,yearning))\n",
    "    result = []\n",
    "    for people in photo:\n",
    "        score = 0\n",
    "        for person in people:\n",
    "            score += score_dict.get(person, 0)\n",
    "        result.append(score)\n",
    "    return result"
   ]
  },
  {
   "cell_type": "code",
   "execution_count": 102,
   "id": "a4adcef5",
   "metadata": {},
   "outputs": [
    {
     "data": {
      "text/plain": [
       "[19, 15, 6]"
      ]
     },
     "execution_count": 102,
     "metadata": {},
     "output_type": "execute_result"
    }
   ],
   "source": [
    "solution([\"may\", \"kein\", \"kain\", \"radi\"],[5, 10, 1, 3],[[\"may\", \"kein\", \"kain\", \"radi\"],[\"may\", \"kein\", \"brin\", \"deny\"], [\"kon\", \"kain\", \"may\", \"coni\"]])"
   ]
  },
  {
   "cell_type": "code",
   "execution_count": null,
   "id": "c3dc1bd5",
   "metadata": {},
   "outputs": [],
   "source": []
  }
 ],
 "metadata": {
  "kernelspec": {
   "display_name": "Python 3 (ipykernel)",
   "language": "python",
   "name": "python3"
  },
  "language_info": {
   "codemirror_mode": {
    "name": "ipython",
    "version": 3
   },
   "file_extension": ".py",
   "mimetype": "text/x-python",
   "name": "python",
   "nbconvert_exporter": "python",
   "pygments_lexer": "ipython3",
   "version": "3.11.4"
  }
 },
 "nbformat": 4,
 "nbformat_minor": 5
}
