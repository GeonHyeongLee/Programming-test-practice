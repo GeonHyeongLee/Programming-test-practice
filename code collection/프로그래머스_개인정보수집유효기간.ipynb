{
 "cells": [
  {
   "cell_type": "code",
   "execution_count": null,
   "id": "d4e91972",
   "metadata": {},
   "outputs": [],
   "source": [
    "# today는 오늘 날짜\n",
    "# terms는 A 6 A약관은 6개월 간격\n",
    "# privacies 각 날짜 약관 -> \n",
    "# result는 privacies의 날짜에서 + 약관을 했을 떄 today를 지나면 파기 x today 이전이라면 파기해서\n",
    "# 해당 privacies의 index번호+1를 result에 append\n",
    "\n",
    "def solution(today, terms, privacies):\n",
    "    answer = []\n",
    "    for i in range(len(privacies)):\n",
    "        # privacies[0] + 6\n",
    "        # if privacies[0] + 6 > today -> continue\n",
    "        # else privacies[0] + 6 < today -> result.append(0+1)\n",
    "    return answer\n"
   ]
  },
  {
   "cell_type": "code",
   "execution_count": 15,
   "id": "3d6d401e",
   "metadata": {},
   "outputs": [
    {
     "name": "stdout",
     "output_type": "stream",
     "text": [
      "2\n"
     ]
    }
   ],
   "source": [
    "lis = [\"A 6\", \"B 12\", \"C 3\"]\n",
    "ak = lis.index(\"C 3\")\n",
    "print(ak)"
   ]
  },
  {
   "cell_type": "code",
   "execution_count": 11,
   "id": "f60764fe",
   "metadata": {},
   "outputs": [
    {
     "name": "stdout",
     "output_type": "stream",
     "text": [
      "2021.05.02\n"
     ]
    }
   ],
   "source": [
    "privacies = [\"2021.05.02 A\", \"2021.07.01 B\", \"2022.02.19 C\", \"2022.02.20 C\"]\n",
    "print(privacies[0][0:-2])\n",
    "privacies + "
   ]
  },
  {
   "cell_type": "code",
   "execution_count": 12,
   "id": "b950aec8",
   "metadata": {},
   "outputs": [
    {
     "ename": "NameError",
     "evalue": "name 'date' is not defined",
     "output_type": "error",
     "traceback": [
      "\u001b[1;31m---------------------------------------------------------------------------\u001b[0m",
      "\u001b[1;31mNameError\u001b[0m                                 Traceback (most recent call last)",
      "Cell \u001b[1;32mIn[12], line 1\u001b[0m\n\u001b[1;32m----> 1\u001b[0m \u001b[38;5;28mprint\u001b[39m(date)\n",
      "\u001b[1;31mNameError\u001b[0m: name 'date' is not defined"
     ]
    }
   ],
   "source": [
    "print(date)"
   ]
  },
  {
   "cell_type": "code",
   "execution_count": 17,
   "id": "8c9a734a",
   "metadata": {},
   "outputs": [
    {
     "ename": "NameError",
     "evalue": "name 'datetime' is not defined",
     "output_type": "error",
     "traceback": [
      "\u001b[1;31m---------------------------------------------------------------------------\u001b[0m",
      "\u001b[1;31mNameError\u001b[0m                                 Traceback (most recent call last)",
      "Cell \u001b[1;32mIn[17], line 2\u001b[0m\n\u001b[0;32m      1\u001b[0m \u001b[38;5;28;01mimport\u001b[39;00m \u001b[38;5;21;01mdatetime\u001b[39;00m \u001b[38;5;28;01mas\u001b[39;00m \u001b[38;5;21;01mdt\u001b[39;00m\n\u001b[1;32m----> 2\u001b[0m dt1 \u001b[38;5;241m=\u001b[39m datetime\u001b[38;5;241m.\u001b[39mdatetime(\u001b[38;5;241m2016\u001b[39m, \u001b[38;5;241m2\u001b[39m, \u001b[38;5;241m19\u001b[39m, \u001b[38;5;241m14\u001b[39m)\n\u001b[0;32m      3\u001b[0m dt2 \u001b[38;5;241m=\u001b[39m datetime\u001b[38;5;241m.\u001b[39mdatetime(\u001b[38;5;241m2016\u001b[39m, \u001b[38;5;241m1\u001b[39m, \u001b[38;5;241m2\u001b[39m, \u001b[38;5;241m13\u001b[39m)\n\u001b[0;32m      4\u001b[0m td \u001b[38;5;241m=\u001b[39m dt1 \u001b[38;5;241m-\u001b[39m dt2\n",
      "\u001b[1;31mNameError\u001b[0m: name 'datetime' is not defined"
     ]
    }
   ],
   "source": [
    "import datetime as dt\n",
    "dt1 = datetime.datetime(2016, 2, 19, 14)\n",
    "dt2 = datetime.datetime(2016, 1, 2, 13)\n",
    "td = dt1 - dt2\n",
    "td"
   ]
  },
  {
   "cell_type": "code",
   "execution_count": 19,
   "id": "f27bd916",
   "metadata": {},
   "outputs": [],
   "source": [
    "def time_convert(t):\n",
    "    year, month, day = map(int, t.split('.'))\n",
    "    return year * 12 * 28 + month * 28 + day\n",
    "\n",
    "def solution(today, terms, privacies):\n",
    "    term_dict = dict()\n",
    "    today = time_convert(today)\n",
    "    answer = []\n",
    "    \n",
    "    for term in terms:\n",
    "        name, period = term.split()\n",
    "        term_dict[name] = int(period) * 28\n",
    "        \n",
    "    for idx, privacy in enumerate(privacies):\n",
    "        start, name = privacy.split()\n",
    "        end = time_convert(start) + term_dict[name]\n",
    "        if end <= today:\n",
    "            answer.append(idx+1)\n",
    "    \n",
    "    return answer"
   ]
  },
  {
   "cell_type": "code",
   "execution_count": null,
   "id": "1b52d032",
   "metadata": {},
   "outputs": [],
   "source": []
  }
 ],
 "metadata": {
  "kernelspec": {
   "display_name": "Python 3 (ipykernel)",
   "language": "python",
   "name": "python3"
  },
  "language_info": {
   "codemirror_mode": {
    "name": "ipython",
    "version": 3
   },
   "file_extension": ".py",
   "mimetype": "text/x-python",
   "name": "python",
   "nbconvert_exporter": "python",
   "pygments_lexer": "ipython3",
   "version": "3.11.4"
  }
 },
 "nbformat": 4,
 "nbformat_minor": 5
}
