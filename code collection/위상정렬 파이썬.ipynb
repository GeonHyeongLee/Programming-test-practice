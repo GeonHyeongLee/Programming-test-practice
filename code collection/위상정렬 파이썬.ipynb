{
 "cells": [
  {
   "cell_type": "code",
   "execution_count": null,
   "id": "c97d2955",
   "metadata": {},
   "outputs": [],
   "source": [
    "# 스택은 통에 차곡차곡 담기 -> 처음 들어간 사람이 마지막에 나온다 -> 후입선출(LIFO) -> DFS\n",
    "# 큐는 터널 통과하기 -> 먼저 들어간 사람이 먼저 나온다 -> 선입선출(FIFO) -> BFS(Breath-First Search)"
   ]
  },
  {
   "cell_type": "code",
   "execution_count": 6,
   "id": "67b929f8",
   "metadata": {},
   "outputs": [
    {
     "name": "stdout",
     "output_type": "stream",
     "text": [
      "두개의 정수를 입력해야 합니다\n"
     ]
    },
    {
     "ename": "NameError",
     "evalue": "name 'n' is not defined",
     "output_type": "error",
     "traceback": [
      "\u001b[1;31m---------------------------------------------------------------------------\u001b[0m",
      "\u001b[1;31mNameError\u001b[0m                                 Traceback (most recent call last)",
      "Cell \u001b[1;32mIn[6], line 17\u001b[0m\n\u001b[0;32m     14\u001b[0m     \u001b[38;5;28mprint\u001b[39m(\u001b[38;5;124m\"\u001b[39m\u001b[38;5;124m두개의 정수를 입력해야 합니다\u001b[39m\u001b[38;5;124m\"\u001b[39m)\n\u001b[0;32m     16\u001b[0m \u001b[38;5;66;03m# 진입 차수\u001b[39;00m\n\u001b[1;32m---> 17\u001b[0m indegree \u001b[38;5;241m=\u001b[39m [\u001b[38;5;241m0\u001b[39m] \u001b[38;5;241m*\u001b[39m (n\u001b[38;5;241m+\u001b[39m\u001b[38;5;241m1\u001b[39m)\n\u001b[0;32m     18\u001b[0m graph \u001b[38;5;241m=\u001b[39m [[] \u001b[38;5;28;01mfor\u001b[39;00m _ \u001b[38;5;129;01min\u001b[39;00m \u001b[38;5;28mrange\u001b[39m(n\u001b[38;5;241m+\u001b[39m\u001b[38;5;241m1\u001b[39m)]\n\u001b[0;32m     20\u001b[0m \u001b[38;5;28;01mfor\u001b[39;00m i \u001b[38;5;129;01min\u001b[39;00m \u001b[38;5;28mrange\u001b[39m(m):\n",
      "\u001b[1;31mNameError\u001b[0m: name 'n' is not defined"
     ]
    }
   ],
   "source": [
    "# 위상 정렬에서 반복해야 할 작업은\n",
    "# 1. 진입 차수가 0인 정점을 큐에 삽입한다\n",
    "# 2. 큐에서 원소를 꺼내 해당 원소에 연결된 간선을 제거한다\n",
    "# 3. 간선을 제거한 후 진입 차수가 0이 된 정점을 큐에 삽입한다.\n",
    "# 4. 위 과정을 반복한다\n",
    "\n",
    "import sys\n",
    "from collections import deque\n",
    "\n",
    "input = sys.stdin.readline\n",
    "try:\n",
    "    n, m = map(int, input().split())\n",
    "except ValueError:\n",
    "    print(\"두개의 정수를 입력해야 합니다\")\n",
    "\n",
    "# 진입 차수\n",
    "indegree = [0] * (n+1)\n",
    "graph = [[] for _ in range(n+1)]\n",
    "\n",
    "for i in range(m):\n",
    "    a, b = map(int, input().split())\n",
    "    graph[a].append(b)\n",
    "    indegree[b] += 1\n",
    "\n",
    "def topology_sort():\n",
    "    result = []\n",
    "    queue = deque()\n",
    "        \n",
    "    for i in range(1,n+1):\n",
    "        if indegree[i] == 0:\n",
    "            queue.append(i)\n",
    "    while queue:\n",
    "        current = queue.popleft()\n",
    "        result.append(current)\n",
    "        \n",
    "        for i in graph[current]:\n",
    "            indegree[i] -= 1\n",
    "            if indegree[i] == 0:\n",
    "                queue.append(i)\n",
    "    for i in result:\n",
    "        print(i, end = ' ')\n",
    "\n",
    "topology_sort()"
   ]
  },
  {
   "cell_type": "code",
   "execution_count": null,
   "id": "a4dd6b56",
   "metadata": {},
   "outputs": [],
   "source": []
  }
 ],
 "metadata": {
  "kernelspec": {
   "display_name": "Python 3 (ipykernel)",
   "language": "python",
   "name": "python3"
  },
  "language_info": {
   "codemirror_mode": {
    "name": "ipython",
    "version": 3
   },
   "file_extension": ".py",
   "mimetype": "text/x-python",
   "name": "python",
   "nbconvert_exporter": "python",
   "pygments_lexer": "ipython3",
   "version": "3.11.4"
  }
 },
 "nbformat": 4,
 "nbformat_minor": 5
}
