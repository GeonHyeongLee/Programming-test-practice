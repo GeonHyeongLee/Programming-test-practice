{
 "cells": [
  {
   "cell_type": "code",
   "execution_count": 5,
   "id": "4f581790",
   "metadata": {},
   "outputs": [
    {
     "name": "stdout",
     "output_type": "stream",
     "text": [
      "25 3\n",
      "6\n"
     ]
    }
   ],
   "source": [
    "# N에서 1을 빼거나 k를 나누는 걸 선택해서 반복\n",
    "# N = 1이 될 때까지 최소 횟수\n",
    "\n",
    "n, k = map(int, input().split())\n",
    "\n",
    "count = 0\n",
    "\n",
    "while True:\n",
    "    if n % k != 0:\n",
    "        n -= 1\n",
    "        count += 1\n",
    "        if n == 1:\n",
    "            break\n",
    "    else:\n",
    "        n /= k\n",
    "        count += 1\n",
    "        if n== 1:\n",
    "            break\n",
    "\n",
    "print(count)\n",
    "    \n",
    "        "
   ]
  },
  {
   "cell_type": "code",
   "execution_count": null,
   "id": "9587e904",
   "metadata": {},
   "outputs": [],
   "source": []
  }
 ],
 "metadata": {
  "kernelspec": {
   "display_name": "Python 3 (ipykernel)",
   "language": "python",
   "name": "python3"
  },
  "language_info": {
   "codemirror_mode": {
    "name": "ipython",
    "version": 3
   },
   "file_extension": ".py",
   "mimetype": "text/x-python",
   "name": "python",
   "nbconvert_exporter": "python",
   "pygments_lexer": "ipython3",
   "version": "3.11.4"
  }
 },
 "nbformat": 4,
 "nbformat_minor": 5
}
