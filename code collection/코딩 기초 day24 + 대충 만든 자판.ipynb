{
 "cells": [
  {
   "cell_type": "code",
   "execution_count": 4,
   "id": "3bec7ec6",
   "metadata": {},
   "outputs": [],
   "source": [
    "# 커피 심부름\n",
    "def solution(order):\n",
    "    price = 0\n",
    "    for i in range(len(order)):\n",
    "        if 'americano' in order[i]:\n",
    "            price += 4500\n",
    "        elif 'cafelatte' in order[i]:\n",
    "            price += 5000\n",
    "        else:\n",
    "            price += 4500\n",
    "    return price"
   ]
  },
  {
   "cell_type": "code",
   "execution_count": 6,
   "id": "012bf9b0",
   "metadata": {},
   "outputs": [
    {
     "data": {
      "text/plain": [
       "13500"
      ]
     },
     "execution_count": 6,
     "metadata": {},
     "output_type": "execute_result"
    }
   ],
   "source": [
    "solution([\"cafelatte\", \"americanoice\", \"hotcafelatte\", \"anything\"])"
   ]
  },
  {
   "cell_type": "code",
   "execution_count": 23,
   "id": "42ddd10d",
   "metadata": {},
   "outputs": [],
   "source": [
    "# 그림 확대\n",
    "def solution(picture, k):\n",
    "    result = []\n",
    "    for i in picture:\n",
    "        resized = ''\n",
    "        for j in i:\n",
    "            resized += j * k\n",
    "        for _ in range(k):\n",
    "            result.append(resized)\n",
    "    return result\n"
   ]
  },
  {
   "cell_type": "code",
   "execution_count": 24,
   "id": "b2a00afb",
   "metadata": {},
   "outputs": [
    {
     "data": {
      "text/plain": [
       "['..xxxx......xxxx..',\n",
       " '..xxxx......xxxx..',\n",
       " 'xx....xx..xx....xx',\n",
       " 'xx....xx..xx....xx',\n",
       " 'xx......xx......xx',\n",
       " 'xx......xx......xx',\n",
       " '..xx..........xx..',\n",
       " '..xx..........xx..',\n",
       " '....xx......xx....',\n",
       " '....xx......xx....',\n",
       " '......xx..xx......',\n",
       " '......xx..xx......',\n",
       " '........xx........',\n",
       " '........xx........']"
      ]
     },
     "execution_count": 24,
     "metadata": {},
     "output_type": "execute_result"
    }
   ],
   "source": [
    "solution([\".xx...xx.\", \"x..x.x..x\", \"x...x...x\", \".x.....x.\", \"..x...x..\", \"...x.x...\", \"....x....\"],2)"
   ]
  },
  {
   "cell_type": "code",
   "execution_count": 25,
   "id": "d676115f",
   "metadata": {},
   "outputs": [],
   "source": [
    "# 조건에 맞게 수열 변환하기 3\n",
    "def solution(arr, k):\n",
    "    answer = []\n",
    "    for num in arr:\n",
    "        if k % 2 == 1:\n",
    "            answer.append(num * k)\n",
    "        else:\n",
    "            answer.append(num + k)\n",
    "    return answer"
   ]
  },
  {
   "cell_type": "code",
   "execution_count": 42,
   "id": "87d9f181",
   "metadata": {},
   "outputs": [],
   "source": [
    "# i로 만들기\n",
    "def solution(myString):\n",
    "    answer = [x if x > 'l' else 'l' for x in myString]\n",
    "    return ''.join(answer)"
   ]
  },
  {
   "cell_type": "code",
   "execution_count": 43,
   "id": "c1f55e41",
   "metadata": {},
   "outputs": [
    {
     "data": {
      "text/plain": [
       "'lllllvwxyz'"
      ]
     },
     "execution_count": 43,
     "metadata": {},
     "output_type": "execute_result"
    }
   ],
   "source": [
    "solution(\"abcdevwxyz\")"
   ]
  },
  {
   "cell_type": "code",
   "execution_count": 61,
   "id": "addacb90",
   "metadata": {},
   "outputs": [],
   "source": [
    "# 특별한 이차원 배열 1\n",
    "def solution(n):\n",
    "    return [[1 if i == j else 0 for i in range(n)] for j in range(n)]"
   ]
  },
  {
   "cell_type": "code",
   "execution_count": 62,
   "id": "fc491e56",
   "metadata": {},
   "outputs": [
    {
     "data": {
      "text/plain": [
       "[[1, 0], [0, 1]]"
      ]
     },
     "execution_count": 62,
     "metadata": {},
     "output_type": "execute_result"
    }
   ],
   "source": [
    "solution(2)"
   ]
  },
  {
   "cell_type": "code",
   "execution_count": 75,
   "id": "ac0e21b4",
   "metadata": {},
   "outputs": [],
   "source": [
    "# 대충 만든 자판\n",
    "def solution(keymap, targets):\n",
    "    answer = []\n",
    "    \n",
    "    for word in targets:\n",
    "        times = 0\n",
    "        for char in word:\n",
    "            inspect = False\n",
    "            time = 101\n",
    "            for key in keymap:\n",
    "                if char in key:\n",
    "                    time = min(key.index(char)+1, time)\n",
    "                    inspect = True\n",
    "            if not inspect:\n",
    "                times = -1\n",
    "                break\n",
    "            times += time\n",
    "        answer.append(times)\n",
    "    return answer\n",
    "    "
   ]
  },
  {
   "cell_type": "code",
   "execution_count": 76,
   "id": "6a3b23ab",
   "metadata": {},
   "outputs": [
    {
     "data": {
      "text/plain": [
       "[9, 4]"
      ]
     },
     "execution_count": 76,
     "metadata": {},
     "output_type": "execute_result"
    }
   ],
   "source": [
    "solution([\"ABACD\", \"BCEFD\"], [\"ABCD\",\"AABB\"])"
   ]
  },
  {
   "cell_type": "code",
   "execution_count": null,
   "id": "dc802f35",
   "metadata": {},
   "outputs": [],
   "source": [
    "targets[0][0] in keymap:\n",
    "    keymap.index(targets[0][0])\n",
    "    plus += "
   ]
  }
 ],
 "metadata": {
  "kernelspec": {
   "display_name": "Python 3 (ipykernel)",
   "language": "python",
   "name": "python3"
  },
  "language_info": {
   "codemirror_mode": {
    "name": "ipython",
    "version": 3
   },
   "file_extension": ".py",
   "mimetype": "text/x-python",
   "name": "python",
   "nbconvert_exporter": "python",
   "pygments_lexer": "ipython3",
   "version": "3.11.4"
  }
 },
 "nbformat": 4,
 "nbformat_minor": 5
}
