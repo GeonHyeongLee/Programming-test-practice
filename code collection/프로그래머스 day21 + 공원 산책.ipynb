{
 "cells": [
  {
   "cell_type": "code",
   "execution_count": 19,
   "id": "70454c92",
   "metadata": {},
   "outputs": [],
   "source": [
    "# 뒤에서 5등 위로\n",
    "def solution(num_list):\n",
    "    new_list = sorted(num_list)\n",
    "    return new_list[5:]"
   ]
  },
  {
   "cell_type": "code",
   "execution_count": 20,
   "id": "22fa542b",
   "metadata": {},
   "outputs": [
    {
     "data": {
      "text/plain": [
       "[15, 32, 38, 46, 56]"
      ]
     },
     "execution_count": 20,
     "metadata": {},
     "output_type": "execute_result"
    }
   ],
   "source": [
    "solution([12, 4, 15, 46, 38, 1, 14, 56, 32, 10])"
   ]
  },
  {
   "cell_type": "code",
   "execution_count": 16,
   "id": "679fd9d7",
   "metadata": {},
   "outputs": [
    {
     "data": {
      "text/plain": [
       "[38, 46, 46, 56, 56]"
      ]
     },
     "execution_count": 16,
     "metadata": {},
     "output_type": "execute_result"
    }
   ],
   "source": [
    "solution([12, 4, 15, 46, 38, 1, 14, 56, 32, 10,12, 4, 15, 46, 38, 1, 14, 56, 32, 10])"
   ]
  },
  {
   "cell_type": "code",
   "execution_count": 61,
   "id": "197bb587",
   "metadata": {},
   "outputs": [],
   "source": [
    "# 전국대회 선발 고사\n",
    "def solution(rank, attendance):\n",
    "    answer = []\n",
    "    test_dict = dict(zip(rank,attendance))\n",
    "    for i in range(len(rank)):\n",
    "        if test_dict.get(rank[i]) == True:\n",
    "            answer.append(rank[i])\n",
    "    answer = sorted(answer)\n",
    "    return rank.index(answer[0]) * 10000 + rank.index(answer[1]) * 100 + rank.index(answer[2])"
   ]
  },
  {
   "cell_type": "code",
   "execution_count": 62,
   "id": "9eb575a8",
   "metadata": {},
   "outputs": [
    {
     "data": {
      "text/plain": [
       "20403"
      ]
     },
     "execution_count": 62,
     "metadata": {},
     "output_type": "execute_result"
    }
   ],
   "source": [
    "solution([3, 7, 2, 5, 4, 6, 1],[False, True, True, True, True, False, False])"
   ]
  },
  {
   "cell_type": "code",
   "execution_count": 63,
   "id": "839323b3",
   "metadata": {},
   "outputs": [],
   "source": [
    "# 정수 부분\n",
    "def solution(flo):\n",
    "    return int(flo)"
   ]
  },
  {
   "cell_type": "code",
   "execution_count": 74,
   "id": "dc7a1666",
   "metadata": {},
   "outputs": [],
   "source": [
    "# 문자열 정수의 합\n",
    "def solution(num_str):\n",
    "    num_str = list(num_str)\n",
    "    num_sum = 0\n",
    "    for i,v in enumerate(num_str):\n",
    "        num_sum += int(v)\n",
    "    return num_sum"
   ]
  },
  {
   "cell_type": "code",
   "execution_count": 75,
   "id": "aeacfc38",
   "metadata": {},
   "outputs": [
    {
     "data": {
      "text/plain": [
       "45"
      ]
     },
     "execution_count": 75,
     "metadata": {},
     "output_type": "execute_result"
    }
   ],
   "source": [
    "solution('123456789')"
   ]
  },
  {
   "cell_type": "code",
   "execution_count": 76,
   "id": "eeab2fb8",
   "metadata": {},
   "outputs": [],
   "source": [
    "# 문자열을 정수로 변환하기\n",
    "def solution(n_str):\n",
    "    return int(n_str)"
   ]
  },
  {
   "cell_type": "code",
   "execution_count": 146,
   "id": "14ebea34",
   "metadata": {},
   "outputs": [],
   "source": [
    "# 공원 산책\n",
    "# 주어진 칸은 len(park[0])이 가로 길이 w, len(park)가 세로 길이 h\n",
    "# 강아지가 확인하는 것 1. 명령 실행 시 w or h 보다 크거나 0 0 보다 작거나\n",
    "# 2. 가는 길에 장애물 x가 있는지\n",
    "# N : 북쪽 이동 h,w니까 w 증가 \n",
    "# S : w 감소\n",
    "# w : h 감소\n",
    "# e : h 증가\n",
    "def solution(park, routes):\n",
    "    start_point = [0,0]\n",
    "    wrong_point = []\n",
    "    \n",
    "    for w in range(len(park)):\n",
    "        for h in range(len(park[w])):\n",
    "            if park[w][h] == 'S':\n",
    "                start_point[0] += w\n",
    "                start_point[1] += h\n",
    "                \n",
    "    for w in range(len(park)):\n",
    "        for h in range(len(park[w])):\n",
    "            if park[w][h] == 'X':\n",
    "                wrong_point.append([w,h])\n",
    "\n",
    "    for i in range(len(routes)):\n",
    "        if routes[i][0] == \"N\":\n",
    "            start_point[0] += int(routes[i][2])\n",
    "            if start_point[0] < 0 or start_point[0] > len(park):\n",
    "                start_point[0] -= int(routes[i][2])\n",
    "            for j in range(len(wrong_point)):\n",
    "                if start_point == wrong_point[i]:\n",
    "                    start_point[0] -= int(routes[i][2])\n",
    "        elif routes[i][0] == \"S\":\n",
    "            start_point[0] -= int(routes[i][2])\n",
    "            if start_point[0] <0 or start_point[0] > len(park):\n",
    "                start_point[0] += int(routes[i][2])\n",
    "            for j in range(len(wrong_point)):\n",
    "                if start_point == wrong_point[i]:\n",
    "                    start_point[0] += int(routes[i][2])\n",
    "        elif routes[i][0] == \"W\":\n",
    "            start_point[1] -= int(routes[i][2])\n",
    "            if start_point[1] <0 or start_point[1] > len(park[0]):\n",
    "                start_point[1] += int(routes[i][2])\n",
    "            for j in range(len(wrong_point)):\n",
    "                if start_point == wrong_point[i]:\n",
    "                    start_point[1] += int(routes[i][2])\n",
    "        else:\n",
    "            start_point[1] += int(routes[i][2])\n",
    "            if start_point[1] <0 or start_point[1] > len(park[0]):\n",
    "                start_point[1] -= int(routes[i][2])\n",
    "            for j in range(len(wrong_point)):\n",
    "                if start_point == wrong_point[i]:\n",
    "                    start_point[1] -= int(routes[i][2])\n",
    "    return start_point"
   ]
  },
  {
   "cell_type": "code",
   "execution_count": 147,
   "id": "0cb0635d",
   "metadata": {},
   "outputs": [
    {
     "ename": "IndexError",
     "evalue": "list index out of range",
     "output_type": "error",
     "traceback": [
      "\u001b[1;31m---------------------------------------------------------------------------\u001b[0m",
      "\u001b[1;31mIndexError\u001b[0m                                Traceback (most recent call last)",
      "Cell \u001b[1;32mIn[147], line 1\u001b[0m\n\u001b[1;32m----> 1\u001b[0m solution([\u001b[38;5;124m\"\u001b[39m\u001b[38;5;124mOSO\u001b[39m\u001b[38;5;124m\"\u001b[39m,\u001b[38;5;124m\"\u001b[39m\u001b[38;5;124mOOO\u001b[39m\u001b[38;5;124m\"\u001b[39m,\u001b[38;5;124m\"\u001b[39m\u001b[38;5;124mOXX\u001b[39m\u001b[38;5;124m\"\u001b[39m,\u001b[38;5;124m\"\u001b[39m\u001b[38;5;124mOOO\u001b[39m\u001b[38;5;124m\"\u001b[39m],[\u001b[38;5;124m\"\u001b[39m\u001b[38;5;124mE 2\u001b[39m\u001b[38;5;124m\"\u001b[39m,\u001b[38;5;124m\"\u001b[39m\u001b[38;5;124mS 3\u001b[39m\u001b[38;5;124m\"\u001b[39m,\u001b[38;5;124m\"\u001b[39m\u001b[38;5;124mW 1\u001b[39m\u001b[38;5;124m\"\u001b[39m])\n",
      "Cell \u001b[1;32mIn[146], line 44\u001b[0m, in \u001b[0;36msolution\u001b[1;34m(park, routes)\u001b[0m\n\u001b[0;32m     42\u001b[0m         start_point[\u001b[38;5;241m1\u001b[39m] \u001b[38;5;241m+\u001b[39m\u001b[38;5;241m=\u001b[39m \u001b[38;5;28mint\u001b[39m(routes[i][\u001b[38;5;241m2\u001b[39m])\n\u001b[0;32m     43\u001b[0m     \u001b[38;5;28;01mfor\u001b[39;00m j \u001b[38;5;129;01min\u001b[39;00m \u001b[38;5;28mrange\u001b[39m(\u001b[38;5;28mlen\u001b[39m(wrong_point)):\n\u001b[1;32m---> 44\u001b[0m         \u001b[38;5;28;01mif\u001b[39;00m start_point \u001b[38;5;241m==\u001b[39m wrong_point[i]:\n\u001b[0;32m     45\u001b[0m             start_point[\u001b[38;5;241m1\u001b[39m] \u001b[38;5;241m+\u001b[39m\u001b[38;5;241m=\u001b[39m \u001b[38;5;28mint\u001b[39m(routes[i][\u001b[38;5;241m2\u001b[39m])\n\u001b[0;32m     46\u001b[0m \u001b[38;5;28;01melse\u001b[39;00m:\n",
      "\u001b[1;31mIndexError\u001b[0m: list index out of range"
     ]
    }
   ],
   "source": [
    "solution([\"OSO\",\"OOO\",\"OXX\",\"OOO\"],[\"E 2\",\"S 3\",\"W 1\"])"
   ]
  },
  {
   "cell_type": "code",
   "execution_count": 149,
   "id": "96eb195b",
   "metadata": {},
   "outputs": [],
   "source": [
    "def solution(park, routes):\n",
    "    # 위치 index\n",
    "    x = 0\n",
    "    y = 0 \n",
    "    \n",
    "    # 시작 위치 찾기\n",
    "    for i in range(len(park)):\n",
    "        for j in range(len(park[i])):\n",
    "            if park[i][j] == 'S':\n",
    "                x = j\n",
    "                y = i\n",
    "                break\n",
    "    \n",
    "    # 이동\n",
    "    for route in routes:\n",
    "        # 위치 초기화\n",
    "        xx = x\n",
    "        yy = y\n",
    "        # 이동 - 장애물이 있거나 공원을 벗어나면 명령 무시\n",
    "        for step in range(int(route[2])):\n",
    "            # 동쪽 : 현재 위치가 map 가장 오른쪽이면 안됨, 이동할 곳이 장애물이면 안됨\n",
    "            if route[0] == 'E' and xx != len(park[0])-1 and park[yy][xx+1] != 'X':\n",
    "                xx += 1\n",
    "                if step == int(route[2])-1:\n",
    "                    x = xx # step만큼 움직였으면 위치 초기화\n",
    "            # 서쪽 : 현재 위치가 map 가장 왼쪽이면 안됨, 이동할 곳이 장애물이면 안됨\n",
    "            elif route[0] == 'W' and xx != 0 and park[yy][xx-1] != 'X':\n",
    "                xx -= 1\n",
    "                if step == int(route[2])-1:\n",
    "                    x = xx\n",
    "            # 남쪽 : 현재 위치가 map 가장 아래쪽이면 안됨, 이동할 곳이 장애물이면 안됨\n",
    "            elif route[0] == 'S' and yy != len(park)-1 and park[yy+1][xx] != 'X':\n",
    "                yy += 1\n",
    "                if step == int(route[2])-1:\n",
    "                    y = yy\n",
    "            # 북쪽 : 현재 위치가 map 가장 위쪽이면 안됨, 이동할 곳이 장애물이면 안됨\n",
    "            elif route[0] == 'N' and yy != 0 and park[yy-1][xx] != 'X':\n",
    "                yy -= 1\n",
    "                if step == int(route[2])-1:\n",
    "                    y = yy\n",
    "                    \n",
    "    return [y, x]"
   ]
  },
  {
   "cell_type": "code",
   "execution_count": 150,
   "id": "020c25da",
   "metadata": {},
   "outputs": [
    {
     "data": {
      "text/plain": [
       "[0, 0]"
      ]
     },
     "execution_count": 150,
     "metadata": {},
     "output_type": "execute_result"
    }
   ],
   "source": [
    "solution([\"OSO\",\"OOO\",\"OXX\",\"OOO\"],[\"E 2\",\"S 3\",\"W 1\"])"
   ]
  },
  {
   "cell_type": "code",
   "execution_count": 151,
   "id": "ed8bc46c",
   "metadata": {},
   "outputs": [],
   "source": [
    "def solution(park, routes):\n",
    "    x = 0\n",
    "    y = 0\n",
    "    \n",
    "    # 시작 지점 찾기\n",
    "    for i in range(len(park)):\n",
    "        for j in range(len(park[i])):\n",
    "            if park[i][j] == 'S':\n",
    "                x = j\n",
    "                y = i\n",
    "                break\n",
    "    # 이동\n",
    "    for route in routes:\n",
    "        xx = x\n",
    "        yy = y\n",
    "        for step in range(int(route[2])):\n",
    "            if route[0] == 'E' and xx != len(park[0]-1) and park[yy][xx+1] != 'X':\n",
    "                xx += 1\n",
    "                if step == int(route[2])-1:\n",
    "                    x == xx\n",
    "            elif route[0] == 'W' and xx != 0 and park[yy][xx-1] != 'X':\n",
    "                xx -= 1\n",
    "                if step == int(route[2])-1:\n",
    "                    x = xx\n",
    "            elif route[0] == 'N' and yy != 0 and park[yy-1][xx] != 'X':\n",
    "                yy -= 1\n",
    "                if step == int(route[2])-1:\n",
    "                    y = yy\n",
    "            elif route[0] == 'S' and yy != len(park[1]-1) and pakr[yy+1][xx] != 'X':\n",
    "                yy += 1\n",
    "                if step == int(route[2])-1:\n",
    "                    y = yy\n",
    "    return [y,x]"
   ]
  },
  {
   "cell_type": "code",
   "execution_count": 152,
   "id": "b7bcc330",
   "metadata": {},
   "outputs": [
    {
     "ename": "TypeError",
     "evalue": "unsupported operand type(s) for -: 'str' and 'int'",
     "output_type": "error",
     "traceback": [
      "\u001b[1;31m---------------------------------------------------------------------------\u001b[0m",
      "\u001b[1;31mTypeError\u001b[0m                                 Traceback (most recent call last)",
      "Cell \u001b[1;32mIn[152], line 1\u001b[0m\n\u001b[1;32m----> 1\u001b[0m solution([\u001b[38;5;124m\"\u001b[39m\u001b[38;5;124mOSO\u001b[39m\u001b[38;5;124m\"\u001b[39m,\u001b[38;5;124m\"\u001b[39m\u001b[38;5;124mOOO\u001b[39m\u001b[38;5;124m\"\u001b[39m,\u001b[38;5;124m\"\u001b[39m\u001b[38;5;124mOXX\u001b[39m\u001b[38;5;124m\"\u001b[39m,\u001b[38;5;124m\"\u001b[39m\u001b[38;5;124mOOO\u001b[39m\u001b[38;5;124m\"\u001b[39m],[\u001b[38;5;124m\"\u001b[39m\u001b[38;5;124mE 2\u001b[39m\u001b[38;5;124m\"\u001b[39m,\u001b[38;5;124m\"\u001b[39m\u001b[38;5;124mS 3\u001b[39m\u001b[38;5;124m\"\u001b[39m,\u001b[38;5;124m\"\u001b[39m\u001b[38;5;124mW 1\u001b[39m\u001b[38;5;124m\"\u001b[39m])\n",
      "Cell \u001b[1;32mIn[151], line 17\u001b[0m, in \u001b[0;36msolution\u001b[1;34m(park, routes)\u001b[0m\n\u001b[0;32m     15\u001b[0m yy \u001b[38;5;241m=\u001b[39m y\n\u001b[0;32m     16\u001b[0m \u001b[38;5;28;01mfor\u001b[39;00m step \u001b[38;5;129;01min\u001b[39;00m \u001b[38;5;28mrange\u001b[39m(\u001b[38;5;28mint\u001b[39m(route[\u001b[38;5;241m2\u001b[39m])):\n\u001b[1;32m---> 17\u001b[0m     \u001b[38;5;28;01mif\u001b[39;00m route[\u001b[38;5;241m0\u001b[39m] \u001b[38;5;241m==\u001b[39m \u001b[38;5;124m'\u001b[39m\u001b[38;5;124mE\u001b[39m\u001b[38;5;124m'\u001b[39m \u001b[38;5;129;01mand\u001b[39;00m xx \u001b[38;5;241m!=\u001b[39m \u001b[38;5;28mlen\u001b[39m(park[\u001b[38;5;241m0\u001b[39m]\u001b[38;5;241m-\u001b[39m\u001b[38;5;241m1\u001b[39m) \u001b[38;5;129;01mand\u001b[39;00m park[yy][xx\u001b[38;5;241m+\u001b[39m\u001b[38;5;241m1\u001b[39m] \u001b[38;5;241m!=\u001b[39m \u001b[38;5;124m'\u001b[39m\u001b[38;5;124mX\u001b[39m\u001b[38;5;124m'\u001b[39m:\n\u001b[0;32m     18\u001b[0m         xx \u001b[38;5;241m+\u001b[39m\u001b[38;5;241m=\u001b[39m \u001b[38;5;241m1\u001b[39m\n\u001b[0;32m     19\u001b[0m         \u001b[38;5;28;01mif\u001b[39;00m step \u001b[38;5;241m==\u001b[39m \u001b[38;5;28mint\u001b[39m(route[\u001b[38;5;241m2\u001b[39m])\u001b[38;5;241m-\u001b[39m\u001b[38;5;241m1\u001b[39m:\n",
      "\u001b[1;31mTypeError\u001b[0m: unsupported operand type(s) for -: 'str' and 'int'"
     ]
    }
   ],
   "source": [
    "solution([\"OSO\",\"OOO\",\"OXX\",\"OOO\"],[\"E 2\",\"S 3\",\"W 1\"])"
   ]
  },
  {
   "cell_type": "code",
   "execution_count": null,
   "id": "1d993e93",
   "metadata": {},
   "outputs": [],
   "source": []
  }
 ],
 "metadata": {
  "kernelspec": {
   "display_name": "Python 3 (ipykernel)",
   "language": "python",
   "name": "python3"
  },
  "language_info": {
   "codemirror_mode": {
    "name": "ipython",
    "version": 3
   },
   "file_extension": ".py",
   "mimetype": "text/x-python",
   "name": "python",
   "nbconvert_exporter": "python",
   "pygments_lexer": "ipython3",
   "version": "3.11.4"
  }
 },
 "nbformat": 4,
 "nbformat_minor": 5
}
