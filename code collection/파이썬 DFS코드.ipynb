{
 "cells": [
  {
   "cell_type": "markdown",
   "id": "91f93561",
   "metadata": {},
   "source": [
    "# 깊이우선 탐색"
   ]
  },
  {
   "cell_type": "code",
   "execution_count": 1,
   "id": "c0b207ad",
   "metadata": {},
   "outputs": [],
   "source": [
    "def DFS(start_node):\n",
    "    # 1) stack에 첫 번째 노드 넣으면서 시작\n",
    "    stack = [start_node, ]\n",
    "    \n",
    "    while True:\n",
    "        # 2) stack이 비어있는지 확인\n",
    "        if len(stack) == 0:\n",
    "            print('All node searched.')\n",
    "            return None\n",
    "        \n",
    "        # 3) stack에서 맨 위의 노드를 pop\n",
    "        node = stack.pop()\n",
    "        \n",
    "        # 4) 만약 node가 찾고자 하는 target이라면 중단!\n",
    "        if node == TARGET:\n",
    "            print('The target found.')\n",
    "            return node\n",
    "        \n",
    "        # 5) node의 자식을 expand해서 children에 저장\n",
    "        children = expand(node)\n",
    "        \n",
    "        # 6) children을 stack에 쌓기\n",
    "        stack.extend(children)\n",
    "        \n",
    "        # 7) 이렇게 target을 찾거나, 전부 탐색해서 stack이 빌 때까지 while문 반복"
   ]
  },
  {
   "cell_type": "markdown",
   "id": "0f60b135",
   "metadata": {},
   "source": [
    "# 너비 우선 탐색"
   ]
  },
  {
   "cell_type": "code",
   "execution_count": 2,
   "id": "173edcaa",
   "metadata": {},
   "outputs": [],
   "source": [
    "def BFS(start_node):\n",
    "    # 1) queue에 첫 번째 노드 넣으면서 시작\n",
    "    queue = [start_node, ]\n",
    "    \n",
    "    while True:\n",
    "        # 2) queue가 비어있는지 확인\n",
    "        if len(queue) == 0:\n",
    "            print('All node searched.')\n",
    "            return None\n",
    "        \n",
    "        # 3) queue에서 맨 앞의 노드를 dequeue (0번 인덱스를 pop)\n",
    "        node = queue.pop(0)\n",
    "        \n",
    "        # 4) 만약 node가 찾고자 하는 target이라면 서치 중단!\n",
    "        if node == TARGET:\n",
    "            print('The target found.')\n",
    "            return node\n",
    "        \n",
    "        # 5) node의 자식을 expand해서 children에 저장\n",
    "        children = expand(node)\n",
    "        \n",
    "        # 6) children을 stack에 쌓기\n",
    "        queue.extend(children)\n",
    "        \n",
    "        # 7) 이렇게 target을 찾거나, 전부 탐색해서 queue가 빌 때까지 while문을 반복"
   ]
  },
  {
   "cell_type": "code",
   "execution_count": null,
   "id": "a0d3ba79",
   "metadata": {},
   "outputs": [],
   "source": []
  },
  {
   "cell_type": "code",
   "execution_count": 3,
   "id": "fef3eb11",
   "metadata": {},
   "outputs": [],
   "source": [
    "# 깊이 우선 탐색(DFS- Depth-First search)    -> stack사용 -> stack은 Last-in First-out(LIFO) \n",
    "# 너비 우선 탐색(BFS- Breath-First search)    -> queue사용 -> queue는 First-in First-out(FIFO)"
   ]
  },
  {
   "cell_type": "code",
   "execution_count": 4,
   "id": "35feb02e",
   "metadata": {},
   "outputs": [],
   "source": [
    "# 깊이 우선 탐색\n",
    "def DFS(start_node):\n",
    "    \n",
    "    stack = [start_node, ]\n",
    "    \n",
    "    while True:\n",
    "        if len(stack) == 0:\n",
    "            print(\"ALL node searched\")\n",
    "            return None\n",
    "        \n",
    "        node = stack.pop()\n",
    "        \n",
    "        if node == TARGET:\n",
    "            print(\"We find target\")\n",
    "            return node\n",
    "        \n",
    "        children = expand(node)\n",
    "        \n",
    "        stack.extend(children)"
   ]
  },
  {
   "cell_type": "code",
   "execution_count": 5,
   "id": "88c96757",
   "metadata": {},
   "outputs": [],
   "source": [
    "# 너비 우선 탐색\n",
    "\n",
    "def BFS(start_node):\n",
    "    \n",
    "    queue = [start_node, ]\n",
    "    \n",
    "    while True:\n",
    "        if len(queue) == 0:\n",
    "            print(\"All search\")\n",
    "            return None\n",
    "        \n",
    "        node = queue.pop(0)\n",
    "        \n",
    "        if node == TARGET:\n",
    "            print(\"We find target\")\n",
    "            return node\n",
    "        \n",
    "        children = expand(node) # expand는 뒤에 원하는 차원 크기를 input으로 받아 텐\n",
    "        #서의 값들을 뒤쪽 axis에서 반복하여\n",
    "        #확장된 차원의 반복 텐서를 생성\n",
    "        \n",
    "        queue.expand(children)\n",
    "        \n",
    "        "
   ]
  },
  {
   "cell_type": "code",
   "execution_count": null,
   "id": "3aaf58bf",
   "metadata": {},
   "outputs": [],
   "source": []
  },
  {
   "cell_type": "code",
   "execution_count": null,
   "id": "e5faa766",
   "metadata": {},
   "outputs": [],
   "source": []
  },
  {
   "cell_type": "code",
   "execution_count": null,
   "id": "fe617435",
   "metadata": {},
   "outputs": [],
   "source": []
  },
  {
   "cell_type": "code",
   "execution_count": null,
   "id": "1cdb0128",
   "metadata": {},
   "outputs": [],
   "source": []
  },
  {
   "cell_type": "code",
   "execution_count": null,
   "id": "655bcac9",
   "metadata": {},
   "outputs": [],
   "source": []
  },
  {
   "cell_type": "code",
   "execution_count": null,
   "id": "081bf00e",
   "metadata": {},
   "outputs": [],
   "source": []
  }
 ],
 "metadata": {
  "kernelspec": {
   "display_name": "Python 3 (ipykernel)",
   "language": "python",
   "name": "python3"
  },
  "language_info": {
   "codemirror_mode": {
    "name": "ipython",
    "version": 3
   },
   "file_extension": ".py",
   "mimetype": "text/x-python",
   "name": "python",
   "nbconvert_exporter": "python",
   "pygments_lexer": "ipython3",
   "version": "3.11.4"
  }
 },
 "nbformat": 4,
 "nbformat_minor": 5
}
