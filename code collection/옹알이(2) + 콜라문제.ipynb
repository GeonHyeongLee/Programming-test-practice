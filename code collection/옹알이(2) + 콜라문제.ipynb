{
 "cells": [
  {
   "cell_type": "code",
   "execution_count": 40,
   "id": "94d39e9b",
   "metadata": {},
   "outputs": [],
   "source": [
    "# aya, ye, woo, ma만 사용\n",
    "# dic = {'aya':0,'ye':1,'woo':2,'ma':3}\n",
    "\n",
    "# 같은 발음 두 개 연속 발음 불가\n",
    "def solution(babbling):\n",
    "    can = ['aya','ye','woo','ma']\n",
    "    answer = 0\n",
    "    for bab in babbling:\n",
    "        for c in can:\n",
    "            if c*2 not in bab:\n",
    "                bab = bab.replace(c, ' ')\n",
    "                \n",
    "        if bab.isspace():\n",
    "            answer += 1\n",
    "    \n",
    "    return answer"
   ]
  },
  {
   "cell_type": "code",
   "execution_count": 41,
   "id": "388f934f",
   "metadata": {},
   "outputs": [
    {
     "data": {
      "text/plain": [
       "2"
      ]
     },
     "execution_count": 41,
     "metadata": {},
     "output_type": "execute_result"
    }
   ],
   "source": [
    "solution([\"ayaye\", \"uuu\", \"yeye\", \"yemawoo\", \"ayaayaa\"])"
   ]
  },
  {
   "cell_type": "code",
   "execution_count": 5,
   "id": "d79205f0",
   "metadata": {},
   "outputs": [
    {
     "name": "stdout",
     "output_type": "stream",
     "text": [
      "2345\n"
     ]
    }
   ],
   "source": [
    "s = '12345'\n",
    "s = s.replace('1','')\n",
    "print(s)"
   ]
  },
  {
   "cell_type": "code",
   "execution_count": 31,
   "id": "7fb3f1e6",
   "metadata": {},
   "outputs": [
    {
     "name": "stdout",
     "output_type": "stream",
     "text": [
      "\n",
      "1\n"
     ]
    }
   ],
   "source": [
    "s = 'ayaaya'\n",
    "count = 0\n",
    "if 'aya' in s:\n",
    "    count += 1\n",
    "    s = s.replace('aya','')\n",
    "print(s)\n",
    "print(count)"
   ]
  },
  {
   "cell_type": "code",
   "execution_count": 55,
   "id": "c229dd82",
   "metadata": {},
   "outputs": [],
   "source": [
    "# 마트에 a개 가져다주면 b개를 받는다 \n",
    "# 3,1,20 -> 20 / 3 -> 6  (6+2) / 3 -> 2 (2+2) / 3 -> 1 === 6+2+1\n",
    "# 2,1,20 - 20 / 2 -> 10 10 / 2 -> 5 5 -> 2  (2) -> 1\n",
    "def solution(a, b, n):\n",
    "    answer = 0\n",
    "    while (n>=a):\n",
    "        remain_bottle = n % a\n",
    "        n = (n//a) * b\n",
    "        answer += n\n",
    "        n += remain_bottle\n",
    "        \n",
    "    return answer"
   ]
  },
  {
   "cell_type": "code",
   "execution_count": 56,
   "id": "d4688e6a",
   "metadata": {},
   "outputs": [
    {
     "data": {
      "text/plain": [
       "19"
      ]
     },
     "execution_count": 56,
     "metadata": {},
     "output_type": "execute_result"
    }
   ],
   "source": [
    "solution(2,1,20)"
   ]
  },
  {
   "cell_type": "code",
   "execution_count": 51,
   "id": "f61c1fab",
   "metadata": {},
   "outputs": [
    {
     "data": {
      "text/plain": [
       "10.0"
      ]
     },
     "execution_count": 51,
     "metadata": {},
     "output_type": "execute_result"
    }
   ],
   "source": [
    "20 % 3\n",
    "20 // 3\n",
    "20 / 2"
   ]
  },
  {
   "cell_type": "code",
   "execution_count": null,
   "id": "fc431dc1",
   "metadata": {},
   "outputs": [],
   "source": []
  }
 ],
 "metadata": {
  "kernelspec": {
   "display_name": "Python 3 (ipykernel)",
   "language": "python",
   "name": "python3"
  },
  "language_info": {
   "codemirror_mode": {
    "name": "ipython",
    "version": 3
   },
   "file_extension": ".py",
   "mimetype": "text/x-python",
   "name": "python",
   "nbconvert_exporter": "python",
   "pygments_lexer": "ipython3",
   "version": "3.11.4"
  }
 },
 "nbformat": 4,
 "nbformat_minor": 5
}
