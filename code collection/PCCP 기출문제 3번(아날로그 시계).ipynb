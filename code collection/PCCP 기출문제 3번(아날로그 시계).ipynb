{
 "cells": [
  {
   "cell_type": "code",
   "execution_count": null,
   "id": "99c911ef",
   "metadata": {},
   "outputs": [],
   "source": [
    "def solution(h1,m1,s1,h2,m2,s2):\n",
    "    answer = 0\n",
    "    \n",
    "    startTime = h1 * 3600 + m1 * 60 + s1\n",
    "    endTime = h2 * 3600 + m2 * 60 + s2\n",
    "    \n",
    "    if starTime == 0 * 3600 or startTime == 12 * 3600:\n",
    "        answer += 1\n",
    "    \n",
    "    while startTime < endTime:\n",
    "        hAngle = startTime / 120 % 360\n",
    "        mAngle = startTime / 10 % 360\n",
    "        sAngle = startTime * 6 % 360\n",
    "        \n",
    "        hNextAngle = 360 if (startTime +1) / 120 % 360 == 0 else (startTime + 1) / 120 % 360\n",
    "        mNextAngle = 360 if (startTime + 1) / 10 % 360 == 0 else (startTime + 1) / 10 % 360\n",
    "        sNextAngle = 360 if (startTime + 1) * 6 % 360 == 0 else (startTime + 1) * 6 % 360\n",
    "        \n",
    "        if sAngle < hAngle and sNextAngle > hNextAngle:\n",
    "            answer += 1\n",
    "        elif sAngle < mAngle and sNextAngle > mNextAngle:\n",
    "            answer += 1\n",
    "        elif sNextAngle == hNextAngle and hNextAngle == mNextAngle:\n",
    "            answer -= 1\n",
    "        \n",
    "        startTime += 1\n",
    "    return answer"
   ]
  }
 ],
 "metadata": {
  "kernelspec": {
   "display_name": "Python 3 (ipykernel)",
   "language": "python",
   "name": "python3"
  },
  "language_info": {
   "codemirror_mode": {
    "name": "ipython",
    "version": 3
   },
   "file_extension": ".py",
   "mimetype": "text/x-python",
   "name": "python",
   "nbconvert_exporter": "python",
   "pygments_lexer": "ipython3",
   "version": "3.11.4"
  }
 },
 "nbformat": 4,
 "nbformat_minor": 5
}
