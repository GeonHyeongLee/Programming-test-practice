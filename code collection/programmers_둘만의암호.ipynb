{
 "cells": [
  {
   "cell_type": "code",
   "execution_count": 3,
   "id": "91d2c2cd",
   "metadata": {},
   "outputs": [
    {
     "name": "stdout",
     "output_type": "stream",
     "text": [
      "True\n"
     ]
    }
   ],
   "source": [
    "st = 'string'\n",
    "s = 's'\n",
    "if s in st:\n",
    "    print(\"True\")"
   ]
  },
  {
   "cell_type": "code",
   "execution_count": 8,
   "id": "88a41ca2",
   "metadata": {},
   "outputs": [
    {
     "name": "stdout",
     "output_type": "stream",
     "text": [
      "123456\n"
     ]
    }
   ],
   "source": [
    "answer = ['1','2','3','4','56']\n",
    "new_answer = ''.join(answer)\n",
    "print(new_answer)"
   ]
  },
  {
   "cell_type": "code",
   "execution_count": null,
   "id": "01019e3e",
   "metadata": {},
   "outputs": [],
   "source": [
    "# alpha = 'abcdefghijklmnopqrstuvwxyz'\n",
    "def solution(s, skip, index):\n",
    "    alpha = 'abcdefghijklmnopqrstuvwxyz'\n",
    "    for skip_string in list(skip):\n",
    "        alpha = alpha.replace(skip_string, '')\n",
    "    \n",
    "    answer = ''\n",
    "    for s_string in s:\n",
    "        answer += alpha[(alpha.find(s_string)+index) % len(alpha)]\n",
    "    \n",
    "    return answer\n",
    "    "
   ]
  }
 ],
 "metadata": {
  "kernelspec": {
   "display_name": "Python 3 (ipykernel)",
   "language": "python",
   "name": "python3"
  },
  "language_info": {
   "codemirror_mode": {
    "name": "ipython",
    "version": 3
   },
   "file_extension": ".py",
   "mimetype": "text/x-python",
   "name": "python",
   "nbconvert_exporter": "python",
   "pygments_lexer": "ipython3",
   "version": "3.11.4"
  }
 },
 "nbformat": 4,
 "nbformat_minor": 5
}
