{
 "cells": [
  {
   "cell_type": "code",
   "execution_count": 60,
   "id": "4e465895",
   "metadata": {},
   "outputs": [],
   "source": [
    "def solution(k, score):\n",
    "    answer = []\n",
    "    honor = []\n",
    "    for i in range(k):\n",
    "        honor.append(score[i])\n",
    "        answer.append(min(honor))\n",
    "        \n",
    "    \n",
    "    for j in range(len(score)-k):  # 3 4 5 6\n",
    "        if score[j+k] > min(honor):\n",
    "            honor.append(score[j+k])\n",
    "            honor.remove(min(honor))\n",
    "            answer.append(min(honor))\n",
    "            \n",
    "        else:\n",
    "            answer.append(min(honor))\n",
    "    return answer"
   ]
  },
  {
   "cell_type": "code",
   "execution_count": 61,
   "id": "78cc003b",
   "metadata": {},
   "outputs": [
    {
     "data": {
      "text/plain": [
       "[10, 10, 10, 20, 20, 100, 100]"
      ]
     },
     "execution_count": 61,
     "metadata": {},
     "output_type": "execute_result"
    }
   ],
   "source": [
    "solution(3,[10,100,20,150,1,100,200])"
   ]
  },
  {
   "cell_type": "code",
   "execution_count": 24,
   "id": "a125a6c3",
   "metadata": {},
   "outputs": [
    {
     "data": {
      "text/plain": [
       "[0, 0, 0, 0, 40, 300, 300, 300]"
      ]
     },
     "execution_count": 24,
     "metadata": {},
     "output_type": "execute_result"
    }
   ],
   "source": [
    "solution(4, [0, 300, 40, 300, 20, 70, 150, 50, 500, 1000])"
   ]
  },
  {
   "cell_type": "code",
   "execution_count": 62,
   "id": "f7835ae9",
   "metadata": {},
   "outputs": [],
   "source": [
    "def solution(k, score):\n",
    "    answer = []\n",
    "    a=[]\n",
    "    for i in score:\n",
    "        if len(a)<k:\n",
    "            a.append(i)\n",
    "        else:\n",
    "            if min(a)<i:\n",
    "                a.remove(min(a))\n",
    "                a.append(i)\n",
    "        answer.append(min(a))\n",
    "    return answer"
   ]
  },
  {
   "cell_type": "code",
   "execution_count": 63,
   "id": "73569285",
   "metadata": {},
   "outputs": [],
   "source": [
    "def solution(k, score):\n",
    "    answer = []\n",
    "    honor = []\n",
    "    \n",
    "    for s in score:\n",
    "        if len(honor) < k:\n",
    "            honor.append(s)\n",
    "        else:\n",
    "            if s > min(honor):\n",
    "                honor.append(s)\n",
    "                honor.remove(min(honor))\n",
    "        answer.append(min(honor))\n",
    "    return answer"
   ]
  },
  {
   "cell_type": "code",
   "execution_count": 64,
   "id": "b41589d7",
   "metadata": {},
   "outputs": [
    {
     "data": {
      "text/plain": [
       "[10, 10, 10, 20, 20, 100, 100]"
      ]
     },
     "execution_count": 64,
     "metadata": {},
     "output_type": "execute_result"
    }
   ],
   "source": [
    "solution(3,[10,100,20,150,1,100,200])"
   ]
  },
  {
   "cell_type": "code",
   "execution_count": null,
   "id": "2e6fbca7",
   "metadata": {},
   "outputs": [],
   "source": []
  }
 ],
 "metadata": {
  "kernelspec": {
   "display_name": "Python 3 (ipykernel)",
   "language": "python",
   "name": "python3"
  },
  "language_info": {
   "codemirror_mode": {
    "name": "ipython",
    "version": 3
   },
   "file_extension": ".py",
   "mimetype": "text/x-python",
   "name": "python",
   "nbconvert_exporter": "python",
   "pygments_lexer": "ipython3",
   "version": "3.11.4"
  }
 },
 "nbformat": 4,
 "nbformat_minor": 5
}
