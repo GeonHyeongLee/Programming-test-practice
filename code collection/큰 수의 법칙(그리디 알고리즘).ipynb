{
 "cells": [
  {
   "cell_type": "code",
   "execution_count": 9,
   "id": "2fa45522",
   "metadata": {},
   "outputs": [
    {
     "name": "stdout",
     "output_type": "stream",
     "text": [
      "5 8 3\n",
      "2 4 5 4 6\n",
      "46\n"
     ]
    }
   ],
   "source": [
    "# M번 더한다, 연속 K번 초과하여 더할 수 없다\n",
    "# 첫째 줄에 N,M,K의 자연수가 주어지며 각 자연수는 공백으로 구분한다.\n",
    "# 둘째 줄에 N개의 자연수가 주어진다. 각 자연수는 공백으로 구분한다. 단, 각각의 자연수는 1이상 10000이하의 수로 주어진다\n",
    "# 입력으로 주어지는 K는 항상 M보다 작거나 같다.\n",
    "\n",
    "# 첫째 줄에 동빈이의 큰 수의 법칙에 따라 더해진 답을 출력한다.\n",
    "\n",
    "\n",
    "#5 8 3\n",
    "#2 4 5 4 6\n",
    "#666 5 666 5 -> 46\n",
    "\n",
    "N, M, K = map(int, input().split())\n",
    "data = list(map(int, input().split()))\n",
    "\n",
    "# M번 더한다, 하나의 수를 K번 이상 더하지는 않는다.\n",
    "\n",
    "data.sort()\n",
    "\n",
    "first = data[-1]\n",
    "second = data[-2]\n",
    "\n",
    "all_sum = 0\n",
    "\n",
    "while True:\n",
    "    for i in range(K):\n",
    "        if M == 0:\n",
    "            break\n",
    "        all_sum += first\n",
    "        M -= 1\n",
    "    if M == 0:\n",
    "        break\n",
    "        \n",
    "    all_sum += second\n",
    "    M -= 1\n",
    "\n",
    "print(all_sum)"
   ]
  },
  {
   "cell_type": "code",
   "execution_count": 10,
   "id": "8c836339",
   "metadata": {},
   "outputs": [
    {
     "name": "stdout",
     "output_type": "stream",
     "text": [
      "5 8 3\n",
      "2 4 5 4 6\n",
      "46\n"
     ]
    }
   ],
   "source": [
    "n, m, k = map(int, input().split())\n",
    "\n",
    "data = list(map(int, input().split()))\n",
    "\n",
    "data.sort()\n",
    "\n",
    "first = data[-1]\n",
    "second = data[-2]\n",
    "\n",
    "count = int(m / (k+1)) * k # 가장 큰 수가 등장하는 횟수\n",
    "count += m % (k+1) # 나누어 떨어지지 않았을 때 이만큼 더 나올 것\n",
    "\n",
    "answer = 0\n",
    "answer += first * count\n",
    "answer += (m - count) * second\n",
    "\n",
    "print(answer)"
   ]
  },
  {
   "cell_type": "code",
   "execution_count": null,
   "id": "fca15c2d",
   "metadata": {},
   "outputs": [],
   "source": []
  }
 ],
 "metadata": {
  "kernelspec": {
   "display_name": "Python 3 (ipykernel)",
   "language": "python",
   "name": "python3"
  },
  "language_info": {
   "codemirror_mode": {
    "name": "ipython",
    "version": 3
   },
   "file_extension": ".py",
   "mimetype": "text/x-python",
   "name": "python",
   "nbconvert_exporter": "python",
   "pygments_lexer": "ipython3",
   "version": "3.11.4"
  }
 },
 "nbformat": 4,
 "nbformat_minor": 5
}
