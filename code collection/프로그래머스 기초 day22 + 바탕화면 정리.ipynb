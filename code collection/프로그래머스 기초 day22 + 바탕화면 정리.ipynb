{
 "cells": [
  {
   "cell_type": "code",
   "execution_count": 36,
   "id": "a2579080",
   "metadata": {},
   "outputs": [],
   "source": [
    "# 0 떼기\n",
    "def solution(n_str):\n",
    "    return n_str.lstrip('0')"
   ]
  },
  {
   "cell_type": "code",
   "execution_count": 37,
   "id": "a38f2d34",
   "metadata": {},
   "outputs": [
    {
     "data": {
      "text/plain": [
       "'10'"
      ]
     },
     "execution_count": 37,
     "metadata": {},
     "output_type": "execute_result"
    }
   ],
   "source": [
    "solution('0010')"
   ]
  },
  {
   "cell_type": "code",
   "execution_count": 41,
   "id": "6d14ae6b",
   "metadata": {},
   "outputs": [],
   "source": [
    "# 두 수의 합\n",
    "def solution(a,b):\n",
    "    return str(int(a) + int(b))"
   ]
  },
  {
   "cell_type": "code",
   "execution_count": 42,
   "id": "f0b5510d",
   "metadata": {},
   "outputs": [
    {
     "data": {
      "text/plain": [
       "'1316'"
      ]
     },
     "execution_count": 42,
     "metadata": {},
     "output_type": "execute_result"
    }
   ],
   "source": [
    "solution('582','734')"
   ]
  },
  {
   "cell_type": "code",
   "execution_count": 43,
   "id": "7e57c069",
   "metadata": {},
   "outputs": [],
   "source": [
    "# 문자열로 변환\n",
    "def solution(n):\n",
    "\n",
    "    return str(n)"
   ]
  },
  {
   "cell_type": "code",
   "execution_count": 44,
   "id": "3bbb43e2",
   "metadata": {},
   "outputs": [],
   "source": [
    "# 배열의 원소 삭제하기\n",
    "def solution(arr, delete_list):\n",
    "    answer = [i for i in arr if i not in delete_list]\n",
    "    return answer"
   ]
  },
  {
   "cell_type": "code",
   "execution_count": 49,
   "id": "3ee89b29",
   "metadata": {},
   "outputs": [
    {
     "name": "stdout",
     "output_type": "stream",
     "text": [
      "[1, 2, 3, 4]\n"
     ]
    }
   ],
   "source": [
    "a = [1,2,3,4,5]\n",
    "b = [5,6,7]\n",
    "c = [i for i in a if i not in b]\n",
    "print(c)"
   ]
  },
  {
   "cell_type": "code",
   "execution_count": 50,
   "id": "4bdb8880",
   "metadata": {},
   "outputs": [],
   "source": [
    "# 부분 문자열인지 확인하기\n",
    "def solution(my_string, target):\n",
    "    for string in my_string:\n",
    "        if target in my_string:\n",
    "            return 1\n",
    "        else:\n",
    "            return 0"
   ]
  },
  {
   "cell_type": "code",
   "execution_count": 84,
   "id": "d1105f62",
   "metadata": {},
   "outputs": [],
   "source": [
    "# 바탕화면 정리\n",
    "# 맨 오른쪽 파일 = r\n",
    "# 맨 왼쪽 파일 = l\n",
    "# 맨 위 파일 = u\n",
    "# 맨 아래 파일 = d\n",
    "# 잡아야하는 범위 = r < < l, u < < d를 만족하는 사각형\n",
    "def solution(wall):\n",
    "    a, b = [], []\n",
    "    for i in range(len(wall)):\n",
    "        for j in range(len(wall[i])):\n",
    "            if wall[i][j] == \"#\":\n",
    "                a.append(i)\n",
    "                b.append(j)\n",
    "    return [min(a), min(b), max(a) + 1, max(b) + 1]"
   ]
  },
  {
   "cell_type": "code",
   "execution_count": 85,
   "id": "bfd22f55",
   "metadata": {},
   "outputs": [
    {
     "data": {
      "text/plain": [
       "[1, 3, 5, 8]"
      ]
     },
     "execution_count": 85,
     "metadata": {},
     "output_type": "execute_result"
    }
   ],
   "source": [
    "solution([\"..........\", \".....#....\", \"......##..\", \"...##.....\", \"....#.....\"])"
   ]
  },
  {
   "cell_type": "code",
   "execution_count": 86,
   "id": "d3ebc87e",
   "metadata": {},
   "outputs": [],
   "source": [
    "def solution(wall):\n",
    "    a, b = [], []\n",
    "    for i in range(len(wall)):\n",
    "        for j in range(len(wall[i])):\n",
    "            if wall[i][j] == '#':\n",
    "                a.append(i)\n",
    "                b.append(j)\n",
    "    return [min(a), min(b), max(a)+1, max(b)+1]"
   ]
  },
  {
   "cell_type": "code",
   "execution_count": null,
   "id": "115074fb",
   "metadata": {},
   "outputs": [],
   "source": []
  }
 ],
 "metadata": {
  "kernelspec": {
   "display_name": "Python 3 (ipykernel)",
   "language": "python",
   "name": "python3"
  },
  "language_info": {
   "codemirror_mode": {
    "name": "ipython",
    "version": 3
   },
   "file_extension": ".py",
   "mimetype": "text/x-python",
   "name": "python",
   "nbconvert_exporter": "python",
   "pygments_lexer": "ipython3",
   "version": "3.11.4"
  }
 },
 "nbformat": 4,
 "nbformat_minor": 5
}
