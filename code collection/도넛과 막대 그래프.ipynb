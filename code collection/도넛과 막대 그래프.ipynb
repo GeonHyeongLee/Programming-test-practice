{
 "cells": [
  {
   "cell_type": "code",
   "execution_count": null,
   "id": "fd915a5e",
   "metadata": {},
   "outputs": [],
   "source": [
    "# 각각의 그래프를 다음과 같은 조건을 통해 구별한다\n",
    "# '생성된 정점'은 나가는 간선의 수가 2 이상이고, 들어오는 간선의 수가 0\n",
    "# '막대 모양 그래프' 나가는 간선 0개 들어오는 간선 1개인 노드의 개수와 같다\n",
    "# '8자 모양 그래프' 나가는 간선 2개 들어오는 간선 2개인 노드의 개수와 같다\n",
    "# '도넛 모양 그래프'는 '생성된 정점'의 나가는 간선의 수에서 막대 모양 그래프와 8자 모양 그래프의\n",
    "# 개수를 뺴서 구한다\n",
    "\n",
    "def solution(edges):\n",
    "    def count_edges(edges):\n",
    "        edge_counts = {}\n",
    "        for a,b in edges:\n",
    "            # 각 노드별로 간선의 수 추가할 딕셔너리 생성 .get()함수 이용하여 딕셔너리 키 값 추가\n",
    "            if not edge_counts.get(a):\n",
    "                edge_counts[a] = [0,0]\n",
    "            if not edge_counts.get(b):\n",
    "                edge_counts[b] = [0,0]\n",
    "            # output edge와 input edge의 개수를 추가\n",
    "            edge_counts[a][0] += 1 # a는 n번 노드에서 나가는 간선\n",
    "            edge_counts[b][1] += 1 # b는 n번 노드에 들어오는 간선\n",
    "        return edge_counts\n",
    "    \n",
    "    def check_answer(edge_counts):\n",
    "        answer = [0,0,0,0]\n",
    "        for key, counts in edge_counts.items():\n",
    "            # 정점 확인 = 나가는 것 2 이상 들어오는 간선 0\n",
    "            if counts[0] >= 2 and counts[1] == 0:\n",
    "                answer[0] = key\n",
    "            # 막대 모양 그래프 확인 = 나가는 간선 0 들어오는 간선 1이상 노드 개수\n",
    "            elif counts[0] == 0 and counts[1] > 0:\n",
    "                answer[2] += 1\n",
    "            # 8자 모양 그래프 확인 = 나가는 간선 2이상 들어오는 간선 2이상\n",
    "            elif counts[0] >= 2 and counts[1] >= 2:\n",
    "                answer[3] += 1\n",
    "        # 도넛 모양은 정점에서 나가는 간선의 수 - 막대 모양 수 - 8자 모양 수\n",
    "        answer[1] = (edge_counts[answer[0]][0] - answer[2] - answer[3])\n",
    "        \n",
    "        return answer\n",
    "\n",
    "    edge_counts = count_edges(edges)\n",
    "    answer = check_answer(edge_counts)\n",
    "\n",
    "    return answer"
   ]
  }
 ],
 "metadata": {
  "kernelspec": {
   "display_name": "Python 3 (ipykernel)",
   "language": "python",
   "name": "python3"
  },
  "language_info": {
   "codemirror_mode": {
    "name": "ipython",
    "version": 3
   },
   "file_extension": ".py",
   "mimetype": "text/x-python",
   "name": "python",
   "nbconvert_exporter": "python",
   "pygments_lexer": "ipython3",
   "version": "3.11.4"
  }
 },
 "nbformat": 4,
 "nbformat_minor": 5
}
