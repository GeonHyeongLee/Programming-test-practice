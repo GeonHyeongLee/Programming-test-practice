{
 "cells": [
  {
   "cell_type": "code",
   "execution_count": 11,
   "id": "f3d7919f",
   "metadata": {},
   "outputs": [],
   "source": [
    "# 원래 이용료 = price\n",
    "# N번째 이용 시 이용료 = price * N\n",
    "# 놀이기구 count번 탈 때 자신의 금액이 얼마 부족한지 return\n",
    "# 3 + 6 + 9 + 12 = 30 money = 20 -> result = 10\n",
    "# count = n price = p일 때 필요한 총 금액은 sum(1~n) * p일 것\n",
    "def solution(price, money, count):\n",
    "    count_sum = 0\n",
    "    for i in range(count+1):\n",
    "        count_sum += i\n",
    "    price_sum = price * count_sum\n",
    "    \n",
    "    if price_sum - money \n",
    "    return price_sum - money"
   ]
  },
  {
   "cell_type": "code",
   "execution_count": 12,
   "id": "7787af9f",
   "metadata": {},
   "outputs": [
    {
     "data": {
      "text/plain": [
       "-10"
      ]
     },
     "execution_count": 12,
     "metadata": {},
     "output_type": "execute_result"
    }
   ],
   "source": [
    "solution(3,20,4)"
   ]
  },
  {
   "cell_type": "code",
   "execution_count": null,
   "id": "0b2fdb36",
   "metadata": {},
   "outputs": [],
   "source": []
  }
 ],
 "metadata": {
  "kernelspec": {
   "display_name": "Python 3 (ipykernel)",
   "language": "python",
   "name": "python3"
  },
  "language_info": {
   "codemirror_mode": {
    "name": "ipython",
    "version": 3
   },
   "file_extension": ".py",
   "mimetype": "text/x-python",
   "name": "python",
   "nbconvert_exporter": "python",
   "pygments_lexer": "ipython3",
   "version": "3.11.4"
  }
 },
 "nbformat": 4,
 "nbformat_minor": 5
}
