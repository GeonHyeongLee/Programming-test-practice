{
 "cells": [
  {
   "cell_type": "code",
   "execution_count": null,
   "id": "4f5f9e85",
   "metadata": {},
   "outputs": [],
   "source": [
    "answer = 0\n",
    "def dfs(numbers, target, idx, result):\n",
    "    global answer\n",
    "    n = len(numbers)\n",
    "    if idx == n:\n",
    "        if result == target:\n",
    "            answer += 1\n",
    "            return\n",
    "    else:\n",
    "        dfs(numbers, target, idx+1, result+numbers[idx])\n",
    "        dfs(numbers, target, idx+1, result-numbers[idx])\n",
    "    \n",
    "def solution(numbers, target):\n",
    "    \n",
    "    dfs(numbers, target, 0, 0)\n",
    "    \n",
    "    return answer"
   ]
  },
  {
   "cell_type": "code",
   "execution_count": null,
   "id": "b4c9a5c6",
   "metadata": {},
   "outputs": [],
   "source": []
  },
  {
   "cell_type": "code",
   "execution_count": 2,
   "id": "cff6ea99",
   "metadata": {},
   "outputs": [],
   "source": [
    "answer = 0\n",
    "\n",
    "def dfs(numbers, target, idx, result):\n",
    "    global answer\n",
    "    n = len(numbers)\n",
    "    \n",
    "    if idx == n:\n",
    "        if result == target:\n",
    "            answer += 1\n",
    "            return\n",
    "    else:\n",
    "        dfs(numbers, target, idx+1, result + numbers[idx])\n",
    "        dfs(numbers, target, idx+1, result - numbers[idx])\n",
    "\n",
    "def solution(numbers, target):\n",
    "    dfs(numbers, target, 0, 0)\n",
    "    \n",
    "    return answer"
   ]
  },
  {
   "cell_type": "code",
   "execution_count": null,
   "id": "01840ee8",
   "metadata": {},
   "outputs": [],
   "source": []
  },
  {
   "cell_type": "code",
   "execution_count": null,
   "id": "e712dba2",
   "metadata": {},
   "outputs": [],
   "source": []
  },
  {
   "cell_type": "code",
   "execution_count": null,
   "id": "094863d2",
   "metadata": {},
   "outputs": [],
   "source": [
    "answer = 0\n",
    "def solution(numbers, target):\n",
    "    \n",
    "    def dfs(numbers, target, idx, result):\n",
    "        global answer\n",
    "        if idx == len(numbers):\n",
    "            if result == target:\n",
    "                answer += 1\n",
    "                return\n",
    "        else:\n",
    "            dfs(numbers, target, idx+1, result + numbers[idx])\n",
    "            dfs(numbers, target, idx+1, result - numbers[idx])\n",
    "    \n",
    "    dfs(numbers, target, 0, 0)\n",
    "    \n",
    "    return answer"
   ]
  },
  {
   "cell_type": "code",
   "execution_count": null,
   "id": "19e37764",
   "metadata": {},
   "outputs": [],
   "source": []
  },
  {
   "cell_type": "code",
   "execution_count": null,
   "id": "dac6ccc3",
   "metadata": {},
   "outputs": [],
   "source": []
  },
  {
   "cell_type": "code",
   "execution_count": null,
   "id": "820ea2ec",
   "metadata": {},
   "outputs": [],
   "source": []
  },
  {
   "cell_type": "code",
   "execution_count": null,
   "id": "4f046dd0",
   "metadata": {},
   "outputs": [],
   "source": []
  },
  {
   "cell_type": "code",
   "execution_count": null,
   "id": "d9d2ec77",
   "metadata": {},
   "outputs": [],
   "source": []
  },
  {
   "cell_type": "code",
   "execution_count": null,
   "id": "4eecdcf8",
   "metadata": {},
   "outputs": [],
   "source": []
  },
  {
   "cell_type": "code",
   "execution_count": null,
   "id": "a936f330",
   "metadata": {},
   "outputs": [],
   "source": [
    "answer = 0\n",
    "\n",
    "def dfs(numbers, target, idx, result):\n",
    "    global answer\n",
    "    \n",
    "    n = len(numbers)\n",
    "    \n",
    "    if idx == n:\n",
    "        if result == target:\n",
    "            answer += 1\n",
    "            return\n",
    "    else:\n",
    "        dfs(numbers, target, idx+1, result + numbers[idx])\n",
    "        dfs(numbers, target, idx+1, result - numbers[idx])\n",
    "\n",
    "def solution(numbers, target):\n",
    "    dfs(numbers, target, 0, 0)\n",
    "    \n",
    "    return answer"
   ]
  }
 ],
 "metadata": {
  "kernelspec": {
   "display_name": "Python 3 (ipykernel)",
   "language": "python",
   "name": "python3"
  },
  "language_info": {
   "codemirror_mode": {
    "name": "ipython",
    "version": 3
   },
   "file_extension": ".py",
   "mimetype": "text/x-python",
   "name": "python",
   "nbconvert_exporter": "python",
   "pygments_lexer": "ipython3",
   "version": "3.11.4"
  }
 },
 "nbformat": 4,
 "nbformat_minor": 5
}
