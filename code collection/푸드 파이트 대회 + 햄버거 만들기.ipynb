{
 "cells": [
  {
   "cell_type": "code",
   "execution_count": 21,
   "id": "b9d3156c",
   "metadata": {},
   "outputs": [],
   "source": [
    "# food[0] = 물 1로 고정\n",
    "# fodd[1] = i번 음식의 수\n",
    "# [1,3,4,6] = 01112222333333 -> 1220333221\n",
    "\n",
    "def solution(food):\n",
    "    answer = ''\n",
    "    \n",
    "    for i in range(len(food)):\n",
    "        if food[i] % 2 == 1:\n",
    "            if i != 0:\n",
    "                answer += str(i) * (food[i]-1)\n",
    "            else:\n",
    "                answer += str(i) * food[i]\n",
    "        else:\n",
    "            answer += str(i) * food[i]\n",
    "    # food[0] = 1 가운데로 옮기기 index(len(answer) / 2 - 1)\n",
    "    # food[1] = 3 한번 옮기기\n",
    "    # food[2] = 4 두번 옮기기\n",
    "    # 1223330333221\n",
    "    # 0112222333333\n",
    "    result1 = ''\n",
    "    result2 = ''\n",
    "    for r in range(1,len(answer),2):\n",
    "        result1 += answer[r]\n",
    "    for r in range(2, len(answer), 2):\n",
    "        result2 += answer[r]\n",
    "    \n",
    "    return result1 + '0' + result2[::-1]"
   ]
  },
  {
   "cell_type": "code",
   "execution_count": 22,
   "id": "2a62c10d",
   "metadata": {},
   "outputs": [
    {
     "data": {
      "text/plain": [
       "'1223330333221'"
      ]
     },
     "execution_count": 22,
     "metadata": {},
     "output_type": "execute_result"
    }
   ],
   "source": [
    "solution([1,3,4,6])"
   ]
  },
  {
   "cell_type": "code",
   "execution_count": null,
   "id": "36b80b91",
   "metadata": {},
   "outputs": [],
   "source": []
  },
  {
   "cell_type": "code",
   "execution_count": 27,
   "id": "e11d4135",
   "metadata": {},
   "outputs": [],
   "source": [
    "# ingredient가 1 = 빵, 2 = 야채, 3 = 고기\n",
    "# 1231이면 햄버거 하나가 만들어진다\n",
    "# [2,1,1,2,3,1,2,3,1] -> index[1:4]. index[5:8]\n",
    "# [1,3,2,1,2,1,3,1,2] -> \n",
    "def solution(ingredient):\n",
    "    s = []\n",
    "    cnt = 0\n",
    "    for i in ingredient:\n",
    "        s.append(i)\n",
    "        if s[-4:] == [1,2,3,1]:\n",
    "            cnt += 1\n",
    "            for _ in range(4):\n",
    "                s.pop()\n",
    "    return cnt\n",
    "            "
   ]
  },
  {
   "cell_type": "code",
   "execution_count": 28,
   "id": "4b182497",
   "metadata": {},
   "outputs": [
    {
     "data": {
      "text/plain": [
       "2"
      ]
     },
     "execution_count": 28,
     "metadata": {},
     "output_type": "execute_result"
    }
   ],
   "source": [
    "solution([2,1,1,2,3,1,2,3,1])"
   ]
  },
  {
   "cell_type": "code",
   "execution_count": null,
   "id": "e39fbbe0",
   "metadata": {},
   "outputs": [],
   "source": []
  }
 ],
 "metadata": {
  "kernelspec": {
   "display_name": "Python 3 (ipykernel)",
   "language": "python",
   "name": "python3"
  },
  "language_info": {
   "codemirror_mode": {
    "name": "ipython",
    "version": 3
   },
   "file_extension": ".py",
   "mimetype": "text/x-python",
   "name": "python",
   "nbconvert_exporter": "python",
   "pygments_lexer": "ipython3",
   "version": "3.11.4"
  }
 },
 "nbformat": 4,
 "nbformat_minor": 5
}
