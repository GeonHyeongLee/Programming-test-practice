{
 "cells": [
  {
   "cell_type": "code",
   "execution_count": 61,
   "id": "1051df39",
   "metadata": {},
   "outputs": [],
   "source": [
    "# 1번 경우 : 80, 70 -> 80 -> (80,40) -> (60,50)x(30,70)ㅇ,(60,30)o,(80,40)o\n",
    "# 2번 경우 : 14,15 -> 15 -> (15,0) or (0,15)에 대해 for문 반복하면서 0이 작을 때 \n",
    "# 그 값을 0에 넣어준다 result = 15 * x\n",
    "def solution(sizes):\n",
    "    answer = 0\n",
    "    big_1 = 0\n",
    "    big_2 = 0\n",
    "    first = []\n",
    "    second = []\n",
    "    for i in range(len(sizes)):\n",
    "        first.append(sizes[i][0])\n",
    "        second.append(sizes[i][1])\n",
    "    big_1 = max(first)\n",
    "    big_2 = max(second)\n",
    "    bigger = max(big_1,big_2)\n",
    "    \n",
    "    ready = 0\n",
    "    lis = [bigger,ready]\n",
    "    for i in range(len(sizes)):\n",
    "        if (ready > min(sizes[i][0],sizes[i][1])):\n",
    "            pass\n",
    "        else:\n",
    "            ready = min(sizes[i][0],sizes[i][1])\n",
    "    return ready * bigger"
   ]
  },
  {
   "cell_type": "code",
   "execution_count": 62,
   "id": "3603862f",
   "metadata": {},
   "outputs": [
    {
     "data": {
      "text/plain": [
       "4000"
      ]
     },
     "execution_count": 62,
     "metadata": {},
     "output_type": "execute_result"
    }
   ],
   "source": [
    "solution([[60, 50], [30, 70], [60, 30], [80, 40]])"
   ]
  },
  {
   "cell_type": "code",
   "execution_count": 63,
   "id": "d52711bf",
   "metadata": {},
   "outputs": [
    {
     "data": {
      "text/plain": [
       "120"
      ]
     },
     "execution_count": 63,
     "metadata": {},
     "output_type": "execute_result"
    }
   ],
   "source": [
    "solution([[10, 7], [12, 3], [8, 15], [14, 7], [5, 15]])"
   ]
  },
  {
   "cell_type": "code",
   "execution_count": null,
   "id": "4177946b",
   "metadata": {},
   "outputs": [],
   "source": [
    "def solution(sizes):\n",
    "    return max(max(x) for x in sizes) * max(min(x) for x in sizes)"
   ]
  }
 ],
 "metadata": {
  "kernelspec": {
   "display_name": "Python 3 (ipykernel)",
   "language": "python",
   "name": "python3"
  },
  "language_info": {
   "codemirror_mode": {
    "name": "ipython",
    "version": 3
   },
   "file_extension": ".py",
   "mimetype": "text/x-python",
   "name": "python",
   "nbconvert_exporter": "python",
   "pygments_lexer": "ipython3",
   "version": "3.11.4"
  }
 },
 "nbformat": 4,
 "nbformat_minor": 5
}
