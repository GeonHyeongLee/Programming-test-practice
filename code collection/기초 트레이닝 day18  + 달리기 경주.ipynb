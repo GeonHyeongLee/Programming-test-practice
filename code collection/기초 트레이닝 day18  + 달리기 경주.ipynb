{
 "cells": [
  {
   "cell_type": "code",
   "execution_count": 7,
   "id": "fa587d38",
   "metadata": {},
   "outputs": [],
   "source": [
    "# x사이의 개수\n",
    "def solution(myString):\n",
    "    answer = []\n",
    "    myString =  myString.split('x')\n",
    "    for i,v in enumerate(myString):\n",
    "        answer.append(len(myString[i]))\n",
    "    return answer"
   ]
  },
  {
   "cell_type": "code",
   "execution_count": 8,
   "id": "d41a5b16",
   "metadata": {},
   "outputs": [
    {
     "data": {
      "text/plain": [
       "[1, 2, 1, 0, 1, 0]"
      ]
     },
     "execution_count": 8,
     "metadata": {},
     "output_type": "execute_result"
    }
   ],
   "source": [
    "solution(\"oxooxoxxox\")"
   ]
  },
  {
   "cell_type": "code",
   "execution_count": 28,
   "id": "9aa484f3",
   "metadata": {},
   "outputs": [],
   "source": [
    "# 문자열 잘라서 정렬하기\n",
    "def solution(myString):\n",
    "    answer = []\n",
    "    myString = myString.split('x')\n",
    "    myString = list(filter(None, myString))\n",
    "    answer = sorted(myString)\n",
    "    return answer"
   ]
  },
  {
   "cell_type": "code",
   "execution_count": 29,
   "id": "74542ede",
   "metadata": {},
   "outputs": [
    {
     "data": {
      "text/plain": [
       "['aaaa', 'bbb', 'cc', 'd']"
      ]
     },
     "execution_count": 29,
     "metadata": {},
     "output_type": "execute_result"
    }
   ],
   "source": [
    "solution(\"dxccxbbbxaaaa\")"
   ]
  },
  {
   "cell_type": "code",
   "execution_count": 23,
   "id": "ccaa705c",
   "metadata": {},
   "outputs": [
    {
     "name": "stdout",
     "output_type": "stream",
     "text": [
      "[1, 2, 3, 4, 6]\n"
     ]
    }
   ],
   "source": [
    "a = [6,4,3,2,1]\n",
    "b = sorted(a)\n",
    "print(b)"
   ]
  },
  {
   "cell_type": "code",
   "execution_count": 34,
   "id": "fb1019d2",
   "metadata": {},
   "outputs": [],
   "source": [
    "# 간단한 식 계산하기\n",
    "def solution(binomial):\n",
    "    binomial = binomial.split(' ')\n",
    "    a = int(binomial[0])\n",
    "    b = int(binomial[2])\n",
    "    op = binomial[1]\n",
    "    if op == '+':\n",
    "        return a + b\n",
    "    elif op == '-':\n",
    "        return a - b\n",
    "    else:\n",
    "        return a * b"
   ]
  },
  {
   "cell_type": "code",
   "execution_count": 35,
   "id": "97f15704",
   "metadata": {},
   "outputs": [
    {
     "data": {
      "text/plain": [
       "55"
      ]
     },
     "execution_count": 35,
     "metadata": {},
     "output_type": "execute_result"
    }
   ],
   "source": [
    "solution('43 + 12')"
   ]
  },
  {
   "cell_type": "code",
   "execution_count": 50,
   "id": "e7253094",
   "metadata": {},
   "outputs": [],
   "source": [
    "# 문자열 바꿔서 찾기\n",
    "def solution(myString, pat):\n",
    "    myString = ''.join([\"B\" if s == 'A' else 'A' for s in myString])\n",
    "    \n",
    "    return 1 if pat in myString else 0"
   ]
  },
  {
   "cell_type": "code",
   "execution_count": 54,
   "id": "e7ba2b8a",
   "metadata": {},
   "outputs": [],
   "source": [
    "def solution(myString, pat):\n",
    "    myString = ''.join(['B' if s== 'A' else 'A' for s in myString])\n",
    "    \n",
    "    return 1 if pat in myString else 0"
   ]
  },
  {
   "cell_type": "code",
   "execution_count": 55,
   "id": "9930130c",
   "metadata": {},
   "outputs": [
    {
     "data": {
      "text/plain": [
       "1"
      ]
     },
     "execution_count": 55,
     "metadata": {},
     "output_type": "execute_result"
    }
   ],
   "source": [
    "solution('ABBAA','AABB')"
   ]
  },
  {
   "cell_type": "code",
   "execution_count": 81,
   "id": "96844a1f",
   "metadata": {},
   "outputs": [],
   "source": [
    "# rny_string\n",
    "def solution(rny_string):\n",
    "    answer = []\n",
    "    for i in range(len(rny_string)):\n",
    "        if rny_string[i] == 'm':\n",
    "            answer.append('rn')\n",
    "        else:\n",
    "            answer.append(rny_string[i])\n",
    "    return ''.join(answer)"
   ]
  },
  {
   "cell_type": "code",
   "execution_count": 83,
   "id": "c96a43ba",
   "metadata": {},
   "outputs": [],
   "source": [
    "def solution(rny_string):\n",
    "    return rny_string.replace('m','rn')"
   ]
  },
  {
   "cell_type": "code",
   "execution_count": 84,
   "id": "5bcc92ba",
   "metadata": {},
   "outputs": [
    {
     "data": {
      "text/plain": [
       "'rnasterpiece'"
      ]
     },
     "execution_count": 84,
     "metadata": {},
     "output_type": "execute_result"
    }
   ],
   "source": [
    "solution(\"masterpiece\")"
   ]
  },
  {
   "cell_type": "code",
   "execution_count": 101,
   "id": "44c83485",
   "metadata": {},
   "outputs": [],
   "source": [
    "# 달리기 경주\n",
    "# 1. callings[i]에 이름이 불리면 불린 사람과 바로 앞 index 사람 사이의 index\n",
    "# 가 교환되게만 하면 된다\n",
    "# 2. for은 callings의 길이만큼 반복하면 된다\n",
    "def solution(players, callings):\n",
    "    dict_player = {'0':}"
   ]
  },
  {
   "cell_type": "code",
   "execution_count": 102,
   "id": "0bece0a1",
   "metadata": {},
   "outputs": [
    {
     "data": {
      "text/plain": [
       "[3, 3, 4, 4]"
      ]
     },
     "execution_count": 102,
     "metadata": {},
     "output_type": "execute_result"
    }
   ],
   "source": [
    "solution([\"mumu\", \"soe\", \"poe\", \"kai\", \"mine\"],[\"kai\", \"kai\", \"mine\", \"mine\"])"
   ]
  },
  {
   "cell_type": "code",
   "execution_count": 105,
   "id": "092f59b6",
   "metadata": {},
   "outputs": [],
   "source": [
    "def solution(players, callings):\n",
    "    result = {player:i for i, player in enumerate(players)}\n",
    "    return result"
   ]
  },
  {
   "cell_type": "code",
   "execution_count": 106,
   "id": "02878299",
   "metadata": {},
   "outputs": [
    {
     "data": {
      "text/plain": [
       "{'mumu': 0, 'soe': 1, 'poe': 2, 'kai': 3, 'mine': 4}"
      ]
     },
     "execution_count": 106,
     "metadata": {},
     "output_type": "execute_result"
    }
   ],
   "source": [
    "solution([\"mumu\", \"soe\", \"poe\", \"kai\", \"mine\"],[\"kai\", \"kai\", \"mine\", \"mine\"])"
   ]
  },
  {
   "cell_type": "code",
   "execution_count": 113,
   "id": "a78f0e2a",
   "metadata": {},
   "outputs": [],
   "source": []
  },
  {
   "cell_type": "code",
   "execution_count": 114,
   "id": "66269097",
   "metadata": {},
   "outputs": [
    {
     "data": {
      "text/plain": [
       "['mumu', 'kai', 'mine', 'soe', 'poe']"
      ]
     },
     "execution_count": 114,
     "metadata": {},
     "output_type": "execute_result"
    }
   ],
   "source": [
    "solution([\"mumu\", \"soe\", \"poe\", \"kai\", \"mine\"],[\"kai\", \"kai\", \"mine\", \"mine\"])"
   ]
  },
  {
   "cell_type": "code",
   "execution_count": null,
   "id": "d7f0e855",
   "metadata": {},
   "outputs": [],
   "source": []
  }
 ],
 "metadata": {
  "kernelspec": {
   "display_name": "Python 3 (ipykernel)",
   "language": "python",
   "name": "python3"
  },
  "language_info": {
   "codemirror_mode": {
    "name": "ipython",
    "version": 3
   },
   "file_extension": ".py",
   "mimetype": "text/x-python",
   "name": "python",
   "nbconvert_exporter": "python",
   "pygments_lexer": "ipython3",
   "version": "3.11.4"
  }
 },
 "nbformat": 4,
 "nbformat_minor": 5
}
