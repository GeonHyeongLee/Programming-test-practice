{
 "cells": [
  {
   "cell_type": "code",
   "execution_count": null,
   "id": "e068410d",
   "metadata": {},
   "outputs": [],
   "source": []
  },
  {
   "cell_type": "code",
   "execution_count": null,
   "id": "086cf9ed",
   "metadata": {},
   "outputs": [],
   "source": [
    "from collections import deque\n",
    "\n",
    "def solution(maps):\n",
    "    answer = 0\n",
    "    \n",
    "    def dfs(i):\n",
    "        visited[i] == 1\n",
    "        \n",
    "        for a in range(len(maps)):\n",
    "            if maps[i][a] == 1 and vistied[a] == 0:\n",
    "                dfs(a)\n",
    "    \n",
    "    visited = [0 for i in range(len(maps))]\n",
    "    \n",
    "    for i in range(len(maps)):\n",
    "        if visited[i] == 0:\n",
    "            \n",
    "        \n",
    "    \n",
    "    return answer"
   ]
  },
  {
   "cell_type": "code",
   "execution_count": null,
   "id": "ec94c1cd",
   "metadata": {},
   "outputs": [],
   "source": []
  },
  {
   "cell_type": "code",
   "execution_count": null,
   "id": "a75a7147",
   "metadata": {},
   "outputs": [],
   "source": []
  },
  {
   "cell_type": "code",
   "execution_count": null,
   "id": "9f54a325",
   "metadata": {},
   "outputs": [],
   "source": []
  },
  {
   "cell_type": "code",
   "execution_count": null,
   "id": "b9f68048",
   "metadata": {},
   "outputs": [],
   "source": []
  },
  {
   "cell_type": "code",
   "execution_count": null,
   "id": "b63a7f63",
   "metadata": {},
   "outputs": [],
   "source": []
  },
  {
   "cell_type": "code",
   "execution_count": null,
   "id": "823d8189",
   "metadata": {},
   "outputs": [],
   "source": []
  },
  {
   "cell_type": "code",
   "execution_count": null,
   "id": "52f7aed5",
   "metadata": {},
   "outputs": [],
   "source": []
  },
  {
   "cell_type": "code",
   "execution_count": null,
   "id": "1dd3ed34",
   "metadata": {},
   "outputs": [],
   "source": []
  },
  {
   "cell_type": "code",
   "execution_count": null,
   "id": "cc9a7cda",
   "metadata": {},
   "outputs": [],
   "source": []
  },
  {
   "cell_type": "code",
   "execution_count": null,
   "id": "7dda82ad",
   "metadata": {},
   "outputs": [],
   "source": [
    "from collections import deque\n",
    "\n",
    "def solution(maps):\n",
    "    answer = 0\n",
    "    \n",
    "    dx = [-1,1,0,0]\n",
    "    dy = [0,0,-1,1]\n",
    "    \n",
    "    def bfs(x,y):\n",
    "        queue = deque()\n",
    "        queue.append((x,y))\n",
    "        \n",
    "        while queue:\n",
    "            x, y = queue.popleft()\n",
    "            for i in range(4):\n",
    "                nx = x + dx[i]\n",
    "                ny = y + dy[i]\n",
    "                \n",
    "                if nx < 0 or nx > len(maps) - 1 or ny < 0 or ny > len(maps) -1:\n",
    "                    continue\n",
    "                if maps[nx][ny] == 0:\n",
    "                    continue\n",
    "                if maps[nx][ny] == 1:\n",
    "                    maps[nx][ny] = maps[nx][ny] + 1\n",
    "                    queue.append((nx,ny))\n",
    "                    \n",
    "        return maps[len(maps)-1][len(maps[0])-1]\n",
    "    \n",
    "    answer = bfs(0,0)\n",
    "    if answer == 1:\n",
    "        return -1\n",
    "    else:\n",
    "        return answer"
   ]
  },
  {
   "cell_type": "code",
   "execution_count": null,
   "id": "e13600fb",
   "metadata": {},
   "outputs": [],
   "source": []
  },
  {
   "cell_type": "code",
   "execution_count": null,
   "id": "3055e4e5",
   "metadata": {},
   "outputs": [],
   "source": []
  },
  {
   "cell_type": "code",
   "execution_count": null,
   "id": "01b42fb8",
   "metadata": {},
   "outputs": [],
   "source": []
  },
  {
   "cell_type": "code",
   "execution_count": null,
   "id": "3a2263d5",
   "metadata": {},
   "outputs": [],
   "source": [
    "from collections import deque\n",
    "\n",
    "def solution(maps):\n",
    "    \n",
    "    answer = 0\n",
    "    \n",
    "    # 상하좌우 지정\n",
    "    dx = [-1,1,0,0]\n",
    "    dy = [0,0,-1,1]\n",
    "    \n",
    "    def bfs(x,y):\n",
    "        queue = deque()\n",
    "        queue.append((x,y))\n",
    "        \n",
    "        # queue가 빌 때까지 확인\n",
    "        while queue:\n",
    "            x, y = queue.popleft()\n",
    "            # 상하좌우 확인\n",
    "            for i in range(4):\n",
    "                nx = x + dx[i]\n",
    "                ny = y + dy[i]\n",
    "\n",
    "                # 범위를 벗어나면 무시\n",
    "                if nx < 0 or nx > len(maps) -1 or ny < 0 or ny > len(maps) - 1:\n",
    "                    continue\n",
    "\n",
    "                # 0 즉 벽을 만나도 무시\n",
    "                if maps[nx][ny] == 0:\n",
    "                    continue\n",
    "\n",
    "                # 새로운 길 1을 만나면 x,y에 +1을 더해줘서 거리 계산하고 다시 상하좌우 확인하게함\n",
    "                if maps[nx][ny] == 1:\n",
    "                    maps[nx][ny] = maps[x][y] + 1\n",
    "                    queue.append((nx,ny))\n",
    "\n",
    "        # 상대팀 진영 오른쪽 맨 아래 까지의 거리를 반환\n",
    "\n",
    "        return maps[len(maps)-1][len(maps[0])-1]\n",
    "    \n",
    "    answer = bfs(0,0)\n",
    "    if answer == 1:\n",
    "        return -1\n",
    "    else:\n",
    "        return answer"
   ]
  },
  {
   "cell_type": "code",
   "execution_count": 17,
   "id": "08cf5124",
   "metadata": {},
   "outputs": [],
   "source": [
    "from collections import deque\n",
    "\n",
    "def solution(maps):\n",
    "    answer = 0\n",
    "    \n",
    "    dx = [-1,1,0,0]\n",
    "    dy = [0,0,-1,1]\n",
    "    \n",
    "    def bfs(x,y):\n",
    "        queue = deque()\n",
    "        queue.append((x,y))\n",
    "        \n",
    "        while queue:\n",
    "            x, y = queue.popleft()\n",
    "            for i in range(4):\n",
    "                nx = x + dx[i]\n",
    "                ny = y + dy[i]\n",
    "            \n",
    "            \n",
    "            if nx < 0 or nx >= len(maps) or ny <0 or ny >= len(maps[0]):\n",
    "                continue\n",
    "                \n",
    "            if maps[nx][ny] == 0:\n",
    "                continue\n",
    "                \n",
    "            if maps[nx][ny] == 1:\n",
    "                maps[nx][ny] = maps[x][y] + 1\n",
    "                queue.append((nx,ny))\n",
    "        \n",
    "        return maps[len(maps)-1][len(maps[0])-1]\n",
    "    \n",
    "    answer = bfs(0,0)\n",
    "    return -1 if answer == 1 else answer"
   ]
  },
  {
   "cell_type": "code",
   "execution_count": null,
   "id": "e18fff74",
   "metadata": {},
   "outputs": [],
   "source": []
  },
  {
   "cell_type": "code",
   "execution_count": 18,
   "id": "0bc60abf",
   "metadata": {},
   "outputs": [
    {
     "data": {
      "text/plain": [
       "-1"
      ]
     },
     "execution_count": 18,
     "metadata": {},
     "output_type": "execute_result"
    }
   ],
   "source": [
    "solution([[1,0,1,1,1],[1,0,1,0,1],[1,0,1,1,1],[1,1,1,0,1],[0,0,0,0,1]])"
   ]
  },
  {
   "cell_type": "code",
   "execution_count": 15,
   "id": "246a09f1",
   "metadata": {},
   "outputs": [],
   "source": [
    "from collections import deque\n",
    "\n",
    "def solution(maps):\n",
    "    answer = 0\n",
    "    # 상하좌우 (-1,0) = 상 (1,0) = 하 (0,1) = 우 (0,-1) = 좌\n",
    "    dx = [-1,1,0,0]\n",
    "    dy = [0,0,-1,1]\n",
    "    \n",
    "    def bfs(x,y):\n",
    "        queue = deque()\n",
    "        queue.append((x,y))\n",
    "        \n",
    "        # queue가 빌 때까지 반복\n",
    "        while queue:\n",
    "            x, y = queue.popleft() # popleft = pop(0)와 동일\n",
    "            # 상하좌우 칸 확인\n",
    "            for i in range(4):\n",
    "                nx = x + dx[i]\n",
    "                ny = y + dy[i] # (-1,0)(1,0)(0,-1)(0,1)\n",
    "                \n",
    "                # 맵을 벗어나면 무시하기\n",
    "                if nx < 0 or nx >= len(maps) or ny <0 or ny >= len(maps[0]): continue\n",
    "                \n",
    "                # 벽이면 무시하기\n",
    "                if maps[nx][ny] == 0: continue\n",
    "                \n",
    "                # 처음 지나가는 길이면 거리 계산하고 다시 상하좌우 확인\n",
    "                if maps[nx][ny] == 1:\n",
    "                    maps[nx][ny] = maps[x][y] + 1\n",
    "                    queue.append((nx,ny))\n",
    "                    \n",
    "        # 상대 팀 진영(제일 오른쪽 아래 칸)까지의 거리 반환\n",
    "    \n",
    "        return maps[len(maps)-1][len(maps[0])-1]\n",
    "    \n",
    "    answer = bfs(0,0)\n",
    "    return -1 if answer == 1 else answer "
   ]
  },
  {
   "cell_type": "code",
   "execution_count": 16,
   "id": "5e55ccc5",
   "metadata": {},
   "outputs": [
    {
     "data": {
      "text/plain": [
       "11"
      ]
     },
     "execution_count": 16,
     "metadata": {},
     "output_type": "execute_result"
    }
   ],
   "source": [
    "solution([[1,0,1,1,1],[1,0,1,0,1],[1,0,1,1,1],[1,1,1,0,1],[0,0,0,0,1]])"
   ]
  },
  {
   "cell_type": "code",
   "execution_count": null,
   "id": "eb4d13b3",
   "metadata": {},
   "outputs": [],
   "source": []
  },
  {
   "cell_type": "code",
   "execution_count": 19,
   "id": "622d603e",
   "metadata": {},
   "outputs": [],
   "source": [
    "from collections import deque\n",
    "\n",
    "def solution(numbers, target):\n",
    "    answer = 0\n",
    "    \n",
    "    queue = deque()\n",
    "    n = len(numbers)\n",
    "    \n",
    "    queue.append([numbers[0],0])\n",
    "    queue.append([-1 * numbers[0],0])\n",
    "    \n",
    "    while queue:\n",
    "        temp, idx = queue.popleft()\n",
    "        idx += 1\n",
    "        if idx < n:\n",
    "            queue.append([temp + numbers[idx], idx])\n",
    "            queue.append([temp - numbers[idx], idx])\n",
    "        else:\n",
    "            if temp == target:\n",
    "                answer += 1\n",
    "    return answer"
   ]
  },
  {
   "cell_type": "code",
   "execution_count": null,
   "id": "cd85da7a",
   "metadata": {},
   "outputs": [],
   "source": []
  },
  {
   "cell_type": "code",
   "execution_count": null,
   "id": "0ac559f1",
   "metadata": {},
   "outputs": [],
   "source": [
    "from collections import deque\n",
    "\n",
    "def solution(numbers, target):\n",
    "    answer = 0\n",
    "    queue = deque()\n",
    "    n = len(numbers)\n",
    "    queue.append([numbers[0],0])\n",
    "    queue.append([-1 * numbers[0], 0])\n",
    "    \n",
    "    while queue:\n",
    "        temp, idx = queue.popleft()\n",
    "        idx += 1\n",
    "        \n",
    "        if idx < n:\n",
    "            queue.append([temp + numbers[idx], idx])\n",
    "            queue.append([temp - numbers[idx], idx])\n",
    "        else:\n",
    "            if temp == target:\n",
    "                answer += 1\n",
    "    return answer"
   ]
  },
  {
   "cell_type": "code",
   "execution_count": null,
   "id": "b4b750fd",
   "metadata": {},
   "outputs": [],
   "source": []
  },
  {
   "cell_type": "code",
   "execution_count": null,
   "id": "028b325a",
   "metadata": {},
   "outputs": [],
   "source": []
  },
  {
   "cell_type": "code",
   "execution_count": null,
   "id": "cdf03617",
   "metadata": {},
   "outputs": [],
   "source": []
  },
  {
   "cell_type": "code",
   "execution_count": null,
   "id": "69ba4f02",
   "metadata": {},
   "outputs": [],
   "source": []
  },
  {
   "cell_type": "code",
   "execution_count": null,
   "id": "61a1bc62",
   "metadata": {},
   "outputs": [],
   "source": []
  },
  {
   "cell_type": "code",
   "execution_count": null,
   "id": "99a2299d",
   "metadata": {},
   "outputs": [],
   "source": []
  },
  {
   "cell_type": "code",
   "execution_count": null,
   "id": "1ba9cbb6",
   "metadata": {},
   "outputs": [],
   "source": []
  },
  {
   "cell_type": "code",
   "execution_count": null,
   "id": "5452ed03",
   "metadata": {},
   "outputs": [],
   "source": []
  },
  {
   "cell_type": "code",
   "execution_count": null,
   "id": "5ab0a1be",
   "metadata": {},
   "outputs": [],
   "source": []
  },
  {
   "cell_type": "code",
   "execution_count": null,
   "id": "c450d047",
   "metadata": {},
   "outputs": [],
   "source": []
  },
  {
   "cell_type": "code",
   "execution_count": null,
   "id": "473a3bbe",
   "metadata": {},
   "outputs": [],
   "source": []
  }
 ],
 "metadata": {
  "kernelspec": {
   "display_name": "Python 3 (ipykernel)",
   "language": "python",
   "name": "python3"
  },
  "language_info": {
   "codemirror_mode": {
    "name": "ipython",
    "version": 3
   },
   "file_extension": ".py",
   "mimetype": "text/x-python",
   "name": "python",
   "nbconvert_exporter": "python",
   "pygments_lexer": "ipython3",
   "version": "3.11.4"
  }
 },
 "nbformat": 4,
 "nbformat_minor": 5
}
