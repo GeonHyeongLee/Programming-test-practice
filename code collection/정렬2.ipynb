{
 "cells": [
  {
   "cell_type": "markdown",
   "id": "03571e96",
   "metadata": {},
   "source": [
    "# 선택, 삽입, 퀵 정렬 복습"
   ]
  },
  {
   "cell_type": "code",
   "execution_count": 1,
   "id": "55257f61",
   "metadata": {},
   "outputs": [
    {
     "name": "stdout",
     "output_type": "stream",
     "text": [
      "[0, 1, 2, 3, 4, 5, 6, 7, 8, 9]\n"
     ]
    }
   ],
   "source": [
    "# 선택 정렬\n",
    "# 선택 정렬은 맨 앞에서부터 뒤로 하나하나씩 비교해가면서 제일 작은 녀석을 선택해서 맨 앞으로 보내는 과정을 반복한다\n",
    "\n",
    "array = [7, 5, 9, 0 , 3, 1, 6, 2, 4, 8]\n",
    "\n",
    "for i in range(len(array)):\n",
    "    min_index = i\n",
    "    \n",
    "    for j in range(i+1, len(array)):\n",
    "        if array[j] < array[min_index]:\n",
    "            array[min_index], array[j] = array[j], array[min_index]\n",
    "\n",
    "print(array)\n",
    "\n"
   ]
  },
  {
   "cell_type": "code",
   "execution_count": 5,
   "id": "1948dc5b",
   "metadata": {},
   "outputs": [
    {
     "data": {
      "text/plain": [
       "[0, 1, 2, 3, 4, 5, 6, 7, 8, 9]"
      ]
     },
     "execution_count": 5,
     "metadata": {},
     "output_type": "execute_result"
    }
   ],
   "source": [
    "array = [7, 5, 9, 0 , 3, 1, 6, 2, 4, 8]\n",
    "\n",
    "def selection_sort(array):\n",
    "    for i in range(len(array)):\n",
    "        min_index = i\n",
    "    \n",
    "        for j in range(i+1, len(array)):\n",
    "            if array[j] < array[min_index]:\n",
    "                array[min_index], array[j] = array[j], array[min_index]\n",
    "    return array\n",
    "\n",
    "selection_sort(array)"
   ]
  },
  {
   "cell_type": "code",
   "execution_count": 9,
   "id": "9de53915",
   "metadata": {},
   "outputs": [
    {
     "name": "stdout",
     "output_type": "stream",
     "text": [
      "[0, 1, 2, 3, 4, 5, 6, 7, 8, 9]\n"
     ]
    }
   ],
   "source": [
    "# 삽입 정렬\n",
    "# 삽입 정렬은 맨 앞에 있는 녀석은 정렬이 되었다 가정하고 얘를 뒤에 애들이랑 쭉 비교해가면서 뒤에 녀석이 더 작으면 위치 바꾸기\n",
    "\n",
    "array = [7, 5, 9, 0 , 3, 1, 6, 2, 4, 8]\n",
    "\n",
    "for i in range(1,len(array)):\n",
    "    for j in range(i,0, -1):\n",
    "        if array[j] < array[j-1]:\n",
    "            array[j-1], array[j] = array[j], array[j-1]\n",
    "print(array)"
   ]
  },
  {
   "cell_type": "code",
   "execution_count": 10,
   "id": "5ae9bb79",
   "metadata": {},
   "outputs": [
    {
     "data": {
      "text/plain": [
       "[0, 1, 2, 3, 4, 5, 6, 7, 8, 9]"
      ]
     },
     "execution_count": 10,
     "metadata": {},
     "output_type": "execute_result"
    }
   ],
   "source": [
    "array = [7, 5, 9, 0 , 3, 1, 6, 2, 4, 8]\n",
    "\n",
    "def insertion_sort(array):\n",
    "    for i in range(1, len(array)):\n",
    "        for j in range(i, 0, -1):\n",
    "            if array[j] < array[j-1]:\n",
    "                array[j-1], array[j] = array[j], array[j-1]\n",
    "    return array\n",
    "\n",
    "insertion_sort(array)"
   ]
  },
  {
   "cell_type": "code",
   "execution_count": 14,
   "id": "27593bf2",
   "metadata": {},
   "outputs": [
    {
     "data": {
      "text/plain": [
       "[0, 1, 2, 3, 4, 5, 6, 7, 8, 9]"
      ]
     },
     "execution_count": 14,
     "metadata": {},
     "output_type": "execute_result"
    }
   ],
   "source": [
    "# 퀵 정렬\n",
    "# 맨 앞에 있는 녀석을 기준값 pivot이라 두고 얘보다 작으면 왼쪽 크면 오른쪽으로 모으는 과정을 반복한다.\n",
    "\n",
    "array = [7, 5, 9, 0 , 3, 1, 6, 2, 4, 8]\n",
    "\n",
    "def quick_sort(array):\n",
    "    if len(array) <= 1:\n",
    "        return array\n",
    "    \n",
    "    pivot = array[0]\n",
    "    tail = array[1:]\n",
    "    \n",
    "    left_array = [x for x in tail if x <= pivot]\n",
    "    right_array = [x for x in tail if x > pivot]\n",
    "    \n",
    "    return quick_sort(left_array) + [pivot]+ quick_sort(right_array)\n",
    "\n",
    "quick_sort(array)"
   ]
  },
  {
   "cell_type": "code",
   "execution_count": 15,
   "id": "38566346",
   "metadata": {},
   "outputs": [
    {
     "data": {
      "text/plain": [
       "[0, 1, 2, 3, 4, 5, 6, 7, 8, 9]"
      ]
     },
     "execution_count": 15,
     "metadata": {},
     "output_type": "execute_result"
    }
   ],
   "source": [
    "array = [7, 5, 9, 0 , 3, 1, 6, 2, 4, 8]\n",
    "\n",
    "def quick_sort(array):\n",
    "    if len(array) <= 1:\n",
    "        return array\n",
    "    \n",
    "    pivot = array[0]\n",
    "    tail = array[1:]\n",
    "    \n",
    "    right_array = [x for x in tail if x > pivot]\n",
    "    left_array = [x for x in tail if x <= pivot]\n",
    "    \n",
    "    return quick_sort(left_array) + [pivot] + quick_sort(right_array)\n",
    "\n",
    "quick_sort(array)"
   ]
  },
  {
   "cell_type": "code",
   "execution_count": null,
   "id": "f9a5b1e8",
   "metadata": {},
   "outputs": [],
   "source": []
  },
  {
   "cell_type": "code",
   "execution_count": null,
   "id": "bada889d",
   "metadata": {},
   "outputs": [],
   "source": []
  },
  {
   "cell_type": "code",
   "execution_count": null,
   "id": "28a5aeae",
   "metadata": {},
   "outputs": [],
   "source": []
  },
  {
   "cell_type": "markdown",
   "id": "e6bb2e76",
   "metadata": {},
   "source": [
    "# 계수 정렬"
   ]
  },
  {
   "cell_type": "code",
   "execution_count": 20,
   "id": "b8db7fa4",
   "metadata": {},
   "outputs": [
    {
     "name": "stdout",
     "output_type": "stream",
     "text": [
      "0 0 1 1 2 2 3 4 5 5 6 7 8 9 9 "
     ]
    }
   ],
   "source": [
    "# 데이터의 크기 범위가 제한되어 정수 형태로 표현할 수 있을 때만 사용 가능\n",
    "# 가장 큰 데이터와 가장 작은 데이터의 범위가 모두 담길 수 있는 하나의 리스트 생성 \n",
    "# if 0이 가장 작고 9가 가장 크다면 크기가 10인 리스트를 선언한다\n",
    "# 그 다음 데이터를 하나씩 확인하며 데이터값과 동일한 인덱스의 데이터를 1씩 증가시킨다\n",
    "# 그리고나서 출력할때는 인덱스의 번호를 부르는 것이다.\n",
    "# 즉 정리하면 리스트를 별도로 선언하고 값을 리스트의 인덱스 번호로 저장해서 나중에 처음부터 꺼내는 방식\n",
    "\n",
    "array = [7,5,9,0,3,1,6,2,9,1,4,8,0,5,2]\n",
    "\n",
    "max_num = max(array)\n",
    "min_num = min(array)\n",
    "\n",
    "array_list= [0] * (max_num - min_num + 1)\n",
    "\n",
    "for i in range(len(array)):\n",
    "    array_list[array[i]] += 1\n",
    "\n",
    "new_array = []\n",
    "for i in range(len(array_list)):\n",
    "    for j in range(array_list[i]):\n",
    "        print(i, end = ' ')"
   ]
  },
  {
   "cell_type": "code",
   "execution_count": 24,
   "id": "580fa462",
   "metadata": {},
   "outputs": [
    {
     "name": "stdout",
     "output_type": "stream",
     "text": [
      "0 0 1 1 2 2 3 4 5 5 6 7 8 9 9 "
     ]
    }
   ],
   "source": [
    "# 다시해보기\n",
    "\n",
    "array = [7,5,9,0,3,1,6,2,9,1,4,8,0,5,2]\n",
    "\n",
    "count_array = [0] * (max(array)+1)\n",
    "\n",
    "for i in range(len(array)):\n",
    "    count_array[array[i]] += 1\n",
    "\n",
    "for i in range(len(count_array)):\n",
    "    for j in range(count_array[i]):\n",
    "        print(i, end = ' ')\n"
   ]
  },
  {
   "cell_type": "code",
   "execution_count": 25,
   "id": "170c5263",
   "metadata": {},
   "outputs": [
    {
     "data": {
      "text/plain": [
       "[0, 0, 1, 1, 2, 2, 3, 4, 5, 5, 6, 7, 8, 9, 9]"
      ]
     },
     "execution_count": 25,
     "metadata": {},
     "output_type": "execute_result"
    }
   ],
   "source": [
    "array = [7,5,9,0,3,1,6,2,9,1,4,8,0,5,2]\n",
    "\n",
    "def counting_sort(array):\n",
    "    count_list = [0] * (max(array) + 1)\n",
    "    new_array = []\n",
    "    for i in range(len(array)):\n",
    "        count_list[array[i]] += 1\n",
    "    \n",
    "    for i in range(len(count_list)):\n",
    "        for j in range(count_list[i]):\n",
    "            new_array.append(i)\n",
    "    return new_array\n",
    "counting_sort(array)"
   ]
  },
  {
   "cell_type": "code",
   "execution_count": null,
   "id": "b5f2d972",
   "metadata": {},
   "outputs": [],
   "source": []
  }
 ],
 "metadata": {
  "kernelspec": {
   "display_name": "Python 3 (ipykernel)",
   "language": "python",
   "name": "python3"
  },
  "language_info": {
   "codemirror_mode": {
    "name": "ipython",
    "version": 3
   },
   "file_extension": ".py",
   "mimetype": "text/x-python",
   "name": "python",
   "nbconvert_exporter": "python",
   "pygments_lexer": "ipython3",
   "version": "3.11.4"
  }
 },
 "nbformat": 4,
 "nbformat_minor": 5
}
