{
 "cells": [
  {
   "cell_type": "markdown",
   "id": "6a420242",
   "metadata": {},
   "source": [
    "## 상하좌우"
   ]
  },
  {
   "cell_type": "code",
   "execution_count": 3,
   "id": "e8998e47",
   "metadata": {},
   "outputs": [
    {
     "name": "stdout",
     "output_type": "stream",
     "text": [
      "5\n",
      "R R R U D D\n",
      "3 4\n"
     ]
    }
   ],
   "source": [
    "# L,R,U,D가 있어 이게 끝났을 때 여행자의 위치\n",
    "\n",
    "n = int(input())\n",
    "alpha = input().split()\n",
    "\n",
    "start = [1,1]\n",
    "\n",
    "for al in alpha:\n",
    "    if al == 'L':\n",
    "        if (start[1]-1) < 1:\n",
    "            pass\n",
    "        else:\n",
    "            start = [start[0],start[1]-1]\n",
    "    elif al == 'R':\n",
    "        if (start[1]+1) > n:\n",
    "            pass\n",
    "        else:\n",
    "            start = [start[0],start[1]+1]\n",
    "    elif al == 'U':\n",
    "        if (start[0]-1) < 1:\n",
    "            pass\n",
    "        else:\n",
    "            start = [start[0]-1,start[1]]\n",
    "    elif al == 'D':\n",
    "        if (start[0]+1) > n:\n",
    "            pass\n",
    "        else:\n",
    "            start = [start[0]+1,start[1]]\n",
    "    \n",
    "\n",
    "\n",
    "\n",
    "\n",
    "print(start[0],start[1])"
   ]
  },
  {
   "cell_type": "code",
   "execution_count": 4,
   "id": "611c9cc9",
   "metadata": {},
   "outputs": [
    {
     "name": "stdout",
     "output_type": "stream",
     "text": [
      "5\n",
      "R R R U D D\n",
      "3 4\n"
     ]
    }
   ],
   "source": [
    "n = int(input())\n",
    "plans = input().split()\n",
    "\n",
    "x,y = 1,1\n",
    "\n",
    "dx = [0,0,-1,1]\n",
    "dy = [-1,1,0,0]\n",
    "\n",
    "move_types = ['L','R',\"U\",'D']\n",
    "\n",
    "for plan in plans:\n",
    "    for i in range(len(move_types)):\n",
    "        if plan == move_types[i]:\n",
    "            nx = x + dx[i]\n",
    "            ny = y + dy[i]\n",
    "            \n",
    "            if nx > n or ny > n or nx < 1 or ny < 1:\n",
    "                continue\n",
    "            else:\n",
    "                x, y = nx, ny\n",
    "\n",
    "print(x,y)"
   ]
  },
  {
   "cell_type": "markdown",
   "id": "89994933",
   "metadata": {},
   "source": [
    "## 시각"
   ]
  },
  {
   "cell_type": "code",
   "execution_count": 7,
   "id": "c852f375",
   "metadata": {},
   "outputs": [
    {
     "name": "stdout",
     "output_type": "stream",
     "text": [
      "5\n",
      "11475\n"
     ]
    }
   ],
   "source": [
    "# N시 59분 59초까지 3이 하나라도 포함된 모든 시각의 경우의 수를 구한다\n",
    "\n",
    "n = int(input())\n",
    "\n",
    "count = 0\n",
    "\n",
    "include3 = [3,13,23,30,31,32,33,34,35,36,37,38,39,43,53]\n",
    "\n",
    "for i in range(n+1):\n",
    "    for j in range(60):\n",
    "        for k in range(60):\n",
    "            if i in include3 or j in include3 or k in include3:\n",
    "                count += 1\n",
    "print(count)"
   ]
  },
  {
   "cell_type": "code",
   "execution_count": null,
   "id": "55dbf2e8",
   "metadata": {},
   "outputs": [],
   "source": [
    "h = int(input())\n",
    "\n",
    "count = 0\n",
    "for i in range(h+1):\n",
    "    for j in range(60):\n",
    "        for k in range(60):\n",
    "            if '3' in str(i) + str(j) + str(k):\n",
    "                count += 1\n",
    "\n",
    "print(count)"
   ]
  }
 ],
 "metadata": {
  "kernelspec": {
   "display_name": "Python 3 (ipykernel)",
   "language": "python",
   "name": "python3"
  },
  "language_info": {
   "codemirror_mode": {
    "name": "ipython",
    "version": 3
   },
   "file_extension": ".py",
   "mimetype": "text/x-python",
   "name": "python",
   "nbconvert_exporter": "python",
   "pygments_lexer": "ipython3",
   "version": "3.11.4"
  }
 },
 "nbformat": 4,
 "nbformat_minor": 5
}
