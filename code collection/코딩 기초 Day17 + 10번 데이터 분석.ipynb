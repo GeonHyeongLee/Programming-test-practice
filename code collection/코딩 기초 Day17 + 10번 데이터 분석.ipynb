{
 "cells": [
  {
   "cell_type": "code",
   "execution_count": 47,
   "id": "de1bb645",
   "metadata": {},
   "outputs": [],
   "source": [
    "# 특정 문자열로 끝나는 가장 긴 부분 문자열 찾기\n",
    "def solution(myString, pat):\n",
    "    end = myString.rfind(pat)\n",
    "    return myString[:end + len(pat)]"
   ]
  },
  {
   "cell_type": "code",
   "execution_count": 48,
   "id": "b22622c9",
   "metadata": {},
   "outputs": [
    {
     "data": {
      "text/plain": [
       "'AbCdE'"
      ]
     },
     "execution_count": 48,
     "metadata": {},
     "output_type": "execute_result"
    }
   ],
   "source": [
    "solution(\"AbCdEFG\", 'dE')"
   ]
  },
  {
   "cell_type": "code",
   "execution_count": 46,
   "id": "6ca8f24e",
   "metadata": {},
   "outputs": [
    {
     "name": "stdout",
     "output_type": "stream",
     "text": [
      "8\n"
     ]
    }
   ],
   "source": [
    "myString = 'abcdeffff'\n",
    "print(myString.rfind('f'))"
   ]
  },
  {
   "cell_type": "code",
   "execution_count": 54,
   "id": "1c3f8c43",
   "metadata": {},
   "outputs": [],
   "source": [
    "# 문자열이 몇 번 등장하는지 세기\n",
    "def solution(myString, pat):\n",
    "    start = 0\n",
    "    count = 0\n",
    "   \n",
    "    while True:\n",
    "        idx = myString.find(pat,start)\n",
    "        if idx == -1:\n",
    "            break\n",
    "        count += 1\n",
    "        start = idx + 1\n",
    "    return count"
   ]
  },
  {
   "cell_type": "code",
   "execution_count": 55,
   "id": "04ee68a5",
   "metadata": {},
   "outputs": [
    {
     "data": {
      "text/plain": [
       "4"
      ]
     },
     "execution_count": 55,
     "metadata": {},
     "output_type": "execute_result"
    }
   ],
   "source": [
    "solution('aaaa','a')"
   ]
  },
  {
   "cell_type": "code",
   "execution_count": 74,
   "id": "c6b8d39b",
   "metadata": {},
   "outputs": [],
   "source": [
    "# ad 제거하기\n",
    "def solution(strArr):\n",
    "    for i in range(len(strArr)):\n",
    "        idx = strArr[i].find('ad')\n",
    "        if idx > -1:\n",
    "            strArr.remove(strArr[i])\n",
    "    return strArr"
   ]
  },
  {
   "cell_type": "code",
   "execution_count": 75,
   "id": "b5674b2b",
   "metadata": {},
   "outputs": [
    {
     "ename": "IndexError",
     "evalue": "list index out of range",
     "output_type": "error",
     "traceback": [
      "\u001b[1;31m---------------------------------------------------------------------------\u001b[0m",
      "\u001b[1;31mIndexError\u001b[0m                                Traceback (most recent call last)",
      "Cell \u001b[1;32mIn[75], line 1\u001b[0m\n\u001b[1;32m----> 1\u001b[0m solution([\u001b[38;5;124m\"\u001b[39m\u001b[38;5;124mand\u001b[39m\u001b[38;5;124m\"\u001b[39m,\u001b[38;5;124m\"\u001b[39m\u001b[38;5;124mnotad\u001b[39m\u001b[38;5;124m\"\u001b[39m,\u001b[38;5;124m\"\u001b[39m\u001b[38;5;124mabcd\u001b[39m\u001b[38;5;124m\"\u001b[39m])\n",
      "Cell \u001b[1;32mIn[74], line 4\u001b[0m, in \u001b[0;36msolution\u001b[1;34m(strArr)\u001b[0m\n\u001b[0;32m      2\u001b[0m \u001b[38;5;28;01mdef\u001b[39;00m \u001b[38;5;21msolution\u001b[39m(strArr):\n\u001b[0;32m      3\u001b[0m     \u001b[38;5;28;01mfor\u001b[39;00m i \u001b[38;5;129;01min\u001b[39;00m \u001b[38;5;28mrange\u001b[39m(\u001b[38;5;28mlen\u001b[39m(strArr)):\n\u001b[1;32m----> 4\u001b[0m         idx \u001b[38;5;241m=\u001b[39m strArr[i]\u001b[38;5;241m.\u001b[39mfind(\u001b[38;5;124m'\u001b[39m\u001b[38;5;124mad\u001b[39m\u001b[38;5;124m'\u001b[39m)\n\u001b[0;32m      5\u001b[0m         \u001b[38;5;28;01mif\u001b[39;00m idx \u001b[38;5;241m>\u001b[39m \u001b[38;5;241m-\u001b[39m\u001b[38;5;241m1\u001b[39m:\n\u001b[0;32m      6\u001b[0m             strArr\u001b[38;5;241m.\u001b[39mremove(strArr[i])\n",
      "\u001b[1;31mIndexError\u001b[0m: list index out of range"
     ]
    }
   ],
   "source": [
    "solution([\"and\",\"notad\",\"abcd\"])"
   ]
  },
  {
   "cell_type": "code",
   "execution_count": 78,
   "id": "e4fb1eca",
   "metadata": {},
   "outputs": [],
   "source": [
    "# ad 제거하기\n",
    "def solution(strArr):\n",
    "    answer = []\n",
    "    for i in range(len(strArr)):\n",
    "        idx = strArr[i].find('ad')\n",
    "        if idx == -1:\n",
    "            answer.append(strArr[i])\n",
    "    return answer"
   ]
  },
  {
   "cell_type": "code",
   "execution_count": 79,
   "id": "f5d0f8cf",
   "metadata": {},
   "outputs": [
    {
     "data": {
      "text/plain": [
       "['and', 'abcd']"
      ]
     },
     "execution_count": 79,
     "metadata": {},
     "output_type": "execute_result"
    }
   ],
   "source": [
    "solution([\"and\",\"notad\",\"abcd\"])"
   ]
  },
  {
   "cell_type": "code",
   "execution_count": 92,
   "id": "94dbcf37",
   "metadata": {},
   "outputs": [],
   "source": [
    "# 공백 구분하기 1\n",
    "def solution(my_string):\n",
    "    return my_string.split()"
   ]
  },
  {
   "cell_type": "code",
   "execution_count": 93,
   "id": "c1ae2a23",
   "metadata": {},
   "outputs": [
    {
     "data": {
      "text/plain": [
       "['i', 'love', 'you']"
      ]
     },
     "execution_count": 93,
     "metadata": {},
     "output_type": "execute_result"
    }
   ],
   "source": [
    "solution(\"i love you\")"
   ]
  },
  {
   "cell_type": "code",
   "execution_count": 94,
   "id": "366736f7",
   "metadata": {},
   "outputs": [],
   "source": [
    "# 공백 구분하기 2\n",
    "def solution(my_string):\n",
    "    return my_string.split()"
   ]
  },
  {
   "cell_type": "code",
   "execution_count": 108,
   "id": "8ffa0584",
   "metadata": {},
   "outputs": [],
   "source": [
    "# [PCCE 기출문제] 10번 / 데이터 분석\n",
    "def solution(data, ext, val_ext, sort_by):\n",
    "    answer = []\n",
    "    ext_dct = {'code':0,'date':1,'maximum':2,'remain':3}\n",
    "    \n",
    "    for i in data:\n",
    "        if i[ext_dct[ext]] < val_ext:\n",
    "            answer.append(i)\n",
    "    \n",
    "    want = sorted(answer, key = lambda x : x[ext_dct[sort_by]])\n",
    "    return want"
   ]
  },
  {
   "cell_type": "code",
   "execution_count": null,
   "id": "28a4d170",
   "metadata": {},
   "outputs": [],
   "source": []
  }
 ],
 "metadata": {
  "kernelspec": {
   "display_name": "Python 3 (ipykernel)",
   "language": "python",
   "name": "python3"
  },
  "language_info": {
   "codemirror_mode": {
    "name": "ipython",
    "version": 3
   },
   "file_extension": ".py",
   "mimetype": "text/x-python",
   "name": "python",
   "nbconvert_exporter": "python",
   "pygments_lexer": "ipython3",
   "version": "3.11.4"
  }
 },
 "nbformat": 4,
 "nbformat_minor": 5
}
