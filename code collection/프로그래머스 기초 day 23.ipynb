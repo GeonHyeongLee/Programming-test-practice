{
 "cells": [
  {
   "cell_type": "code",
   "execution_count": 2,
   "id": "65b1dd50",
   "metadata": {},
   "outputs": [],
   "source": [
    "# 부분 문자열\n",
    "def solution(str1, str2):\n",
    "    if str1 in str2:\n",
    "        return 1\n",
    "    else:\n",
    "        return 0"
   ]
  },
  {
   "cell_type": "code",
   "execution_count": 3,
   "id": "14e4849a",
   "metadata": {},
   "outputs": [
    {
     "data": {
      "text/plain": [
       "1"
      ]
     },
     "execution_count": 3,
     "metadata": {},
     "output_type": "execute_result"
    }
   ],
   "source": [
    "solution('abc', 'aabcc')"
   ]
  },
  {
   "cell_type": "code",
   "execution_count": 4,
   "id": "867469d5",
   "metadata": {},
   "outputs": [
    {
     "data": {
      "text/plain": [
       "0"
      ]
     },
     "execution_count": 4,
     "metadata": {},
     "output_type": "execute_result"
    }
   ],
   "source": [
    "solution('tbt', 'tbbttb')"
   ]
  },
  {
   "cell_type": "code",
   "execution_count": 8,
   "id": "10953a6a",
   "metadata": {},
   "outputs": [],
   "source": [
    "# 꼬리 문자열\n",
    "def solution(str_list, ex):\n",
    "    answer = []\n",
    "    for str_i in str_list:\n",
    "        if ex in str_i:\n",
    "            pass\n",
    "        else:\n",
    "            answer.append(str_i)\n",
    "    return ''.join(answer)"
   ]
  },
  {
   "cell_type": "code",
   "execution_count": 9,
   "id": "8e1f8f76",
   "metadata": {},
   "outputs": [
    {
     "data": {
      "text/plain": [
       "'abcghi'"
      ]
     },
     "execution_count": 9,
     "metadata": {},
     "output_type": "execute_result"
    }
   ],
   "source": [
    "solution([\"abc\", \"def\", \"ghi\"], 'ef')"
   ]
  },
  {
   "cell_type": "code",
   "execution_count": 18,
   "id": "0c3dbc62",
   "metadata": {},
   "outputs": [],
   "source": [
    "# 정수 찾기\n",
    "def solution(num_list, n):\n",
    "    for num in num_list:\n",
    "        if num == n:\n",
    "            return 1\n",
    "    return 0"
   ]
  },
  {
   "cell_type": "code",
   "execution_count": 19,
   "id": "dc0da082",
   "metadata": {},
   "outputs": [
    {
     "data": {
      "text/plain": [
       "1"
      ]
     },
     "execution_count": 19,
     "metadata": {},
     "output_type": "execute_result"
    }
   ],
   "source": [
    "solution([1,2,3,4,5], 3)"
   ]
  },
  {
   "cell_type": "code",
   "execution_count": 28,
   "id": "21e4475c",
   "metadata": {},
   "outputs": [],
   "source": [
    "# 주사위 게임 1\n",
    "def solution(a, b):\n",
    "    if a % 2 == 1 and b % 2 == 1:\n",
    "        return a**2 + b**2\n",
    "    elif a % 2 == 0 and b % 2 == 1:\n",
    "        return 2 * (a + b)\n",
    "    elif a % 2 == 1 and b % 2 == 0:\n",
    "        return 2 * (a + b)\n",
    "    elif a % 2 == 0 and b % 2 == 0:\n",
    "        return abs(a-b)"
   ]
  },
  {
   "cell_type": "code",
   "execution_count": 30,
   "id": "09263dc8",
   "metadata": {},
   "outputs": [
    {
     "data": {
      "text/plain": [
       "2"
      ]
     },
     "execution_count": 30,
     "metadata": {},
     "output_type": "execute_result"
    }
   ],
   "source": [
    "solution(2,4)"
   ]
  }
 ],
 "metadata": {
  "kernelspec": {
   "display_name": "Python 3 (ipykernel)",
   "language": "python",
   "name": "python3"
  },
  "language_info": {
   "codemirror_mode": {
    "name": "ipython",
    "version": 3
   },
   "file_extension": ".py",
   "mimetype": "text/x-python",
   "name": "python",
   "nbconvert_exporter": "python",
   "pygments_lexer": "ipython3",
   "version": "3.11.4"
  }
 },
 "nbformat": 4,
 "nbformat_minor": 5
}
