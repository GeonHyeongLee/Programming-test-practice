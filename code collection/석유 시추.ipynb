{
 "cells": [
  {
   "cell_type": "code",
   "execution_count": null,
   "id": "0c42e499",
   "metadata": {},
   "outputs": [],
   "source": [
    "# 석유의 양을 구하기 위해서는 석유가 있는 위치인 1인 위치에서 상하좌우로 이어져있는 칸수를 구해야 한다.\n",
    "# 이를 위해서 BFS(너비우선탐색)을 사용. BFS로 1인 부분을 찾으면 주변을 탐색하면서 1로 이어져있는\n",
    "# 칸의 개수를 전부 찾아 count에 저장한다\n",
    "\n",
    "# 너비 우선 탐색\n",
    "def bfs(a,b):\n",
    "    count = 0\n",
    "    visited[a][b] = 1\n",
    "    q = deque() # deque는 앞과 뒤에서 데이터 처리할 수 있는 양방향 자료형\n",
    "    q.append((a,b))\n",
    "    min_y, max_y = b, b\n",
    "    while q:\n",
    "        x, y = q.popleft() # popleft()는 pop()과 달리 후입선출이 아니라 선입선출로 제일 앞의 요소 삭제\n",
    "        min_y = min(min_y, y)\n",
    "        max_y = max(max_y, y)\n",
    "        count += 1\n",
    "        for i in range(4):\n",
    "            nx = x + dx[i]\n",
    "            ny = y + dy[i]\n",
    "            if nx < 0 or ny < 0 or nx >= n or ny >= m:\n",
    "                continue\n",
    "            if visited[nx][ny] == 0 and land[nx][ny] == 1:\n",
    "                visited[nx][ny] = 1\n",
    "                q.append((nx,ny))\n"
   ]
  },
  {
   "cell_type": "code",
   "execution_count": null,
   "id": "d0f72090",
   "metadata": {},
   "outputs": [],
   "source": [
    "from collections import deque\n",
    "def solution(land):\n",
    "    answer = 0\n",
    "    n = len(land) # n행\n",
    "    m = len(land[0]) # m열\n",
    "    dx = [0,0,1,-1]\n",
    "    dy = [1,-1,0,0]\n",
    "    result = [0 for i in range(m+1)]\n",
    "    visited = [[0 for i in range(m)] for j in range(n)]\n",
    "    def bfs(a, b):\n",
    "        count = 0\n",
    "        visited[a][b] = 1\n",
    "        q = deque()\n",
    "        q.append((a,b))\n",
    "        min_y, max_y = b, b\n",
    "        while q:\n",
    "            x,y = q.popleft()\n",
    "            min_y = min(min_y, y)\n",
    "            max_y = max(max_y, y)\n",
    "            count += 1\n",
    "            for i in range(4):\n",
    "                nx = x + dx[i]\n",
    "                ny = y + dy[i]\n",
    "                if nx < 0 or ny < 0 or nx >= n or ny >= m:\n",
    "                    continue\n",
    "                if visited[nx][ny] == 0 and land[nx][ny] == 1:\n",
    "                    visited[nx][ny] = 1\n",
    "                    q.append((nx,ny))\n",
    "        \n",
    "        for i in range(min_y, max_y+1):\n",
    "            result[i] += count\n",
    "    \n",
    "    for i in range(n):\n",
    "        for j in range(m):\n",
    "            if visited[i][j] == 0 and land[i][j] == 1:\n",
    "                bfs(i,j)\n",
    "    answer = max(result)\n",
    "    return answer"
   ]
  }
 ],
 "metadata": {
  "kernelspec": {
   "display_name": "Python 3 (ipykernel)",
   "language": "python",
   "name": "python3"
  },
  "language_info": {
   "codemirror_mode": {
    "name": "ipython",
    "version": 3
   },
   "file_extension": ".py",
   "mimetype": "text/x-python",
   "name": "python",
   "nbconvert_exporter": "python",
   "pygments_lexer": "ipython3",
   "version": "3.11.4"
  }
 },
 "nbformat": 4,
 "nbformat_minor": 5
}
