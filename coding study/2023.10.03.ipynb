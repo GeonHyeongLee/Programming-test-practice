{
 "cells": [
  {
   "cell_type": "markdown",
   "id": "366c2ef8",
   "metadata": {},
   "source": [
    "간단한 사용자 상호작용"
   ]
  },
  {
   "cell_type": "code",
   "execution_count": null,
   "id": "b6812bd4",
   "metadata": {},
   "outputs": [],
   "source": [
    "game_list = [0,1,2]"
   ]
  },
  {
   "cell_type": "code",
   "execution_count": 1,
   "id": "b58328a7",
   "metadata": {},
   "outputs": [],
   "source": [
    "def display_game(game_list):\n",
    "    print(\"Here is the current list: \")\n",
    "    print(game_list)"
   ]
  },
  {
   "cell_type": "code",
   "execution_count": null,
   "id": "579c9aa2",
   "metadata": {},
   "outputs": [],
   "source": [
    "display_game(game_list)"
   ]
  },
  {
   "cell_type": "code",
   "execution_count": 2,
   "id": "79a90dd6",
   "metadata": {},
   "outputs": [],
   "source": [
    "def position_choice():\n",
    "    choice = 'wrong'\n",
    "    while choice not in ['0','1','2']:\n",
    "        choice = input(\"Pick a position (0,1,2): \")\n",
    "        \n",
    "        if choice not in ['0','1','2']:\n",
    "            print(\"Sorry, Invalid chocie! \")\n",
    "            \n",
    "    return int(choice)"
   ]
  },
  {
   "cell_type": "code",
   "execution_count": null,
   "id": "ec402273",
   "metadata": {},
   "outputs": [],
   "source": [
    "position_choice()"
   ]
  },
  {
   "cell_type": "code",
   "execution_count": 3,
   "id": "d1b223f0",
   "metadata": {},
   "outputs": [],
   "source": [
    "def replacement_choice(game_list, position):\n",
    "    \n",
    "    user_placement = input(\"Type a string to place at position: \")\n",
    "    \n",
    "    game_list[position] = user_placement\n",
    "    \n",
    "    return game_list"
   ]
  },
  {
   "cell_type": "code",
   "execution_count": null,
   "id": "d2a8c84a",
   "metadata": {},
   "outputs": [],
   "source": [
    "replacement_choice(game_list,1)"
   ]
  },
  {
   "cell_type": "code",
   "execution_count": null,
   "id": "617675f9",
   "metadata": {},
   "outputs": [],
   "source": [
    "def gameon_choice():\n",
    "    choice = 'wrong'\n",
    "    while choice not in ['Y','N']:\n",
    "        choice = input(\"Keep playing? (Y or N) \")\n",
    "        \n",
    "        if choice not in ['Y','N']:\n",
    "            print(\"Sorry, I dont understand, please choose Y or N\")\n",
    "            \n",
    "    if choice == \"Y\":\n",
    "        return True\n",
    "    elif choice == \"N\":\n",
    "        return False\n",
    "    else:\n",
    "        return False\n",
    "    "
   ]
  },
  {
   "cell_type": "code",
   "execution_count": null,
   "id": "99d93c8b",
   "metadata": {},
   "outputs": [],
   "source": [
    "gameon_choice()"
   ]
  },
  {
   "cell_type": "code",
   "execution_count": null,
   "id": "da393a4d",
   "metadata": {},
   "outputs": [
    {
     "name": "stdout",
     "output_type": "stream",
     "text": [
      "Here is the current list: \n",
      "[0, 1, 2]\n",
      "Pick a position (0,1,2): 1\n",
      "Type a string to place at position: 1\n",
      "Here is the current list: \n",
      "[0, '1', 2]\n",
      "Keep playing? (Y or N) N\n",
      "Here is the current list: \n",
      "[0, '1', 2]\n"
     ]
    }
   ],
   "source": [
    "game_on = True\n",
    "game_list = [0,1,2]\n",
    "\n",
    "while game_on == True:\n",
    "    \n",
    "    display_game(game_list)\n",
    "    \n",
    "    position = position_choice()\n",
    "    \n",
    "    game_list = replacement_choice(game_list, position)\n",
    "    \n",
    "    display_game(game_list)\n",
    "    \n",
    "    game_on == gameon_choice()"
   ]
  },
  {
   "cell_type": "code",
   "execution_count": null,
   "id": "22eff8e7",
   "metadata": {},
   "outputs": [],
   "source": []
  },
  {
   "cell_type": "markdown",
   "id": "0ff0a868",
   "metadata": {},
   "source": [
    "마일스톤 프로젝트"
   ]
  },
  {
   "cell_type": "markdown",
   "id": "83f59971",
   "metadata": {},
   "source": [
    "힌트 & 팁\n",
    "1단계 : 보드를 출력한다\n",
    "clear_output()\n",
    "print(board[1]+'|'+board[2]+'|'+board[3])\n",
    "print(board[4]+'|'+board[5]+'|'+board[6])\n",
    "print(board[7]+'|'+board[8]+'|'+board[9])\n",
    "\n",
    "2단계\n",
    "while문 사용\n",
    "marker = ''\n",
    "\n",
    " keep asking player 1 to choose x or o\n",
    " while marker != 'X' and marker != 'O':\n",
    "     marker = input(\"Player1, choose X or O: \")\n",
    "     \n",
    " assign player 2, the opposite marker\n",
    " player1 = marker\n",
    " \n",
    " if player1 == 'X':\n",
    "     player2 = 'O'\n",
    " else:\n",
    "     player2 = 'X'\n",
    " \n",
    " return (player1, player2)\n",
    "3단계"
   ]
  }
 ],
 "metadata": {
  "kernelspec": {
   "display_name": "Python 3 (ipykernel)",
   "language": "python",
   "name": "python3"
  },
  "language_info": {
   "codemirror_mode": {
    "name": "ipython",
    "version": 3
   },
   "file_extension": ".py",
   "mimetype": "text/x-python",
   "name": "python",
   "nbconvert_exporter": "python",
   "pygments_lexer": "ipython3",
   "version": "3.11.4"
  }
 },
 "nbformat": 4,
 "nbformat_minor": 5
}
