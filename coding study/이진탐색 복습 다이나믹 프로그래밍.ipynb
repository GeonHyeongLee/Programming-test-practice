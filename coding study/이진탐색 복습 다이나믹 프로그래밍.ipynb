{
 "cells": [
  {
   "cell_type": "code",
   "execution_count": null,
   "id": "dd3aea47",
   "metadata": {},
   "outputs": [],
   "source": [
    "# 떡볶이 떡 만들기\n",
    "\n",
    "n,m = map(int,input().split())\n",
    "m_list = list(map(int, input().split()))\n",
    "\n",
    "def binarySearch(m_list, start ,end, key):\n",
    "\n",
    "    while (start <= end):\n",
    "        mid = (start + end) // 2\n",
    "        m_sum = 0\n",
    "        \n",
    "        for i in range(n):\n",
    "            if m_list[i] > mid: # 대상 길이가 자를 길이보다 작을 때 생각\n",
    "                m_sum += m_list[i] - mid\n",
    "        if m_sum >= key:\n",
    "            result = mid\n",
    "            start = mid + 1\n",
    "        elif m_sum < key:\n",
    "            end = mid - 1\n",
    "    return result\n",
    "\n",
    "binarySearch(m_list,0 , max(m_list), m)"
   ]
  },
  {
   "cell_type": "code",
   "execution_count": null,
   "id": "c91b72b8",
   "metadata": {},
   "outputs": [],
   "source": []
  },
  {
   "cell_type": "markdown",
   "id": "6a80d89e",
   "metadata": {},
   "source": [
    "다이나믹 프로그래밍이란? \n",
    "메모리 공간을 약간 더 사용하여 연산 속도를 비약적으로 끌어올리는 방법이다.\n",
    "\n",
    "\n",
    "다이나믹 프로그래밍의 사용 조건\n",
    "1. 큰 문제를 작은 문제로 나눌 수 있다\n",
    "2. 작은 문제에서 구한 정답은 그것을 포함하는 큰 문제에서도 동일하다.\n",
    "\n"
   ]
  },
  {
   "cell_type": "markdown",
   "id": "bf4bb7de",
   "metadata": {},
   "source": [
    "피보나치 수열(재귀) - 재귀 함수 이용해 다이나믹 프로그래밍 소스코드를 작성하는 방법은\n",
    "탑다운(Top-Down) 방식이라 말한다."
   ]
  },
  {
   "cell_type": "code",
   "execution_count": null,
   "id": "d3413637",
   "metadata": {},
   "outputs": [],
   "source": [
    "# 1 1 2 3 5 8 13 21\n",
    "def fibo(n):\n",
    "    if (n ==1 or n==2):\n",
    "        return 1\n",
    "    return fibo(n-2) + fibo(n-1)\n",
    "\n",
    "fibo(10)\n",
    "        "
   ]
  },
  {
   "cell_type": "markdown",
   "id": "465314da",
   "metadata": {},
   "source": [
    "피보나치 수열(비재귀) - 반복문 이용하여 소스코드 작성하는 경우 작은 문제부터 차근차근\n",
    "답을 도출한다고 하여 보텀업(bottom-up) 방식이라고 말한다"
   ]
  },
  {
   "cell_type": "code",
   "execution_count": null,
   "id": "2788bf71",
   "metadata": {},
   "outputs": [],
   "source": [
    "def fibo(n):\n",
    "    a = 1\n",
    "    b = 1\n",
    "    if (n == 1 or n ==2):\n",
    "        return 1\n",
    "    else:\n",
    "        for i in range(n-3):\n",
    "            a, b = b, a + b\n",
    "    return a + b\n",
    "            \n",
    "fibo(100)"
   ]
  },
  {
   "cell_type": "markdown",
   "id": "8bc62529",
   "metadata": {},
   "source": [
    "피보나치 수열(메모이제이션 기법)\n",
    "\n",
    "메모이제이션 기법 : 한 번 구한 결과를 메모리 공간에서 메모해두고 같은 식을 다시\n",
    "호출하면 메모한 결과를 그대로 가져오는 기법이다. 캐싱이라고도 함"
   ]
  },
  {
   "cell_type": "code",
   "execution_count": null,
   "id": "ad52de30",
   "metadata": {},
   "outputs": [],
   "source": [
    "d = [0] * 100\n",
    "\n",
    "def fibo(n):\n",
    "    if n == 1 or n == 2:\n",
    "        return 1\n",
    "    if d[n] != 0:\n",
    "        return d[n]\n",
    "    \n",
    "    d[n] = fibo(n-1) + fibo(n-2)\n",
    "    return d[n]\n",
    "\n",
    "print(fibo(99))"
   ]
  },
  {
   "cell_type": "code",
   "execution_count": null,
   "id": "6115aecb",
   "metadata": {},
   "outputs": [],
   "source": [
    "# 다시\n",
    "d = [0] * 200\n",
    "\n",
    "def fibo(n):\n",
    "    if n == 1 or n==2:\n",
    "        return 1\n",
    "    \n",
    "    if d[n] != 0:\n",
    "        return d[n]\n",
    "    \n",
    "    d[n] = fibo(n-1) + fibo(n-2)\n",
    "    return d[n]\n",
    "\n",
    "print(fibo(190))"
   ]
  },
  {
   "cell_type": "code",
   "execution_count": null,
   "id": "9e747e99",
   "metadata": {},
   "outputs": [],
   "source": []
  },
  {
   "cell_type": "code",
   "execution_count": null,
   "id": "6e1ff8ab",
   "metadata": {},
   "outputs": [],
   "source": []
  },
  {
   "cell_type": "code",
   "execution_count": null,
   "id": "eb6dd449",
   "metadata": {},
   "outputs": [],
   "source": []
  },
  {
   "cell_type": "code",
   "execution_count": null,
   "id": "f833276a",
   "metadata": {},
   "outputs": [],
   "source": []
  },
  {
   "cell_type": "markdown",
   "id": "ecc938c2",
   "metadata": {},
   "source": [
    "1로 만들기"
   ]
  },
  {
   "cell_type": "code",
   "execution_count": null,
   "id": "efc70d28",
   "metadata": {},
   "outputs": [],
   "source": [
    "# 정수 x에 사용되는 연산\n",
    "# 1. 5로 나누어떨어지면 5로 나눈다\n",
    "# 2. 3으로 나누어떨어지면 3으로 나눈다\n",
    "# 3. 2로 나누어떨어지면 2로 나눈다\n",
    "# 4. 1을 뺀다\n",
    "# 5. 4개의 연산을 활용해 가장 적은 횟수로 1을 만들어라\n",
    "\n",
    "x = int(input())\n",
    "\n",
    "d = [0] * 300000\n",
    "\n",
    "def makeone(x):\n",
    "    count = 0\n",
    "    while (True):\n",
    "        if x % 5 == 0:\n",
    "            x = (x // 5)\n",
    "            count += 1\n",
    "            if (x == 1):\n",
    "                break\n",
    "        elif x % 3 == 0:\n",
    "            x //= 3\n",
    "            count += 1\n",
    "            if (x == 1):\n",
    "                break\n",
    "        elif x % 2 == 0:\n",
    "            x //= 2\n",
    "            count += 1\n",
    "            if (x == 1):\n",
    "                break\n",
    "        else:\n",
    "            x -= 1\n",
    "            count += 1\n",
    "            if (x == 1):\n",
    "                break\n",
    "            \n",
    "    return count\n",
    "\n",
    "makeone(x)"
   ]
  },
  {
   "cell_type": "code",
   "execution_count": null,
   "id": "a8244684",
   "metadata": {},
   "outputs": [],
   "source": [
    "d = [0] * 30000\n",
    "\n",
    "x = int(input())\n",
    "\n",
    "def makeone(x):\n",
    "    for i in range(2, x+1):\n",
    "        d[i] = d[i-1] + 1\n",
    "        \n",
    "        if (d[i] % 2 == 0):\n",
    "            d[i] = min(d[i], d[i//2]+1) # min을 사용하는 이유 기존 저장됬던\n",
    "            # d[i] 보다 작은 지 선택하기 위해서\n",
    "        elif (d[i] % 3 == 0):\n",
    "            d[i] = min(d[i], d[i//3]+1)\n",
    "        elif (d[i] % 5 == 0):\n",
    "            d[i] = min(d[i], d[i//5]+1)\n",
    "    return(d[x])\n",
    "\n",
    "makeone(x)"
   ]
  },
  {
   "cell_type": "code",
   "execution_count": 1,
   "id": "8e13d645",
   "metadata": {},
   "outputs": [
    {
     "name": "stdout",
     "output_type": "stream",
     "text": [
      "26\n"
     ]
    },
    {
     "data": {
      "text/plain": [
       "3"
      ]
     },
     "execution_count": 1,
     "metadata": {},
     "output_type": "execute_result"
    }
   ],
   "source": [
    "x = int(input())\n",
    "d = [0] * 300000\n",
    "\n",
    "def makeone(x):\n",
    "    for i in range(2, x+1):\n",
    "        d[i] = d[i-1] + 1\n",
    "        \n",
    "        if i % 2 == 0:\n",
    "            d[i] = min(d[i], d[i//2]+1)\n",
    "        elif i % 3 == 0:\n",
    "            d[i] = min(d[i], d[i//3]+1)\n",
    "        elif i % 5 == 0:\n",
    "            d[i] = min(d[i], d[i//5]+1)\n",
    "    return d[x]\n",
    "\n",
    "makeone(x)"
   ]
  },
  {
   "cell_type": "code",
   "execution_count": null,
   "id": "245616a4",
   "metadata": {},
   "outputs": [],
   "source": []
  },
  {
   "cell_type": "code",
   "execution_count": null,
   "id": "9b8bac0d",
   "metadata": {},
   "outputs": [],
   "source": []
  },
  {
   "cell_type": "code",
   "execution_count": 2,
   "id": "e6397c72",
   "metadata": {},
   "outputs": [
    {
     "name": "stdout",
     "output_type": "stream",
     "text": [
      "4\n",
      "1 3 1 5\n"
     ]
    },
    {
     "ename": "TypeError",
     "evalue": "unsupported operand type(s) for +: 'int' and 'types.GenericAlias'",
     "output_type": "error",
     "traceback": [
      "\u001b[1;31m---------------------------------------------------------------------------\u001b[0m",
      "\u001b[1;31mTypeError\u001b[0m                                 Traceback (most recent call last)",
      "Cell \u001b[1;32mIn[2], line 22\u001b[0m\n\u001b[0;32m     18\u001b[0m         d[i\u001b[38;5;241m+\u001b[39m\u001b[38;5;241m1\u001b[39m] \u001b[38;5;241m=\u001b[39m \u001b[38;5;28mmax\u001b[39m(d[i] \u001b[38;5;241m+\u001b[39m \u001b[38;5;28mlist\u001b[39m[i\u001b[38;5;241m-\u001b[39m\u001b[38;5;241m1\u001b[39m], d[i] \u001b[38;5;241m+\u001b[39m \u001b[38;5;28mlist\u001b[39m[i\u001b[38;5;241m-\u001b[39m\u001b[38;5;241m2\u001b[39m] \u001b[38;5;241m+\u001b[39m \u001b[38;5;28mlist\u001b[39m[i])\n\u001b[0;32m     20\u001b[0m     \u001b[38;5;28;01mreturn\u001b[39;00m d\n\u001b[1;32m---> 22\u001b[0m antman(n)\n",
      "Cell \u001b[1;32mIn[2], line 18\u001b[0m, in \u001b[0;36mantman\u001b[1;34m(n)\u001b[0m\n\u001b[0;32m     14\u001b[0m \u001b[38;5;28;01mdef\u001b[39;00m \u001b[38;5;21mantman\u001b[39m(n):\n\u001b[0;32m     15\u001b[0m       \u001b[38;5;66;03m# i-1번째 창고를 턴다면 i를 털 수 없고, i -2번째 창고를 턴다면 i를 털 수 있다\u001b[39;00m\n\u001b[0;32m     16\u001b[0m         \u001b[38;5;66;03m# 그러므로 max(list[i-1] , list[i-2] + list[i]) 이렇게 하면 큰 값만 선택할 것이다.\u001b[39;00m\n\u001b[0;32m     17\u001b[0m     \u001b[38;5;28;01mfor\u001b[39;00m i \u001b[38;5;129;01min\u001b[39;00m \u001b[38;5;28mrange\u001b[39m(\u001b[38;5;28mlen\u001b[39m(n_list)):\n\u001b[1;32m---> 18\u001b[0m         d[i\u001b[38;5;241m+\u001b[39m\u001b[38;5;241m1\u001b[39m] \u001b[38;5;241m=\u001b[39m \u001b[38;5;28mmax\u001b[39m(d[i] \u001b[38;5;241m+\u001b[39m \u001b[38;5;28mlist\u001b[39m[i\u001b[38;5;241m-\u001b[39m\u001b[38;5;241m1\u001b[39m], d[i] \u001b[38;5;241m+\u001b[39m \u001b[38;5;28mlist\u001b[39m[i\u001b[38;5;241m-\u001b[39m\u001b[38;5;241m2\u001b[39m] \u001b[38;5;241m+\u001b[39m \u001b[38;5;28mlist\u001b[39m[i])\n\u001b[0;32m     20\u001b[0m     \u001b[38;5;28;01mreturn\u001b[39;00m d\n",
      "\u001b[1;31mTypeError\u001b[0m: unsupported operand type(s) for +: 'int' and 'types.GenericAlias'"
     ]
    }
   ],
   "source": [
    "# 개미 전사\n",
    "\n",
    "# 더했을 때 가장 큰 녀석을 저장해가면서 비교한다\n",
    "# d[n]에는 n번째일때 합이 들어가는게 좋을 것이다\n",
    "# d[n+1] = d[n] + n_list[i] 이런 식이지 않을까?\n",
    "# 근데 이때 max로 d[n+1] = max(d[n]+n_list[i], d[n]+n_list[i+1]) 이걸로 넣으면 되지 않을까?\n",
    "# 근데 한 칸 띄고 하는 건 어떻게 표현하지? \n",
    "\n",
    "n = int(input())\n",
    "n_list = list(map(int,input().split()))\n",
    "\n",
    "d = [0] * 1000\n",
    "\n",
    "def antman(n):\n",
    "      # i-1번째 창고를 턴다면 i를 털 수 없고, i -2번째 창고를 턴다면 i를 털 수 있다\n",
    "        # 그러므로 max(list[i-1] , list[i-2] + list[i]) 이렇게 하면 큰 값만 선택할 것이다.\n",
    "    for i in range(len(n_list)):\n",
    "        d[i+1] = max(d[i] + list[i-1], d[i] + list[i-2] + list[i])\n",
    "        \n",
    "    return d\n",
    "\n",
    "antman(n)\n",
    "        "
   ]
  },
  {
   "cell_type": "code",
   "execution_count": 7,
   "id": "45ee753d",
   "metadata": {},
   "outputs": [
    {
     "name": "stdout",
     "output_type": "stream",
     "text": [
      "4\n",
      "1 3 1 5\n",
      "8\n"
     ]
    }
   ],
   "source": [
    "# 점화식 ai = max(ai-1, ai-2 + ki)\n",
    "\n",
    "n = int(input())\n",
    "n_list = list(map(int,input().split()))\n",
    "\n",
    "d = [0] * 100\n",
    "\n",
    "d[0] = n_list[0]\n",
    "d[1] = max(n_list[0], n_list[1])\n",
    "\n",
    "for i in range(2, n):\n",
    "    d[i] = max(d[i-1], d[i-2] + n_list[i])\n",
    "    \n",
    "print(d[n-1])"
   ]
  },
  {
   "cell_type": "code",
   "execution_count": 12,
   "id": "e16c0d6b",
   "metadata": {},
   "outputs": [
    {
     "name": "stdout",
     "output_type": "stream",
     "text": [
      "4\n",
      "1 3 1 5\n"
     ]
    },
    {
     "ename": "IndexError",
     "evalue": "list index out of range",
     "output_type": "error",
     "traceback": [
      "\u001b[1;31m---------------------------------------------------------------------------\u001b[0m",
      "\u001b[1;31mIndexError\u001b[0m                                Traceback (most recent call last)",
      "Cell \u001b[1;32mIn[12], line 10\u001b[0m\n\u001b[0;32m      7\u001b[0m d[\u001b[38;5;241m1\u001b[39m] \u001b[38;5;241m=\u001b[39m \u001b[38;5;28mmax\u001b[39m(n_list[\u001b[38;5;241m0\u001b[39m], n_list[\u001b[38;5;241m1\u001b[39m])\n\u001b[0;32m      9\u001b[0m \u001b[38;5;28;01mfor\u001b[39;00m i \u001b[38;5;129;01min\u001b[39;00m \u001b[38;5;28mrange\u001b[39m(\u001b[38;5;241m2\u001b[39m, n\u001b[38;5;241m+\u001b[39m\u001b[38;5;241m1\u001b[39m):\n\u001b[1;32m---> 10\u001b[0m     d[i] \u001b[38;5;241m=\u001b[39m \u001b[38;5;28mmax\u001b[39m(d[i\u001b[38;5;241m-\u001b[39m\u001b[38;5;241m1\u001b[39m], d[i\u001b[38;5;241m-\u001b[39m\u001b[38;5;241m2\u001b[39m] \u001b[38;5;241m+\u001b[39m n_list[i])\n\u001b[0;32m     12\u001b[0m \u001b[38;5;28mprint\u001b[39m(d[n])\n",
      "\u001b[1;31mIndexError\u001b[0m: list index out of range"
     ]
    }
   ],
   "source": [
    "\n",
    "n = int(input())\n",
    "n_list = list(map(int,input().split()))\n",
    "\n",
    "d = [0] * 1000\n",
    "\n",
    "d[0] = n_list[0]\n",
    "d[1] = max(n_list[0], n_list[1])\n",
    "\n",
    "for i in range(2, n):\n",
    "    d[i] = max(d[i-1], d[i-2] + n_list[i])\n",
    "\n",
    "print(d[n-1 ])"
   ]
  },
  {
   "cell_type": "code",
   "execution_count": null,
   "id": "8e44c57f",
   "metadata": {},
   "outputs": [],
   "source": []
  }
 ],
 "metadata": {
  "kernelspec": {
   "display_name": "Python 3 (ipykernel)",
   "language": "python",
   "name": "python3"
  },
  "language_info": {
   "codemirror_mode": {
    "name": "ipython",
    "version": 3
   },
   "file_extension": ".py",
   "mimetype": "text/x-python",
   "name": "python",
   "nbconvert_exporter": "python",
   "pygments_lexer": "ipython3",
   "version": "3.11.4"
  }
 },
 "nbformat": 4,
 "nbformat_minor": 5
}
