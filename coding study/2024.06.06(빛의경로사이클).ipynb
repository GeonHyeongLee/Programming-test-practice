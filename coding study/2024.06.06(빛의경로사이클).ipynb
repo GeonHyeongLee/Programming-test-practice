{
 "cells": [
  {
   "cell_type": "code",
   "execution_count": null,
   "id": "b5e814bf",
   "metadata": {},
   "outputs": [],
   "source": [
    "dx = (0,-1,0,1)\n",
    "dy = (1,0,-1,0)\n",
    "# 북쪽 0 동쪽 1 남쪽 2 서쪽 3\n",
    "def solution(grid):\n",
    "    answer = []\n",
    "    ly, lx = len(grid), len(grid[0])\n",
    "    \n",
    "    # 4방향 방문 기록 리스트 : y*x*4\n",
    "    visited = [[[False]*4 for _ in range(lx)] for _ in range(ly)]\n",
    "    \n",
    "    # 모든 좌표에 대하여 탐색\n",
    "    for y in range(ly):\n",
    "        for x in range(lx):\n",
    "            # (y,x) 좌표에 대해 4방향 탐색\n",
    "            for d in range(4):\n",
    "                # 해당 좌표-방향이 기존에 사용된 경우\n",
    "                if visited[y][x][d]:\n",
    "                    continue\n",
    "                \n",
    "                # 사용되지 않은 좌표-방향인 경우\n",
    "                count = 0\n",
    "                ny,nx = y,x\n",
    "                # 빛을 이동 시켜가며 탐색\n",
    "                while not visited[ny][nx][d]:\n",
    "                    visited[ny][nx][d] = True\n",
    "                    count += 1\n",
    "                    if grid[ny][nx] == 'S': # S라면 방향 변경 x\n",
    "                        pass\n",
    "                    elif grid[ny][nx] == 'L': # L의 경우 방향 반 시계 방향 0->3 1->0 2->1\n",
    "                        d = (d-1) % 4\n",
    "                    elif grid[ny][nx] == 'R':\n",
    "                        d = (d+1) % 4\n",
    "                        \n",
    "                    # 좌표의 길이로 % 연산을 하여 격자를 벗어난 경우에도 자리를 찾아가도록 함\n",
    "                    ny = (ny + dy[d]) % ly\n",
    "                    nx = (nx + dx[d]) % lx\n",
    "                answer.append(count)\n",
    "    answer = sorted(answer)\n",
    "    return answer"
   ]
  }
 ],
 "metadata": {
  "kernelspec": {
   "display_name": "Python 3 (ipykernel)",
   "language": "python",
   "name": "python3"
  },
  "language_info": {
   "codemirror_mode": {
    "name": "ipython",
    "version": 3
   },
   "file_extension": ".py",
   "mimetype": "text/x-python",
   "name": "python",
   "nbconvert_exporter": "python",
   "pygments_lexer": "ipython3",
   "version": "3.11.4"
  }
 },
 "nbformat": 4,
 "nbformat_minor": 5
}
