{
 "cells": [
  {
   "cell_type": "markdown",
   "id": "0ca827b1",
   "metadata": {},
   "source": [
    "웹사이트가 인터넷에 연결되는 방법과 브라우저가 사용자에게 정보를 표시하는\n",
    "방법을 배운다"
   ]
  },
  {
   "cell_type": "markdown",
   "id": "c9419062",
   "metadata": {},
   "source": [
    " 1. HTML은 웹 페이지의 기본 구조와 내용을 만드는 데 사용된다. 따라서 HTML에는 웹\n",
    " 사이트의 단락에 쓰여진 단어와 같이 웹사이트에 표시되는 정보가 포함되어 있다.\n",
    " 모든 인터넷 상 웹사이트마다 존재한다. 기본적으로 웹페이지의 기초가 된다"
   ]
  },
  {
   "cell_type": "markdown",
   "id": "37bc2cbd",
   "metadata": {},
   "source": [
    "2. 웹스크래핑을 하기전에는 항상 허락을 받아야 한다. 스크래핑 시도나 요청을 너무\n",
    "많이 한다면 IP 주소가 차단되어 일반 브라우저로는 해당 사이트를 방문할 수 없게 된다\n",
    "그러니 스크래핑 하고자 하는 특정 웹사이트에 대한 권한이나 규칙 또는 지침 페이지를\n",
    "항상 확실히 확인해야 한다"
   ]
  },
  {
   "cell_type": "markdown",
   "id": "dafb2ffa",
   "metadata": {},
   "source": [
    "3. 웹스크래핑에는 한계가 있다. 일반적으로 모든 웹사이트는 고유하기에 웹스크래핑\n",
    "스크립트 역시 고유하다. 한 사이트의 스크립트를 다른 곳에 써먹을 수 없다."
   ]
  },
  {
   "cell_type": "markdown",
   "id": "3b92f840",
   "metadata": {},
   "source": [
    "4. HTML 코드 예시\n",
    "<!DOCTYPE html>\n",
    "<html>\n",
    "    <head>\n",
    "        <title>Title on Browser Tab<\\title>\n",
    "    <\\head>\n",
    "    <body>\n",
    "        <h1> Website Header <\\h1>\n",
    "        <p> Some Paragraph <\\p>\n",
    "    <body>\n",
    "<\\html>"
   ]
  },
  {
   "cell_type": "markdown",
   "id": "ea96c107",
   "metadata": {},
   "source": [
    "정리\n",
    "HTML 파일은 정보를 포함한다\n",
    "\n",
    "CSS 파일은 스타일링 정보를 포함한다\n",
    "\n",
    "HTML과 CSS 태그를 사용하여 페이지의 특정 정보를 찾을 수 있다\n",
    "\n",
    "파이썬의 웹스크래핑에 대한 전체 개념은 파이썬으로 특정 CSS 태그 또는\n",
    "HTML 요소를 찾아 이를 기반으로 정보를 얻는 것이다."
   ]
  },
  {
   "cell_type": "code",
   "execution_count": null,
   "id": "7be99788",
   "metadata": {},
   "outputs": [],
   "source": []
  },
  {
   "cell_type": "code",
   "execution_count": 3,
   "id": "14d1e4f2",
   "metadata": {},
   "outputs": [],
   "source": [
    "import requests"
   ]
  },
  {
   "cell_type": "code",
   "execution_count": 4,
   "id": "1d9e0a5d",
   "metadata": {},
   "outputs": [],
   "source": [
    "import bs4"
   ]
  },
  {
   "cell_type": "code",
   "execution_count": null,
   "id": "35f05d32",
   "metadata": {},
   "outputs": [],
   "source": []
  }
 ],
 "metadata": {
  "kernelspec": {
   "display_name": "Python 3 (ipykernel)",
   "language": "python",
   "name": "python3"
  },
  "language_info": {
   "codemirror_mode": {
    "name": "ipython",
    "version": 3
   },
   "file_extension": ".py",
   "mimetype": "text/x-python",
   "name": "python",
   "nbconvert_exporter": "python",
   "pygments_lexer": "ipython3",
   "version": "3.11.4"
  }
 },
 "nbformat": 4,
 "nbformat_minor": 5
}
