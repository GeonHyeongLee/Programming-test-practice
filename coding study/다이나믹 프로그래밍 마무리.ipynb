{
 "cells": [
  {
   "cell_type": "code",
   "execution_count": 6,
   "id": "77033dcf",
   "metadata": {},
   "outputs": [
    {
     "name": "stdout",
     "output_type": "stream",
     "text": [
      "4\n",
      "1 3 1 5\n",
      "8\n"
     ]
    }
   ],
   "source": [
    "# 개미전사 복습\n",
    "\n",
    "# 첫째 줄에 식량 창고 개수 N, 둘째 줄에 식량창고 저장된 식량 개수 K가 주어진다\n",
    "\n",
    "# 한 창고 훔쳤으면 양 옆 창고는 훔칠 수 없다.\n",
    "\n",
    "# 그러면 1 3 5 7 9 이렇게 있다고 한다면 처음 인덱스 0 혹은 1 부터 시작해서 n을 더하고 싶다면 n-1을 더했을 때보다 큰 값을 선택해나가는 식으로\n",
    "\n",
    "d = [0] * 1000\n",
    "\n",
    "n = int(input())\n",
    "n_list = list(map(int, input().split()))\n",
    "\n",
    "\n",
    "d[0] = n_list[0]\n",
    "d[1] = n_list[1]\n",
    "\n",
    "for i in range(2, n):\n",
    "    d[i] = max(n_list[i] + d[i-2], d[i-1]) # d[i-2]에 n_list[i]를 더한게 적어도 d[i-1]보다는 커야지 i로 넘어가는 게 맞으니까 이렇게\n",
    "    \n",
    "print(d[n-1])"
   ]
  },
  {
   "cell_type": "code",
   "execution_count": null,
   "id": "de14dc4b",
   "metadata": {},
   "outputs": [],
   "source": []
  },
  {
   "cell_type": "code",
   "execution_count": 12,
   "id": "16419fb6",
   "metadata": {},
   "outputs": [
    {
     "name": "stdout",
     "output_type": "stream",
     "text": [
      "3\n",
      "5\n"
     ]
    }
   ],
   "source": [
    "# 바닥 공사\n",
    "\n",
    "\n",
    "d = [0] * 1000\n",
    "\n",
    "n = int(input())\n",
    "\n",
    "d[0] = 1\n",
    "d[1] = 3\n",
    "\n",
    "for i in range(2, n):\n",
    "    d[i] = d[i-1] + d[i-2] * 2 # d[i]를 채울 때는 d[i-1]은 1칸 부족한 경우니까 방법은 1*2 타일 하나 쓰는 거니까 똑같은 방법으로 할 것이고\n",
    "    # d[i-2]는 2칸 부족할 때 가능한 경우의 수가 2*1타일 두 개 쓰는 경우랑 2*2 타일 하나 쓰는 경우로 2배만큼 경우의 수가 가능할 것이니까\n",
    "    # 결국 d[i] = d[i-1] + 2 * d[i-2]가 될 것이다. 그럼 왜 1*2 타일가 두 번 쓰는 경우는 포함이 안되냐? 하면 그건 d[i-1]에 이미 포함된\n",
    "    # 경우의 수일 것이기 때문이다.\n",
    "\n",
    "print(d[n-1] % 7957695)\n",
    "    \n",
    "    "
   ]
  },
  {
   "cell_type": "code",
   "execution_count": 13,
   "id": "ce26fa8e",
   "metadata": {},
   "outputs": [
    {
     "name": "stdout",
     "output_type": "stream",
     "text": [
      "3\n",
      "5\n"
     ]
    }
   ],
   "source": [
    "# 다시\n",
    "\n",
    "n = int(input())\n",
    "\n",
    "d = [0] * 1000\n",
    "\n",
    "d[0] = 1\n",
    "d[1] = 3\n",
    "\n",
    "for i in range(2, n):\n",
    "    d[i] = d[i-1] + 2 * d[i-2]\n",
    "\n",
    "print(d[n-1])"
   ]
  },
  {
   "cell_type": "code",
   "execution_count": null,
   "id": "8c9ec65c",
   "metadata": {},
   "outputs": [],
   "source": []
  },
  {
   "cell_type": "code",
   "execution_count": null,
   "id": "0e901ceb",
   "metadata": {},
   "outputs": [],
   "source": []
  },
  {
   "cell_type": "code",
   "execution_count": null,
   "id": "56280812",
   "metadata": {},
   "outputs": [],
   "source": [
    "# 효율적인 화폐 구성"
   ]
  },
  {
   "cell_type": "code",
   "execution_count": 22,
   "id": "028374f7",
   "metadata": {},
   "outputs": [
    {
     "name": "stdout",
     "output_type": "stream",
     "text": [
      "2 15\n",
      "2\n",
      "3\n",
      "5\n"
     ]
    }
   ],
   "source": [
    "n, m = map(int, input().split())\n",
    "n_list = []\n",
    "for i in range(n):\n",
    "    n_list.append(int(input()))\n",
    "\n",
    "d = [100001] * (m+1)\n",
    "\n",
    "d[0] = 0\n",
    "\n",
    "for i in range(1,m+1):\n",
    "    for j in range(n):\n",
    "        if i - n_list[j] >= 0 and d[i- n_list[j]] != 100001:\n",
    "            d[i] = min(d[i], d[i-n_list[j]] + 1)\n",
    "\n",
    "if d[m] == 100001:\n",
    "    print(-1)\n",
    "else:\n",
    "    print(d[m])"
   ]
  },
  {
   "cell_type": "code",
   "execution_count": 30,
   "id": "0244225d",
   "metadata": {},
   "outputs": [
    {
     "name": "stdout",
     "output_type": "stream",
     "text": [
      "2 15\n",
      "2\n",
      "3\n",
      "5\n"
     ]
    }
   ],
   "source": [
    "# 다시 해보자\n",
    "# 이 문제의 요지는 d를 모두 굉장히 큰 숫자로 설정해놓았을 때\n",
    "# d[i] = min(d[i], d[i- 리스트 숫자] + 1)을 통해서 count를 증가시켜 나가는 것이다.\n",
    "# 카운트를 증가시킬 때의 조건으로는 i - 리스트 숫자를 뺐을 때 0 이상이어야 될 것이고, 또한 d[i - 리스트 숫자]를 했을 때 처음 설정한 큰 수가\n",
    "# 아니어야 될 것이다. \n",
    "\n",
    "n , m = map(int, input().split())\n",
    "\n",
    "n_list = []\n",
    "for i in range(n):\n",
    "    n_list.append(int(input()))\n",
    "    \n",
    "d = [10001] * (m+1)\n",
    "\n",
    "d[0] = 0\n",
    "\n",
    "for i in range(1, m+1):\n",
    "    for j in range(n):\n",
    "        if d[i - n_list[j]] != 10001 and (i - n_list[j]) >= 0:\n",
    "            d[i] = min(d[i], d[i-n_list[j]]+1)\n",
    "\n",
    "if d[m] == 10001:\n",
    "    print(-1)\n",
    "else:\n",
    "    print(d[m])"
   ]
  },
  {
   "cell_type": "code",
   "execution_count": 34,
   "id": "d8db5ea5",
   "metadata": {},
   "outputs": [
    {
     "name": "stdout",
     "output_type": "stream",
     "text": [
      "3 7\n",
      "2\n",
      "3\n",
      "5\n",
      "2\n"
     ]
    }
   ],
   "source": [
    "# 마지막으로 한 번 더\n",
    "\n",
    "n, m = map(int , input().split())\n",
    "\n",
    "n_list = []\n",
    "for i in range(n):\n",
    "    n_list.append(int(input()))\n",
    "    \n",
    "d = [1000] * (m+1)\n",
    "d[0] = 0\n",
    "\n",
    "for i in range(1,m+1):\n",
    "    for j in range(n):\n",
    "        if d[i - n_list[j]] != 1000 and i - n_list[j] >= 0:\n",
    "            d[i] = min(d[i], d[i - n_list[j]]+1)\n",
    "if d[m] == 1000:\n",
    "    print(-1)\n",
    "else:\n",
    "    print(d[m])"
   ]
  },
  {
   "cell_type": "code",
   "execution_count": null,
   "id": "66ce1f72",
   "metadata": {},
   "outputs": [],
   "source": []
  }
 ],
 "metadata": {
  "kernelspec": {
   "display_name": "Python 3 (ipykernel)",
   "language": "python",
   "name": "python3"
  },
  "language_info": {
   "codemirror_mode": {
    "name": "ipython",
    "version": 3
   },
   "file_extension": ".py",
   "mimetype": "text/x-python",
   "name": "python",
   "nbconvert_exporter": "python",
   "pygments_lexer": "ipython3",
   "version": "3.11.4"
  }
 },
 "nbformat": 4,
 "nbformat_minor": 5
}
