{
 "cells": [
  {
   "cell_type": "code",
   "execution_count": null,
   "id": "0ce42f28",
   "metadata": {},
   "outputs": [],
   "source": [
    "# 내가 한 거\n",
    "n = int(input())\n",
    "n_list = list(map(int,input().split()))\n",
    "m = int(input())\n",
    "m_list = list(map(int, input().split()))\n",
    "\n",
    "def binarySearch(array,start, end, key):\n",
    "    while (start <= end):\n",
    "        mid = (start + end) // 2\n",
    "        \n",
    "        if array[mid] == key:\n",
    "            return \"yes\"\n",
    "            break\n",
    "        elif array[mid] > key:\n",
    "            end = mid - 1\n",
    "        elif array[mid] < key:\n",
    "            start = mid + 1\n",
    "    return \"no\"\n",
    "\n",
    "n_list = sorted(n_list)\n",
    "m_list = sorted(m_list)\n",
    "\n",
    "for i in range(m):\n",
    "    result =binarySearch(n_list, 0, len(n_list)-1, m_list[i])\n",
    "    print(result, end = ' ' )"
   ]
  },
  {
   "cell_type": "code",
   "execution_count": null,
   "id": "08771bcb",
   "metadata": {},
   "outputs": [],
   "source": [
    "# 정답지\n",
    "# 이진 탐색\n",
    "def binary_search(array, target, start, end):\n",
    "    while start <= end:\n",
    "        mid = (start + end) // 2\n",
    "        \n",
    "        if (array[mid] == target):\n",
    "            return mid\n",
    "        elif array[mid] > target:\n",
    "            end = mid - 1\n",
    "        elif array[mid] < target:\n",
    "            start = mid + 1\n",
    "    return None\n",
    "\n",
    "n = int(input())\n",
    "\n",
    "array = list(map(int,input().split()))\n",
    "array.sort()\n",
    "\n",
    "m = int(input())\n",
    "\n",
    "x = list(map(int, input().split()))\n",
    "\n",
    "for i in x:\n",
    "    result = binary_search(array, i, 0 , n- 1)\n",
    "    if result != None:\n",
    "        print(\"yes\", end = ' ')\n",
    "    else:\n",
    "        print(\"no\", end = ' ')"
   ]
  },
  {
   "cell_type": "code",
   "execution_count": null,
   "id": "76347821",
   "metadata": {},
   "outputs": [],
   "source": [
    "# 계수 정렬\n",
    "\n",
    "n = int(input())\n",
    "\n",
    "array = [0] * 1000001\n",
    "\n",
    "for i in input().split():\n",
    "    array[int(i)] = 1\n",
    "\n",
    "m = int(input())\n",
    "x = list(map(int,input().split()))\n",
    "\n",
    "for i in x:\n",
    "    if array[i] == 1:\n",
    "        print('yes', end = ' ')\n",
    "    else:\n",
    "        print('no', end = ' ')"
   ]
  },
  {
   "cell_type": "code",
   "execution_count": null,
   "id": "4b592725",
   "metadata": {},
   "outputs": [],
   "source": [
    "# 집합 자료형 이용\n",
    "\n",
    "n = int(input())\n",
    "array = set(map(int, input().split()))\n",
    "\n",
    "m = int(input())\n",
    "x = list(map(int, input().split()))\n",
    "\n",
    "for i in x:\n",
    "    if i in array:\n",
    "        print(\"yes\", end = ' ')\n",
    "    else:\n",
    "        print(\"no\", end = ' ')"
   ]
  },
  {
   "cell_type": "code",
   "execution_count": null,
   "id": "71f28f1f",
   "metadata": {},
   "outputs": [],
   "source": []
  },
  {
   "cell_type": "code",
   "execution_count": 1,
   "id": "16c13567",
   "metadata": {},
   "outputs": [
    {
     "name": "stdout",
     "output_type": "stream",
     "text": [
      "4 6\n",
      "19 15 10 17\n",
      "15\n"
     ]
    }
   ],
   "source": [
    "# 이진 탐색 알고리즘으로 시작점은 0, 끝점은 n_list에서 가장 큰 녀석, 중간점으로 계산했을 때 크다면 더 높이, 작다면 더 낮은 높이로 옮겨간다\n",
    "\n",
    "n, m = map(int, input().split())\n",
    "\n",
    "n_list = list(map(int, input().split()))\n",
    "\n",
    "def binarySearch(array, first, end, key):\n",
    "    while (first <= end):\n",
    "        mid = (first + end) // 2\n",
    "        n_sum = 0\n",
    "        for i in range(n):\n",
    "            if array[i] > mid:\n",
    "                n_sum += (array[i] - mid)\n",
    "        \n",
    "        if n_sum == key:\n",
    "            return mid\n",
    "        \n",
    "        elif n_sum > key:\n",
    "            first = mid + 1\n",
    "        \n",
    "        elif n_sum < key:\n",
    "            end = mid - 1\n",
    "    return end\n",
    "\n",
    "\n",
    "print(binarySearch(n_list, 0, n_list[-1], m))"
   ]
  },
  {
   "cell_type": "code",
   "execution_count": null,
   "id": "7e214f9d",
   "metadata": {},
   "outputs": [],
   "source": [
    "# 답안 예시\n",
    "\n",
    "n, m = map(int,input().split())\n",
    "array = list(map(int,input().split()))\n",
    "\n",
    "start = 0\n",
    "end = max(array)\n",
    "\n",
    "result = 0\n",
    "while (start <= end):\n",
    "    total = 0\n",
    "    mid = (start + end) // 2\n",
    "    for x in array:\n",
    "        if x > mid:\n",
    "            total += x - mid\n",
    "    if total < m:\n",
    "        end = mid - 1\n",
    "    else:\n",
    "        result = mid\n",
    "        start = mid + 1\n",
    "print(result)"
   ]
  }
 ],
 "metadata": {
  "kernelspec": {
   "display_name": "Python 3 (ipykernel)",
   "language": "python",
   "name": "python3"
  },
  "language_info": {
   "codemirror_mode": {
    "name": "ipython",
    "version": 3
   },
   "file_extension": ".py",
   "mimetype": "text/x-python",
   "name": "python",
   "nbconvert_exporter": "python",
   "pygments_lexer": "ipython3",
   "version": "3.11.4"
  }
 },
 "nbformat": 4,
 "nbformat_minor": 5
}
