{
 "cells": [
  {
   "cell_type": "markdown",
   "id": "9cce5c13",
   "metadata": {},
   "source": [
    "프로그래머스 기초 문제 15일차"
   ]
  },
  {
   "cell_type": "code",
   "execution_count": 1,
   "id": "b07b716d",
   "metadata": {},
   "outputs": [],
   "source": [
    "# 조건 맞게 수열 변환하기 1\n",
    "def solution(arr):\n",
    "    answer = []\n",
    "    \n",
    "    for i in range(len(arr)):\n",
    "        if arr[i] >= 50 and arr[i] % 2 == 0:\n",
    "            answer.append(arr[i]/2)\n",
    "        \n",
    "        elif arr[i] < 50 and arr[i] % 2 == 1:\n",
    "            answer.append(arr[i]*2)\n",
    "        \n",
    "        else:\n",
    "            answer.append(arr[i])\n",
    "    return answer"
   ]
  },
  {
   "cell_type": "code",
   "execution_count": 2,
   "id": "3c821e40",
   "metadata": {},
   "outputs": [],
   "source": [
    "# 조건 맞게 수열 변환하기 2\n",
    "def solution(arr):\n",
    "    for i, v in enumerate(arr):\n",
    "        if v >= 50 and v % 2 == 0:\n",
    "            arr[i] /= 2\n",
    "        elif v < 50 and v % 2 ==  1:\n",
    "            arr[i] *= 2\n",
    "    return arr"
   ]
  },
  {
   "cell_type": "code",
   "execution_count": null,
   "id": "7afbf9d4",
   "metadata": {},
   "outputs": [],
   "source": [
    "# 1로 만들기\n",
    "def solution(arr):\n",
    "    for i,v in enumerate(arr):\n",
    "        if v >= 50 and v % 2 == 0:\n",
    "            arr[i] /= 2\n",
    "        elif v < 50 and v % 2 == 1:\n",
    "            arr[i] *= 2\n",
    "            arr[i] += 1\n",
    "        if arr[i] == arr[i+1]:\n",
    "            return arr[i]"
   ]
  },
  {
   "cell_type": "code",
   "execution_count": null,
   "id": "e72d784b",
   "metadata": {},
   "outputs": [],
   "source": [
    "# 길이에 따른 연산\n",
    "def solution(arr):\n",
    "    answer = 0\n",
    "    old = arr\n",
    "    while(True):\n",
    "        new = []\n",
    "        for i in old:\n",
    "            if i>=50 and i%2 == 0:\n",
    "                i = i/2\n",
    "            elif i<50 and i%2 == 1:\n",
    "                i = i*2 + 1\n",
    "            new.append(int(i))\n",
    "        if old == new:\n",
    "            break\n",
    "        else:\n",
    "            old = new\n",
    "            answer += 1\n",
    "    return answe"
   ]
  },
  {
   "cell_type": "code",
   "execution_count": 3,
   "id": "92c8eb2f",
   "metadata": {},
   "outputs": [],
   "source": [
    "# 원하는 문자열 찾기\n",
    "def solution(myString, pat):\n",
    "    return int(pat.upper() in myString.upper())"
   ]
  },
  {
   "cell_type": "code",
   "execution_count": 4,
   "id": "4856a1e8",
   "metadata": {},
   "outputs": [],
   "source": [
    "# [pccp 기출문제] 1번 붕대감기\n",
    "# 붕대 감기 t초 * x회복 끝까지 할 시 t * x + y\n",
    "# 공격 받으면 회복 불가, 체력 0 이하시 사망, 체력 회복 불가\n",
    "# 시전시간, 회복량, 추가회복량 (t,x,y)는 bandage\n",
    "# 최대체력 health, 몬스터 공격시간과 피해량 attacks\n",
    "# 남은 체력은 return해준다\n",
    "# 만약 사망시 return -1\n",
    "def solution(bandage, health, attacks):\n",
    "    real_health = health\n",
    "    for i in range(len(attacks)):\n",
    "        if real_health <= health:\n",
    "            real_health -= attacks[i][1]\n",
    "            real_health += bandage[1] * attacks[i][0]\n",
    "            if attacks[i][0] > bandage[0]:\n",
    "                real_health += bandage[2]\n",
    "        \n",
    "    if real_health <= 0:\n",
    "        return -1\n",
    "    else:\n",
    "        return real_health"
   ]
  },
  {
   "cell_type": "code",
   "execution_count": 9,
   "id": "9b6800cd",
   "metadata": {},
   "outputs": [],
   "source": [
    "# [pccp 기출문제] 1번 붕대감기\n",
    "# 붕대 감기 t초 * x회복 끝까지 할 시 t * x + y\n",
    "# 공격 받으면 회복 불가, 체력 0 이하시 사망, 체력 회복 불가\n",
    "# 시전시간, 회복량, 추가회복량 (t,x,y)는 bandage\n",
    "# 최대체력 health, 몬스터 공격시간과 피해량 attacks\n",
    "# 남은 체력은 return해준다\n",
    "# 만약 사망시 return -1\n",
    "def solution(bandage, health, attacks):\n",
    "    hp = health\n",
    "    start = 1\n",
    "    for i, j in attacks:\n",
    "        hp += ((i-start) // bandage[0]) * badnage[2] + (i-start) * bandage[1]\n",
    "        start = i + 1\n",
    "        if hp >= health:\n",
    "            hp = health\n",
    "        hp -= j\n",
    "        if hp <= 0:\n",
    "            return -1\n",
    "    return hp"
   ]
  },
  {
   "cell_type": "code",
   "execution_count": 10,
   "id": "711aff2d",
   "metadata": {},
   "outputs": [
    {
     "name": "stdout",
     "output_type": "stream",
     "text": [
      "[2, 10]\n"
     ]
    }
   ],
   "source": []
  },
  {
   "cell_type": "code",
   "execution_count": null,
   "id": "48327a3f",
   "metadata": {},
   "outputs": [],
   "source": []
  },
  {
   "cell_type": "code",
   "execution_count": null,
   "id": "e239a2f2",
   "metadata": {},
   "outputs": [],
   "source": []
  },
  {
   "cell_type": "code",
   "execution_count": null,
   "id": "56ef2cbb",
   "metadata": {},
   "outputs": [],
   "source": []
  },
  {
   "cell_type": "code",
   "execution_count": null,
   "id": "b1654060",
   "metadata": {},
   "outputs": [],
   "source": []
  },
  {
   "cell_type": "code",
   "execution_count": null,
   "id": "08c822d0",
   "metadata": {},
   "outputs": [],
   "source": []
  },
  {
   "cell_type": "code",
   "execution_count": null,
   "id": "3edd571e",
   "metadata": {},
   "outputs": [],
   "source": []
  },
  {
   "cell_type": "code",
   "execution_count": null,
   "id": "32126a0d",
   "metadata": {},
   "outputs": [],
   "source": []
  },
  {
   "cell_type": "code",
   "execution_count": null,
   "id": "aa5ddeeb",
   "metadata": {},
   "outputs": [],
   "source": []
  },
  {
   "cell_type": "code",
   "execution_count": null,
   "id": "b3297711",
   "metadata": {},
   "outputs": [],
   "source": []
  },
  {
   "cell_type": "code",
   "execution_count": null,
   "id": "fadbfc1d",
   "metadata": {},
   "outputs": [],
   "source": []
  },
  {
   "cell_type": "code",
   "execution_count": null,
   "id": "d5506c4e",
   "metadata": {},
   "outputs": [],
   "source": []
  },
  {
   "cell_type": "code",
   "execution_count": null,
   "id": "21c8e0d7",
   "metadata": {},
   "outputs": [],
   "source": []
  },
  {
   "cell_type": "code",
   "execution_count": null,
   "id": "fcdbac85",
   "metadata": {},
   "outputs": [],
   "source": []
  },
  {
   "cell_type": "code",
   "execution_count": null,
   "id": "b6873370",
   "metadata": {},
   "outputs": [],
   "source": []
  },
  {
   "cell_type": "code",
   "execution_count": null,
   "id": "4686ca06",
   "metadata": {},
   "outputs": [],
   "source": []
  },
  {
   "cell_type": "code",
   "execution_count": null,
   "id": "fb94e302",
   "metadata": {},
   "outputs": [],
   "source": []
  }
 ],
 "metadata": {
  "kernelspec": {
   "display_name": "Python 3 (ipykernel)",
   "language": "python",
   "name": "python3"
  },
  "language_info": {
   "codemirror_mode": {
    "name": "ipython",
    "version": 3
   },
   "file_extension": ".py",
   "mimetype": "text/x-python",
   "name": "python",
   "nbconvert_exporter": "python",
   "pygments_lexer": "ipython3",
   "version": "3.11.4"
  }
 },
 "nbformat": 4,
 "nbformat_minor": 5
}
