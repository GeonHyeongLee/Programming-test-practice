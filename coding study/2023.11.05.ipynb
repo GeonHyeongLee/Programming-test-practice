{
 "cells": [
  {
   "cell_type": "markdown",
   "id": "8c3d1fe2",
   "metadata": {},
   "source": [
    "if __name__ == \"__main__\"이란 무엇인가\n",
    "name은 내장변수, 파일의 이름에 따라 내장 변수 name이 main과 같도록 할당한다\n",
    "즉, 이름 변수에 문자열이 할당된다는 것이고 if를 통해 서로 동일한지 확인한다.\n",
    " "
   ]
  }
 ],
 "metadata": {
  "kernelspec": {
   "display_name": "Python 3 (ipykernel)",
   "language": "python",
   "name": "python3"
  },
  "language_info": {
   "codemirror_mode": {
    "name": "ipython",
    "version": 3
   },
   "file_extension": ".py",
   "mimetype": "text/x-python",
   "name": "python",
   "nbconvert_exporter": "python",
   "pygments_lexer": "ipython3",
   "version": "3.11.4"
  }
 },
 "nbformat": 4,
 "nbformat_minor": 5
}
