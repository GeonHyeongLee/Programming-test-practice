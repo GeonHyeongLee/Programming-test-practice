{
 "cells": [
  {
   "cell_type": "markdown",
   "id": "415fa2e8",
   "metadata": {},
   "source": [
    "pillow 라이브러리로 이미지 작업을 수행하는 방법\n",
    "\n",
    "pillow 라이브러리를 사용하여 이미지 파일을 열고 저장하는 방법과 이미지의 일부\n",
    "영역을 가져오거나 이미지가 다른 부분과 겹치거나 투명하게 보이는 상호작용형 \n",
    "이미지를 알아본다"
   ]
  },
  {
   "cell_type": "markdown",
   "id": "31a12d31",
   "metadata": {},
   "source": [
    "나머지는 자료집에 있는 14-Working-with-Images로"
   ]
  }
 ],
 "metadata": {
  "kernelspec": {
   "display_name": "Python 3 (ipykernel)",
   "language": "python",
   "name": "python3"
  },
  "language_info": {
   "codemirror_mode": {
    "name": "ipython",
    "version": 3
   },
   "file_extension": ".py",
   "mimetype": "text/x-python",
   "name": "python",
   "nbconvert_exporter": "python",
   "pygments_lexer": "ipython3",
   "version": "3.11.4"
  }
 },
 "nbformat": 4,
 "nbformat_minor": 5
}
